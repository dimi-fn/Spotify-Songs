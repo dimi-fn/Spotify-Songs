{
  "nbformat": 4,
  "nbformat_minor": 0,
  "metadata": {
    "kernelspec": {
      "display_name": "Python 3",
      "language": "python",
      "name": "python3"
    },
    "language_info": {
      "codemirror_mode": {
        "name": "ipython",
        "version": 3
      },
      "file_extension": ".py",
      "mimetype": "text/x-python",
      "name": "python",
      "nbconvert_exporter": "python",
      "pygments_lexer": "ipython3",
      "version": "3.7.4"
    },
    "colab": {
      "name": "Spotify Songs_Genres_Classification.ipynb",
      "provenance": [],
      "collapsed_sections": [],
      "include_colab_link": true
    }
  },
  "cells": [
    {
      "cell_type": "markdown",
      "metadata": {
        "id": "view-in-github",
        "colab_type": "text"
      },
      "source": [
        "<a href=\"https://colab.research.google.com/github/dimi-fn/Spotify-Songs/blob/master/Spotify_Songs_Genres_Classification.ipynb\" target=\"_parent\"><img src=\"https://colab.research.google.com/assets/colab-badge.svg\" alt=\"Open In Colab\"/></a>"
      ]
    },
    {
      "cell_type": "code",
      "metadata": {
        "id": "grXO3DLPbpKq"
      },
      "source": [
        "# importing libraries for data analysis and manipulation\n",
        "import pandas as pd\n",
        "import numpy as np"
      ],
      "execution_count": 1,
      "outputs": []
    },
    {
      "cell_type": "code",
      "metadata": {
        "id": "46pn8wG4bpO7"
      },
      "source": [
        "# To plot pretty figures\n",
        "%matplotlib inline\n",
        "import matplotlib as mpl\n",
        "import matplotlib.pyplot as plt\n",
        "mpl.rc('axes', labelsize=14)\n",
        "mpl.rc('xtick', labelsize=12)\n",
        "mpl.rc('ytick', labelsize=12)\n",
        "\n",
        "# To ignore potential useless warnings from Scipy (SciPy issue #5998)\n",
        "import warnings\n",
        "warnings.filterwarnings(action=\"ignore\", message=\"^internal gelsd\")\n",
        "\n",
        "# to make this notebook's output identical at every run\n",
        "np.random.seed(42)"
      ],
      "execution_count": 2,
      "outputs": []
    },
    {
      "cell_type": "code",
      "metadata": {
        "id": "Y8F3TTs3bpNa"
      },
      "source": [
        "# Code to read csv file into colaboratory:\n",
        "!pip install -U -q PyDrive\n",
        "from pydrive.auth import GoogleAuth\n",
        "from pydrive.drive import GoogleDrive\n",
        "from google.colab import auth\n",
        "from oauth2client.client import GoogleCredentials"
      ],
      "execution_count": 3,
      "outputs": []
    },
    {
      "cell_type": "code",
      "metadata": {
        "id": "N_-yhfJCcD0T"
      },
      "source": [
        "auth.authenticate_user()\n",
        "gauth = GoogleAuth()\n",
        "gauth.credentials = GoogleCredentials.get_application_default()\n",
        "drive = GoogleDrive(gauth)"
      ],
      "execution_count": 4,
      "outputs": []
    },
    {
      "cell_type": "markdown",
      "metadata": {
        "id": "5KNmjLRVcTAp"
      },
      "source": [
        "> Inserting the dataset for regression and classification (the split between train and test set is already done)."
      ]
    },
    {
      "cell_type": "code",
      "metadata": {
        "id": "qUcauOBKcUDT"
      },
      "source": [
        "downloaded = drive.CreateFile({'id':'1faxDrc-DqcciP0PghJbJJts9CRa0bL82'}) \n",
        "downloaded.GetContentFile('CS98XClassificationTest.csv') \n",
        "classification_test = pd.read_csv('CS98XClassificationTest.csv') \n",
        "\n",
        "downloaded = drive.CreateFile({'id':'1TQq8nRRdowS_aULA1SKviqAisw9NWIUd'}) \n",
        "downloaded.GetContentFile('CS98XClassificationTrain.csv') \n",
        "classification_train = pd.read_csv('CS98XClassificationTrain.csv') \n",
        "\n",
        "downloaded = drive.CreateFile({'id':'1tmBD1ct5ig0UF7iIPmcM0MqDwJpYvtpo'}) \n",
        "downloaded.GetContentFile('CS98XRegressionTest.csv') \n",
        "regression_test = pd.read_csv('CS98XRegressionTest.csv') \n",
        "\n",
        "downloaded = drive.CreateFile({'id':'1Zgg12bV-xXozSRI5Kj4631gwbBe2K8By'}) \n",
        "downloaded.GetContentFile('CS98XRegressionTrain.csv') \n",
        "regression_train = pd.read_csv('CS98XRegressionTrain.csv') "
      ],
      "execution_count": 5,
      "outputs": []
    },
    {
      "cell_type": "markdown",
      "metadata": {
        "id": "8U-bN2WSbnWq"
      },
      "source": [
        "# Classification Task\n",
        "\n",
        "> Supervised regression, which was built in the previous notebook, is for predicting numeric values. Now we are proceeding to supervised classification which is suitable for predicting classes. In this case we want to predict the 'top genre' class:"
      ]
    },
    {
      "cell_type": "code",
      "metadata": {
        "id": "BWdvg1Nx_XiD",
        "outputId": "ad05a41a-b522-44ef-d0df-09f29217b84b",
        "colab": {
          "base_uri": "https://localhost:8080/",
          "height": 34
        }
      },
      "source": [
        "classification_train.shape"
      ],
      "execution_count": 6,
      "outputs": [
        {
          "output_type": "execute_result",
          "data": {
            "text/plain": [
              "(453, 15)"
            ]
          },
          "metadata": {
            "tags": []
          },
          "execution_count": 6
        }
      ]
    },
    {
      "cell_type": "code",
      "metadata": {
        "id": "8aHviZ64_XiE",
        "outputId": "a8816429-4f6a-46ee-8e62-5895db19f279",
        "colab": {
          "base_uri": "https://localhost:8080/",
          "height": 34
        }
      },
      "source": [
        "classification_test.shape"
      ],
      "execution_count": 7,
      "outputs": [
        {
          "output_type": "execute_result",
          "data": {
            "text/plain": [
              "(113, 14)"
            ]
          },
          "metadata": {
            "tags": []
          },
          "execution_count": 7
        }
      ]
    },
    {
      "cell_type": "code",
      "metadata": {
        "id": "mX8OgFrD_XiF",
        "outputId": "2da1e566-bd80-4743-fdda-2ec1ece8c66f",
        "colab": {
          "base_uri": "https://localhost:8080/",
          "height": 77
        }
      },
      "source": [
        "classification_train.head(1)"
      ],
      "execution_count": 8,
      "outputs": [
        {
          "output_type": "execute_result",
          "data": {
            "text/html": [
              "<div>\n",
              "<style scoped>\n",
              "    .dataframe tbody tr th:only-of-type {\n",
              "        vertical-align: middle;\n",
              "    }\n",
              "\n",
              "    .dataframe tbody tr th {\n",
              "        vertical-align: top;\n",
              "    }\n",
              "\n",
              "    .dataframe thead th {\n",
              "        text-align: right;\n",
              "    }\n",
              "</style>\n",
              "<table border=\"1\" class=\"dataframe\">\n",
              "  <thead>\n",
              "    <tr style=\"text-align: right;\">\n",
              "      <th></th>\n",
              "      <th>Id</th>\n",
              "      <th>title</th>\n",
              "      <th>artist</th>\n",
              "      <th>year</th>\n",
              "      <th>bpm</th>\n",
              "      <th>nrgy</th>\n",
              "      <th>dnce</th>\n",
              "      <th>dB</th>\n",
              "      <th>live</th>\n",
              "      <th>val</th>\n",
              "      <th>dur</th>\n",
              "      <th>acous</th>\n",
              "      <th>spch</th>\n",
              "      <th>pop</th>\n",
              "      <th>top genre</th>\n",
              "    </tr>\n",
              "  </thead>\n",
              "  <tbody>\n",
              "    <tr>\n",
              "      <th>0</th>\n",
              "      <td>1</td>\n",
              "      <td>My Happiness</td>\n",
              "      <td>Connie Francis</td>\n",
              "      <td>1996</td>\n",
              "      <td>107</td>\n",
              "      <td>31</td>\n",
              "      <td>45</td>\n",
              "      <td>-8</td>\n",
              "      <td>13</td>\n",
              "      <td>28</td>\n",
              "      <td>150</td>\n",
              "      <td>75</td>\n",
              "      <td>3</td>\n",
              "      <td>44</td>\n",
              "      <td>adult standards</td>\n",
              "    </tr>\n",
              "  </tbody>\n",
              "</table>\n",
              "</div>"
            ],
            "text/plain": [
              "   Id         title          artist  year  ...  acous  spch  pop        top genre\n",
              "0   1  My Happiness  Connie Francis  1996  ...     75     3   44  adult standards\n",
              "\n",
              "[1 rows x 15 columns]"
            ]
          },
          "metadata": {
            "tags": []
          },
          "execution_count": 8
        }
      ]
    },
    {
      "cell_type": "code",
      "metadata": {
        "id": "GnLzoyAD_XiH",
        "outputId": "4e0d1574-37b3-4d9d-b399-f73185392a0a",
        "colab": {
          "base_uri": "https://localhost:8080/",
          "height": 77
        }
      },
      "source": [
        "classification_test.head(1)"
      ],
      "execution_count": 9,
      "outputs": [
        {
          "output_type": "execute_result",
          "data": {
            "text/html": [
              "<div>\n",
              "<style scoped>\n",
              "    .dataframe tbody tr th:only-of-type {\n",
              "        vertical-align: middle;\n",
              "    }\n",
              "\n",
              "    .dataframe tbody tr th {\n",
              "        vertical-align: top;\n",
              "    }\n",
              "\n",
              "    .dataframe thead th {\n",
              "        text-align: right;\n",
              "    }\n",
              "</style>\n",
              "<table border=\"1\" class=\"dataframe\">\n",
              "  <thead>\n",
              "    <tr style=\"text-align: right;\">\n",
              "      <th></th>\n",
              "      <th>Id</th>\n",
              "      <th>title</th>\n",
              "      <th>artist</th>\n",
              "      <th>year</th>\n",
              "      <th>bpm</th>\n",
              "      <th>nrgy</th>\n",
              "      <th>dnce</th>\n",
              "      <th>dB</th>\n",
              "      <th>live</th>\n",
              "      <th>val</th>\n",
              "      <th>dur</th>\n",
              "      <th>acous</th>\n",
              "      <th>spch</th>\n",
              "      <th>pop</th>\n",
              "    </tr>\n",
              "  </thead>\n",
              "  <tbody>\n",
              "    <tr>\n",
              "      <th>0</th>\n",
              "      <td>454</td>\n",
              "      <td>Pump It</td>\n",
              "      <td>The Black Eyed Peas</td>\n",
              "      <td>2005</td>\n",
              "      <td>154</td>\n",
              "      <td>93</td>\n",
              "      <td>65</td>\n",
              "      <td>-3</td>\n",
              "      <td>75</td>\n",
              "      <td>74</td>\n",
              "      <td>213</td>\n",
              "      <td>1</td>\n",
              "      <td>18</td>\n",
              "      <td>72</td>\n",
              "    </tr>\n",
              "  </tbody>\n",
              "</table>\n",
              "</div>"
            ],
            "text/plain": [
              "    Id    title               artist  year  bpm  ...  val  dur  acous  spch  pop\n",
              "0  454  Pump It  The Black Eyed Peas  2005  154  ...   74  213      1    18   72\n",
              "\n",
              "[1 rows x 14 columns]"
            ]
          },
          "metadata": {
            "tags": []
          },
          "execution_count": 9
        }
      ]
    },
    {
      "cell_type": "code",
      "metadata": {
        "id": "FqsSPtwz_XiI",
        "outputId": "47ae6a36-d354-4585-c5f6-58a9038412f6",
        "colab": {
          "base_uri": "https://localhost:8080/",
          "height": 34
        }
      },
      "source": [
        "classification_train['top genre'].nunique()"
      ],
      "execution_count": 10,
      "outputs": [
        {
          "output_type": "execute_result",
          "data": {
            "text/plain": [
              "86"
            ]
          },
          "metadata": {
            "tags": []
          },
          "execution_count": 10
        }
      ]
    },
    {
      "cell_type": "markdown",
      "metadata": {
        "id": "xDAtz8J1_XiJ"
      },
      "source": [
        "> More specifically, it is about a multiclass classification problem (86 unique top genres in the test data).\n",
        "\n",
        "- Stochastic Gradient Descend (SGD) classifiers, Random Forest classifiers and Naive Bayes classifiers are able to proceed to multiclass classification.\n",
        "\n",
        "\n",
        "- Logistic Regression and Support Vector Machine (SVM) classifiers are suitable as binary classifiers. However, there are ways we can implement multiclass classification with multiple binary classifiers: either with One versus Rest (OvR) or with One versus One (OvO). In the case of OvR, we should train 86 binary classifiers, one for each genre out of the 86. With OvO, we would train a binary classifier for every par of genres, e.g. one to distinguish 'adult standards' from 'album rock' and so on. In every case, Scikit-Learn can understand when you try to use a binary classification algorithm for multiclass classification, and automatically it runs OvR or OvO.\n"
      ]
    },
    {
      "cell_type": "code",
      "metadata": {
        "id": "sd013UQR_XiK",
        "outputId": "f68d5abf-02fe-4885-d6df-65e56aed51a0",
        "colab": {
          "base_uri": "https://localhost:8080/",
          "height": 118
        }
      },
      "source": [
        "# counting the aggregated number of 'top genre' in descending order\n",
        "# we notice, e.g., that 'adult standards' is the most popular in terms of 'top genre' with 68 songs (out of 453) belonging to this category\n",
        "classification_train['top genre'].value_counts().sort_values(ascending=False).head()"
      ],
      "execution_count": 11,
      "outputs": [
        {
          "output_type": "execute_result",
          "data": {
            "text/plain": [
              "adult standards       68\n",
              "album rock            66\n",
              "dance pop             61\n",
              "brill building pop    16\n",
              "glam rock             16\n",
              "Name: top genre, dtype: int64"
            ]
          },
          "metadata": {
            "tags": []
          },
          "execution_count": 11
        }
      ]
    },
    {
      "cell_type": "code",
      "metadata": {
        "id": "zvvSaDTa_XiL",
        "outputId": "e88289d3-a621-4fe1-94f3-0ff654a50c72",
        "colab": {
          "base_uri": "https://localhost:8080/",
          "height": 600
        }
      },
      "source": [
        "classification_train_max_genre=classification_train['top genre'].value_counts(ascending=False).head(5)\n",
        "\n",
        "# Find percent of each genre\n",
        "classification_train_genre = classification_train_max_genre / len(classification_train_max_genre)\n",
        "sizes =classification_train_genre.values.tolist()\n",
        "labels = classification_train_genre.index.values.tolist()\n",
        "\n",
        "# Pie chart for genre\n",
        "fig1, ax1 = plt.subplots(figsize=(10,10))\n",
        "ax1.pie(sizes, labels=labels, autopct='%1.1f%%', shadow=False, textprops={'fontsize': 14})\n",
        "ax1.axis('equal')\n",
        "plt.title('Top Genre of the 5 Most Popular Songs')\n",
        "plt.show()\n"
      ],
      "execution_count": 12,
      "outputs": [
        {
          "output_type": "display_data",
          "data": {
            "image/png": "[encoded data removed]",
            "text/plain": [
              "<Figure size 720x720 with 1 Axes>"
            ]
          },
          "metadata": {
            "tags": []
          }
        }
      ]
    },
    {
      "cell_type": "markdown",
      "metadata": {
        "id": "Nbcbb1bP_XiM"
      },
      "source": [
        "### Preparing the data for machine learning algorithms"
      ]
    },
    {
      "cell_type": "markdown",
      "metadata": {
        "id": "oy361vWo_XiN"
      },
      "source": [
        "> Data cleaning:"
      ]
    },
    {
      "cell_type": "code",
      "metadata": {
        "id": "AxMxUNG__XiN",
        "outputId": "34eaaf82-d937-4e87-e8ab-b794bc702b35",
        "colab": {
          "base_uri": "https://localhost:8080/",
          "height": 286
        }
      },
      "source": [
        "classification_train.isnull().any()"
      ],
      "execution_count": 13,
      "outputs": [
        {
          "output_type": "execute_result",
          "data": {
            "text/plain": [
              "Id           False\n",
              "title        False\n",
              "artist       False\n",
              "year         False\n",
              "bpm          False\n",
              "nrgy         False\n",
              "dnce         False\n",
              "dB           False\n",
              "live         False\n",
              "val          False\n",
              "dur          False\n",
              "acous        False\n",
              "spch         False\n",
              "pop          False\n",
              "top genre     True\n",
              "dtype: bool"
            ]
          },
          "metadata": {
            "tags": []
          },
          "execution_count": 13
        }
      ]
    },
    {
      "cell_type": "code",
      "metadata": {
        "id": "pDv02FRW_XiO",
        "outputId": "b6bdd36f-d135-414a-8b56-5f93c91881f4",
        "colab": {
          "base_uri": "https://localhost:8080/",
          "height": 269
        }
      },
      "source": [
        "classification_test.isnull().any()"
      ],
      "execution_count": 14,
      "outputs": [
        {
          "output_type": "execute_result",
          "data": {
            "text/plain": [
              "Id        False\n",
              "title     False\n",
              "artist    False\n",
              "year      False\n",
              "bpm       False\n",
              "nrgy      False\n",
              "dnce      False\n",
              "dB        False\n",
              "live      False\n",
              "val       False\n",
              "dur       False\n",
              "acous     False\n",
              "spch      False\n",
              "pop       False\n",
              "dtype: bool"
            ]
          },
          "metadata": {
            "tags": []
          },
          "execution_count": 14
        }
      ]
    },
    {
      "cell_type": "markdown",
      "metadata": {
        "id": "2Ko2DDB2_XiP"
      },
      "source": [
        "> Hence, there are missing values in 'top genre' in train data.\n",
        "\n",
        "> As in regression, we are replacing the missing values with the most frequent top genre which is adult standards:"
      ]
    },
    {
      "cell_type": "code",
      "metadata": {
        "id": "WUsznPR__XiP"
      },
      "source": [
        "classification_train['top genre'].fillna(value='adult standards', inplace=True)"
      ],
      "execution_count": 15,
      "outputs": []
    },
    {
      "cell_type": "code",
      "metadata": {
        "id": "pbCqZTIl_XiQ",
        "outputId": "8ea9785f-6ceb-478d-ec46-628d8b3586ab",
        "colab": {
          "base_uri": "https://localhost:8080/",
          "height": 34
        }
      },
      "source": [
        "classification_train.isnull().sum().any()"
      ],
      "execution_count": 16,
      "outputs": [
        {
          "output_type": "execute_result",
          "data": {
            "text/plain": [
              "False"
            ]
          },
          "metadata": {
            "tags": []
          },
          "execution_count": 16
        }
      ]
    },
    {
      "cell_type": "code",
      "metadata": {
        "id": "LaaykRhs_XiR",
        "outputId": "8b741486-dee7-41db-8ec0-d1c7de065db7",
        "colab": {
          "base_uri": "https://localhost:8080/",
          "height": 34
        }
      },
      "source": [
        "classification_test.isnull().sum().any()"
      ],
      "execution_count": 17,
      "outputs": [
        {
          "output_type": "execute_result",
          "data": {
            "text/plain": [
              "False"
            ]
          },
          "metadata": {
            "tags": []
          },
          "execution_count": 17
        }
      ]
    },
    {
      "cell_type": "code",
      "metadata": {
        "id": "SRrzoIkR_XiS"
      },
      "source": [
        "train_predictors= classification_train[['nrgy', 'dnce', 'dB', 'dur', 'pop']]\n",
        "train_target= classification_train[['top genre']].copy()"
      ],
      "execution_count": 18,
      "outputs": []
    },
    {
      "cell_type": "code",
      "metadata": {
        "id": "cQIvW5SG_XiT"
      },
      "source": [
        "from sklearn.impute import SimpleImputer\n",
        "imputer = SimpleImputer(strategy=\"median\")"
      ],
      "execution_count": 19,
      "outputs": []
    },
    {
      "cell_type": "code",
      "metadata": {
        "id": "v-8b8w0Y_XiT"
      },
      "source": [
        "train_predictors_num= train_predictors"
      ],
      "execution_count": 20,
      "outputs": []
    },
    {
      "cell_type": "code",
      "metadata": {
        "id": "9uRthloj_XiV",
        "outputId": "c31a8d99-0c03-411f-d021-b7035a051410",
        "colab": {
          "base_uri": "https://localhost:8080/",
          "height": 50
        }
      },
      "source": [
        "imputer.fit(train_predictors_num)"
      ],
      "execution_count": 21,
      "outputs": [
        {
          "output_type": "execute_result",
          "data": {
            "text/plain": [
              "SimpleImputer(add_indicator=False, copy=True, fill_value=None,\n",
              "              missing_values=nan, strategy='median', verbose=0)"
            ]
          },
          "metadata": {
            "tags": []
          },
          "execution_count": 21
        }
      ]
    },
    {
      "cell_type": "code",
      "metadata": {
        "id": "1CaNRBB__XiW",
        "outputId": "96d565db-3e2f-4dd8-8463-7310db0b9e50",
        "colab": {
          "base_uri": "https://localhost:8080/",
          "height": 34
        }
      },
      "source": [
        "imputer.statistics_"
      ],
      "execution_count": 22,
      "outputs": [
        {
          "output_type": "execute_result",
          "data": {
            "text/plain": [
              "array([ 63.,  61.,  -8., 223.,  63.])"
            ]
          },
          "metadata": {
            "tags": []
          },
          "execution_count": 22
        }
      ]
    },
    {
      "cell_type": "code",
      "metadata": {
        "id": "j_XLt8TY_XiX",
        "outputId": "bc33fcb7-8b93-439b-b551-b936a4f84348",
        "colab": {
          "base_uri": "https://localhost:8080/",
          "height": 34
        }
      },
      "source": [
        "train_predictors_num.median().values"
      ],
      "execution_count": 23,
      "outputs": [
        {
          "output_type": "execute_result",
          "data": {
            "text/plain": [
              "array([ 63.,  61.,  -8., 223.,  63.])"
            ]
          },
          "metadata": {
            "tags": []
          },
          "execution_count": 23
        }
      ]
    },
    {
      "cell_type": "code",
      "metadata": {
        "id": "L8Lxo6Xs_XiX"
      },
      "source": [
        "W = imputer.transform(train_predictors_num)"
      ],
      "execution_count": 24,
      "outputs": []
    },
    {
      "cell_type": "code",
      "metadata": {
        "id": "mwfufrZW_XiY"
      },
      "source": [
        "train_predictors_tr = pd.DataFrame(W, columns=train_predictors_num.columns,\n",
        "                          index=train_predictors.index)"
      ],
      "execution_count": 25,
      "outputs": []
    },
    {
      "cell_type": "markdown",
      "metadata": {
        "id": "RfZbVzjN_XiY"
      },
      "source": [
        "> As in, regression, building a pipeline using ColumnTransformer. The difference here is that we are not passing any categorical features:"
      ]
    },
    {
      "cell_type": "code",
      "metadata": {
        "id": "a5H_Y3Cu_XiZ"
      },
      "source": [
        "from sklearn.compose import ColumnTransformer\n",
        "from sklearn.pipeline import Pipeline\n",
        "from sklearn.impute import SimpleImputer\n",
        "from sklearn.preprocessing import StandardScaler"
      ],
      "execution_count": 26,
      "outputs": []
    },
    {
      "cell_type": "code",
      "metadata": {
        "id": "CmbuBYQb_XiZ",
        "outputId": "ea25e3dd-c931-4cf1-b4ea-5e51dbe09ad9",
        "colab": {
          "base_uri": "https://localhost:8080/",
          "height": 402
        }
      },
      "source": [
        "train_predictors"
      ],
      "execution_count": 27,
      "outputs": [
        {
          "output_type": "execute_result",
          "data": {
            "text/html": [
              "<div>\n",
              "<style scoped>\n",
              "    .dataframe tbody tr th:only-of-type {\n",
              "        vertical-align: middle;\n",
              "    }\n",
              "\n",
              "    .dataframe tbody tr th {\n",
              "        vertical-align: top;\n",
              "    }\n",
              "\n",
              "    .dataframe thead th {\n",
              "        text-align: right;\n",
              "    }\n",
              "</style>\n",
              "<table border=\"1\" class=\"dataframe\">\n",
              "  <thead>\n",
              "    <tr style=\"text-align: right;\">\n",
              "      <th></th>\n",
              "      <th>nrgy</th>\n",
              "      <th>dnce</th>\n",
              "      <th>dB</th>\n",
              "      <th>dur</th>\n",
              "      <th>pop</th>\n",
              "    </tr>\n",
              "  </thead>\n",
              "  <tbody>\n",
              "    <tr>\n",
              "      <th>0</th>\n",
              "      <td>31</td>\n",
              "      <td>45</td>\n",
              "      <td>-8</td>\n",
              "      <td>150</td>\n",
              "      <td>44</td>\n",
              "    </tr>\n",
              "    <tr>\n",
              "      <th>1</th>\n",
              "      <td>44</td>\n",
              "      <td>53</td>\n",
              "      <td>-8</td>\n",
              "      <td>139</td>\n",
              "      <td>37</td>\n",
              "    </tr>\n",
              "    <tr>\n",
              "      <th>2</th>\n",
              "      <td>36</td>\n",
              "      <td>63</td>\n",
              "      <td>-9</td>\n",
              "      <td>245</td>\n",
              "      <td>77</td>\n",
              "    </tr>\n",
              "    <tr>\n",
              "      <th>3</th>\n",
              "      <td>28</td>\n",
              "      <td>47</td>\n",
              "      <td>-16</td>\n",
              "      <td>232</td>\n",
              "      <td>67</td>\n",
              "    </tr>\n",
              "    <tr>\n",
              "      <th>4</th>\n",
              "      <td>47</td>\n",
              "      <td>56</td>\n",
              "      <td>-8</td>\n",
              "      <td>193</td>\n",
              "      <td>63</td>\n",
              "    </tr>\n",
              "    <tr>\n",
              "      <th>...</th>\n",
              "      <td>...</td>\n",
              "      <td>...</td>\n",
              "      <td>...</td>\n",
              "      <td>...</td>\n",
              "      <td>...</td>\n",
              "    </tr>\n",
              "    <tr>\n",
              "      <th>448</th>\n",
              "      <td>22</td>\n",
              "      <td>18</td>\n",
              "      <td>-17</td>\n",
              "      <td>214</td>\n",
              "      <td>45</td>\n",
              "    </tr>\n",
              "    <tr>\n",
              "      <th>449</th>\n",
              "      <td>81</td>\n",
              "      <td>53</td>\n",
              "      <td>-13</td>\n",
              "      <td>147</td>\n",
              "      <td>50</td>\n",
              "    </tr>\n",
              "    <tr>\n",
              "      <th>450</th>\n",
              "      <td>55</td>\n",
              "      <td>73</td>\n",
              "      <td>-8</td>\n",
              "      <td>289</td>\n",
              "      <td>77</td>\n",
              "    </tr>\n",
              "    <tr>\n",
              "      <th>451</th>\n",
              "      <td>87</td>\n",
              "      <td>64</td>\n",
              "      <td>-5</td>\n",
              "      <td>191</td>\n",
              "      <td>62</td>\n",
              "    </tr>\n",
              "    <tr>\n",
              "      <th>452</th>\n",
              "      <td>73</td>\n",
              "      <td>68</td>\n",
              "      <td>-8</td>\n",
              "      <td>281</td>\n",
              "      <td>59</td>\n",
              "    </tr>\n",
              "  </tbody>\n",
              "</table>\n",
              "<p>453 rows × 5 columns</p>\n",
              "</div>"
            ],
            "text/plain": [
              "     nrgy  dnce  dB  dur  pop\n",
              "0      31    45  -8  150   44\n",
              "1      44    53  -8  139   37\n",
              "2      36    63  -9  245   77\n",
              "3      28    47 -16  232   67\n",
              "4      47    56  -8  193   63\n",
              "..    ...   ...  ..  ...  ...\n",
              "448    22    18 -17  214   45\n",
              "449    81    53 -13  147   50\n",
              "450    55    73  -8  289   77\n",
              "451    87    64  -5  191   62\n",
              "452    73    68  -8  281   59\n",
              "\n",
              "[453 rows x 5 columns]"
            ]
          },
          "metadata": {
            "tags": []
          },
          "execution_count": 27
        }
      ]
    },
    {
      "cell_type": "code",
      "metadata": {
        "id": "Uh-INgi-_Xia"
      },
      "source": [
        "numeric_features = list(train_predictors_num)\n",
        "numeric_transformer = Pipeline(steps=[\n",
        "    ('imputer', SimpleImputer(strategy='median')),\n",
        "    ('scaler', StandardScaler())])\n",
        "\n",
        "\n",
        "\n",
        "numerical_pipeline = ColumnTransformer(\n",
        "    transformers=[\n",
        "        ('num', numeric_transformer, numeric_features)])\n",
        "\n",
        "train_predictors_final= numerical_pipeline.fit_transform(train_predictors)"
      ],
      "execution_count": 28,
      "outputs": []
    },
    {
      "cell_type": "code",
      "metadata": {
        "id": "TDbheCwb_Xib",
        "outputId": "cadc990a-e584-4f9f-b9bb-fef9d8480ba0",
        "colab": {
          "base_uri": "https://localhost:8080/",
          "height": 134
        }
      },
      "source": [
        "train_predictors_final"
      ],
      "execution_count": 29,
      "outputs": [
        {
          "output_type": "execute_result",
          "data": {
            "text/plain": [
              "array([[-1.31062408, -0.9416684 ,  0.23414198, -1.19745997, -1.24442005],\n",
              "       [-0.72453059, -0.42445011,  0.23414198, -1.37014455, -1.76466474],\n",
              "       [-1.08520351,  0.22207275, -0.04571638,  0.29390687,  1.20816206],\n",
              "       ...,\n",
              "       [-0.22860532,  0.86859562,  0.23414198,  0.9846452 ,  1.20816206],\n",
              "       [ 1.21408635,  0.28672504,  1.07371704, -0.55381744,  0.09335201],\n",
              "       [ 0.58290874,  0.54533418,  0.23414198,  0.85905641, -0.12961   ]])"
            ]
          },
          "metadata": {
            "tags": []
          },
          "execution_count": 29
        }
      ]
    },
    {
      "cell_type": "code",
      "metadata": {
        "id": "MIWN94yQ_Xid",
        "outputId": "d9d2537c-f9d4-4ab2-f436-ecce4df8084c",
        "colab": {
          "base_uri": "https://localhost:8080/",
          "height": 34
        }
      },
      "source": [
        "len(train_target)"
      ],
      "execution_count": 30,
      "outputs": [
        {
          "output_type": "execute_result",
          "data": {
            "text/plain": [
              "453"
            ]
          },
          "metadata": {
            "tags": []
          },
          "execution_count": 30
        }
      ]
    },
    {
      "cell_type": "markdown",
      "metadata": {
        "id": "yzZ8KGzc_Xie"
      },
      "source": [
        "### Sychronising the test set with the train set"
      ]
    },
    {
      "cell_type": "code",
      "metadata": {
        "id": "odTGGP12_Xie"
      },
      "source": [
        "test_predictors=classification_test[['nrgy', 'dnce', 'dB', 'dur', 'pop']] # test predictors"
      ],
      "execution_count": 31,
      "outputs": []
    },
    {
      "cell_type": "code",
      "metadata": {
        "id": "gSRrMIC2_Xif",
        "outputId": "a92be4b0-c8c4-457b-ebb4-d33a29226edb",
        "colab": {
          "base_uri": "https://localhost:8080/",
          "height": 34
        }
      },
      "source": [
        "test_predictors.isnull().sum().any()"
      ],
      "execution_count": 32,
      "outputs": [
        {
          "output_type": "execute_result",
          "data": {
            "text/plain": [
              "False"
            ]
          },
          "metadata": {
            "tags": []
          },
          "execution_count": 32
        }
      ]
    },
    {
      "cell_type": "markdown",
      "metadata": {
        "id": "huHvZ4sk_Xig"
      },
      "source": [
        "> As in regression's pipeline, now in the test set we use 'transform' instead of 'fit_transform', so that we can transform the test data with the same fitted scaler (as in regression, but here without carrying any categorical features):"
      ]
    },
    {
      "cell_type": "code",
      "metadata": {
        "id": "5nFBzG6K_Xig"
      },
      "source": [
        "test_predictors_final= numerical_pipeline.transform(test_predictors)"
      ],
      "execution_count": 33,
      "outputs": []
    },
    {
      "cell_type": "code",
      "metadata": {
        "id": "Ure2H2Ww_Xih",
        "outputId": "5d956caa-2ac1-4841-bf60-a1d51e1e8fda",
        "colab": {
          "base_uri": "https://localhost:8080/",
          "height": 34
        }
      },
      "source": [
        "train_predictors_final.shape"
      ],
      "execution_count": 34,
      "outputs": [
        {
          "output_type": "execute_result",
          "data": {
            "text/plain": [
              "(453, 5)"
            ]
          },
          "metadata": {
            "tags": []
          },
          "execution_count": 34
        }
      ]
    },
    {
      "cell_type": "code",
      "metadata": {
        "id": "iQ3rYOmT_Xii",
        "outputId": "612be117-947f-40e6-9d8b-8c17edb580b3",
        "colab": {
          "base_uri": "https://localhost:8080/",
          "height": 34
        }
      },
      "source": [
        "train_target.shape"
      ],
      "execution_count": 35,
      "outputs": [
        {
          "output_type": "execute_result",
          "data": {
            "text/plain": [
              "(453, 1)"
            ]
          },
          "metadata": {
            "tags": []
          },
          "execution_count": 35
        }
      ]
    },
    {
      "cell_type": "code",
      "metadata": {
        "id": "afYyiEW-_Xik",
        "outputId": "c5f26864-db41-4fc6-9b8c-575623a28d68",
        "colab": {
          "base_uri": "https://localhost:8080/",
          "height": 34
        }
      },
      "source": [
        "test_predictors_final.shape\n"
      ],
      "execution_count": 36,
      "outputs": [
        {
          "output_type": "execute_result",
          "data": {
            "text/plain": [
              "(113, 5)"
            ]
          },
          "metadata": {
            "tags": []
          },
          "execution_count": 36
        }
      ]
    },
    {
      "cell_type": "markdown",
      "metadata": {
        "id": "6l6WUQp6_Xil"
      },
      "source": [
        "### RandomForestClassifier"
      ]
    },
    {
      "cell_type": "code",
      "metadata": {
        "id": "LYdOLLms_Xil"
      },
      "source": [
        "from sklearn.ensemble import RandomForestClassifier \n",
        "from sklearn.preprocessing import LabelEncoder "
      ],
      "execution_count": 37,
      "outputs": []
    },
    {
      "cell_type": "code",
      "metadata": {
        "id": "j92NOWYk_Xil"
      },
      "source": [
        "#Using the random forest classifier for the prediction \n",
        "classifier=RandomForestClassifier() \n",
        "classifier=classifier.fit(train_predictors_final,train_target.values.ravel())\n",
        "predicted=classifier.predict(test_predictors_final) \n",
        "  "
      ],
      "execution_count": 38,
      "outputs": []
    },
    {
      "cell_type": "code",
      "metadata": {
        "id": "foPWXgFo_Xim",
        "outputId": "c64d4ba3-41c4-4cd0-8f87-77a90061b44c",
        "colab": {
          "base_uri": "https://localhost:8080/",
          "height": 67
        }
      },
      "source": [
        "from sklearn.model_selection import cross_val_score\n",
        "cross_val_score(classifier, train_predictors_final, train_target.values.ravel(), cv=3, scoring='accuracy')\n",
        "\n"
      ],
      "execution_count": 39,
      "outputs": [
        {
          "output_type": "stream",
          "text": [
            "/usr/local/lib/python3.6/dist-packages/sklearn/model_selection/_split.py:667: UserWarning: The least populated class in y has only 1 members, which is less than n_splits=3.\n",
            "  % (min_groups, self.n_splits)), UserWarning)\n"
          ],
          "name": "stderr"
        },
        {
          "output_type": "execute_result",
          "data": {
            "text/plain": [
              "array([0.30463576, 0.30463576, 0.25827815])"
            ]
          },
          "metadata": {
            "tags": []
          },
          "execution_count": 39
        }
      ]
    },
    {
      "cell_type": "code",
      "metadata": {
        "id": "QulRNimV_Xin",
        "outputId": "2e9cef24-c963-4d2d-a1e8-45b806df7c61",
        "colab": {
          "base_uri": "https://localhost:8080/",
          "height": 402
        }
      },
      "source": [
        "classification_results= pd.DataFrame({'Id': classification_test['Id'], 'top genre': predicted})\n",
        "classification_results \n",
        "#classification_results.to_csv('cc.csv', index = False)\n",
        "# classification accuracy= 37.5%"
      ],
      "execution_count": 40,
      "outputs": [
        {
          "output_type": "execute_result",
          "data": {
            "text/html": [
              "<div>\n",
              "<style scoped>\n",
              "    .dataframe tbody tr th:only-of-type {\n",
              "        vertical-align: middle;\n",
              "    }\n",
              "\n",
              "    .dataframe tbody tr th {\n",
              "        vertical-align: top;\n",
              "    }\n",
              "\n",
              "    .dataframe thead th {\n",
              "        text-align: right;\n",
              "    }\n",
              "</style>\n",
              "<table border=\"1\" class=\"dataframe\">\n",
              "  <thead>\n",
              "    <tr style=\"text-align: right;\">\n",
              "      <th></th>\n",
              "      <th>Id</th>\n",
              "      <th>top genre</th>\n",
              "    </tr>\n",
              "  </thead>\n",
              "  <tbody>\n",
              "    <tr>\n",
              "      <th>0</th>\n",
              "      <td>454</td>\n",
              "      <td>dance pop</td>\n",
              "    </tr>\n",
              "    <tr>\n",
              "      <th>1</th>\n",
              "      <td>455</td>\n",
              "      <td>album rock</td>\n",
              "    </tr>\n",
              "    <tr>\n",
              "      <th>2</th>\n",
              "      <td>456</td>\n",
              "      <td>adult standards</td>\n",
              "    </tr>\n",
              "    <tr>\n",
              "      <th>3</th>\n",
              "      <td>457</td>\n",
              "      <td>dance pop</td>\n",
              "    </tr>\n",
              "    <tr>\n",
              "      <th>4</th>\n",
              "      <td>458</td>\n",
              "      <td>brill building pop</td>\n",
              "    </tr>\n",
              "    <tr>\n",
              "      <th>...</th>\n",
              "      <td>...</td>\n",
              "      <td>...</td>\n",
              "    </tr>\n",
              "    <tr>\n",
              "      <th>108</th>\n",
              "      <td>563</td>\n",
              "      <td>dance pop</td>\n",
              "    </tr>\n",
              "    <tr>\n",
              "      <th>109</th>\n",
              "      <td>564</td>\n",
              "      <td>dance pop</td>\n",
              "    </tr>\n",
              "    <tr>\n",
              "      <th>110</th>\n",
              "      <td>565</td>\n",
              "      <td>dance pop</td>\n",
              "    </tr>\n",
              "    <tr>\n",
              "      <th>111</th>\n",
              "      <td>566</td>\n",
              "      <td>album rock</td>\n",
              "    </tr>\n",
              "    <tr>\n",
              "      <th>112</th>\n",
              "      <td>567</td>\n",
              "      <td>alternative metal</td>\n",
              "    </tr>\n",
              "  </tbody>\n",
              "</table>\n",
              "<p>113 rows × 2 columns</p>\n",
              "</div>"
            ],
            "text/plain": [
              "      Id           top genre\n",
              "0    454           dance pop\n",
              "1    455          album rock\n",
              "2    456     adult standards\n",
              "3    457           dance pop\n",
              "4    458  brill building pop\n",
              "..   ...                 ...\n",
              "108  563           dance pop\n",
              "109  564           dance pop\n",
              "110  565           dance pop\n",
              "111  566          album rock\n",
              "112  567   alternative metal\n",
              "\n",
              "[113 rows x 2 columns]"
            ]
          },
          "metadata": {
            "tags": []
          },
          "execution_count": 40
        }
      ]
    },
    {
      "cell_type": "code",
      "metadata": {
        "id": "D5LorQET_Xip"
      },
      "source": [
        "for_classifier=RandomForestClassifier(n_estimators=500, max_leaf_nodes=16, random_state=42) \n",
        "for_classifier=for_classifier.fit(train_predictors_final,train_target.values.ravel())\n",
        "predicted_forest=for_classifier.predict(test_predictors_final) \n",
        "  "
      ],
      "execution_count": 41,
      "outputs": []
    },
    {
      "cell_type": "code",
      "metadata": {
        "id": "HQ3QINdq_Xiq",
        "outputId": "eeb7926a-10b8-4636-d0ad-da16eb8e57b1",
        "colab": {
          "base_uri": "https://localhost:8080/",
          "height": 67
        }
      },
      "source": [
        "from sklearn.model_selection import cross_val_score\n",
        "cross_val_score(for_classifier, train_predictors_final, train_target.values.ravel(), cv=3, scoring='accuracy')\n",
        "\n"
      ],
      "execution_count": 42,
      "outputs": [
        {
          "output_type": "stream",
          "text": [
            "/usr/local/lib/python3.6/dist-packages/sklearn/model_selection/_split.py:667: UserWarning: The least populated class in y has only 1 members, which is less than n_splits=3.\n",
            "  % (min_groups, self.n_splits)), UserWarning)\n"
          ],
          "name": "stderr"
        },
        {
          "output_type": "execute_result",
          "data": {
            "text/plain": [
              "array([0.29801325, 0.33112583, 0.31788079])"
            ]
          },
          "metadata": {
            "tags": []
          },
          "execution_count": 42
        }
      ]
    },
    {
      "cell_type": "code",
      "metadata": {
        "id": "klUjJAUp_Xir"
      },
      "source": [
        "classification_results= pd.DataFrame({'Id': classification_test['Id'], 'top genre': predicted_forest})\n",
        "#classification_results \n",
        "#classification_results.to_csv('ff.csv', index = False)\n",
        "#classification accuracy= 35.71%"
      ],
      "execution_count": 43,
      "outputs": []
    },
    {
      "cell_type": "markdown",
      "metadata": {
        "id": "RAImIW5X_Xit"
      },
      "source": [
        "> Feature importances by the RandomForestClassifier:"
      ]
    },
    {
      "cell_type": "code",
      "metadata": {
        "id": "1_gtI3tr_Xit",
        "outputId": "f5cfe8c8-da11-45b1-f423-d5625aeab879",
        "colab": {
          "base_uri": "https://localhost:8080/",
          "height": 101
        }
      },
      "source": [
        "rnd_clf = RandomForestClassifier(n_estimators=500, random_state=42)\n",
        "rnd_clf.fit(train_predictors_final,train_target.values.ravel())\n",
        "for name, score in zip(train_predictors, rnd_clf.feature_importances_):\n",
        "    print(name, score)"
      ],
      "execution_count": 44,
      "outputs": [
        {
          "output_type": "stream",
          "text": [
            "nrgy 0.22090559267524312\n",
            "dnce 0.19669153293294092\n",
            "dB 0.1515738048596474\n",
            "dur 0.23481086584726624\n",
            "pop 0.19601820368490233\n"
          ],
          "name": "stdout"
        }
      ]
    },
    {
      "cell_type": "markdown",
      "metadata": {
        "id": "yfTAU7bV_Xiu"
      },
      "source": [
        "### Stochastic Gradient Descent (SGD) Classifier"
      ]
    },
    {
      "cell_type": "code",
      "metadata": {
        "id": "6mFrXJhf_Xiu",
        "outputId": "7261997a-5627-4104-fe15-0f0e1f500382",
        "colab": {
          "base_uri": "https://localhost:8080/",
          "height": 118
        }
      },
      "source": [
        "from sklearn.linear_model import SGDClassifier\n",
        "sgd_clf= SGDClassifier(max_iter=1000, tol=1e-3, random_state=42)\n",
        "sgd_clf.fit(train_predictors_final, train_target.values.ravel())"
      ],
      "execution_count": 45,
      "outputs": [
        {
          "output_type": "execute_result",
          "data": {
            "text/plain": [
              "SGDClassifier(alpha=0.0001, average=False, class_weight=None,\n",
              "              early_stopping=False, epsilon=0.1, eta0=0.0, fit_intercept=True,\n",
              "              l1_ratio=0.15, learning_rate='optimal', loss='hinge',\n",
              "              max_iter=1000, n_iter_no_change=5, n_jobs=None, penalty='l2',\n",
              "              power_t=0.5, random_state=42, shuffle=True, tol=0.001,\n",
              "              validation_fraction=0.1, verbose=0, warm_start=False)"
            ]
          },
          "metadata": {
            "tags": []
          },
          "execution_count": 45
        }
      ]
    },
    {
      "cell_type": "markdown",
      "metadata": {
        "id": "8uG-6I_k_Xix"
      },
      "source": [
        "> Evaluating the SGDClassifier:\n",
        "\n",
        ">> Using k-fold-cross validation with k=3 (splitting the test set into 3 folds), we make predictions and evaluate each fold using a model trained on the remaining folds:\n"
      ]
    },
    {
      "cell_type": "code",
      "metadata": {
        "id": "qjz_P2ix_Xix",
        "outputId": "27d3acea-df54-4d60-f041-c090ee978ccb",
        "colab": {
          "base_uri": "https://localhost:8080/",
          "height": 67
        }
      },
      "source": [
        "from sklearn.model_selection import cross_val_score\n",
        "cross_val_score(sgd_clf, train_predictors_final, train_target.values.ravel(), cv=3, scoring='accuracy')"
      ],
      "execution_count": 46,
      "outputs": [
        {
          "output_type": "stream",
          "text": [
            "/usr/local/lib/python3.6/dist-packages/sklearn/model_selection/_split.py:667: UserWarning: The least populated class in y has only 1 members, which is less than n_splits=3.\n",
            "  % (min_groups, self.n_splits)), UserWarning)\n"
          ],
          "name": "stderr"
        },
        {
          "output_type": "execute_result",
          "data": {
            "text/plain": [
              "array([0.13907285, 0.1192053 , 0.14569536])"
            ]
          },
          "metadata": {
            "tags": []
          },
          "execution_count": 46
        }
      ]
    },
    {
      "cell_type": "markdown",
      "metadata": {
        "id": "6tRSusyi_Xiy"
      },
      "source": [
        "> The above results show accuracy between 11% and 14% as ratio of correct predictions on all cross-validation folds."
      ]
    },
    {
      "cell_type": "markdown",
      "metadata": {
        "id": "4QtH7Z6Q_Xiy"
      },
      "source": [
        "### Support Vector Machine (SVM) Classifier:"
      ]
    },
    {
      "cell_type": "code",
      "metadata": {
        "id": "ZDyJKZhc_Xiy",
        "outputId": "c7902276-bc47-44af-f221-939da5065f1a",
        "colab": {
          "base_uri": "https://localhost:8080/",
          "height": 84
        }
      },
      "source": [
        "from sklearn.svm import SVC\n",
        "svm_clf= SVC(gamma='auto', random_state=42)\n",
        "svm_clf.fit(train_predictors_final,train_target.values.ravel())\n"
      ],
      "execution_count": 47,
      "outputs": [
        {
          "output_type": "execute_result",
          "data": {
            "text/plain": [
              "SVC(C=1.0, break_ties=False, cache_size=200, class_weight=None, coef0=0.0,\n",
              "    decision_function_shape='ovr', degree=3, gamma='auto', kernel='rbf',\n",
              "    max_iter=-1, probability=False, random_state=42, shrinking=True, tol=0.001,\n",
              "    verbose=False)"
            ]
          },
          "metadata": {
            "tags": []
          },
          "execution_count": 47
        }
      ]
    },
    {
      "cell_type": "code",
      "metadata": {
        "id": "_QN8c2se_Xi2",
        "outputId": "ccf6e403-4267-4d7a-ec50-200c1c61255e",
        "colab": {
          "base_uri": "https://localhost:8080/",
          "height": 67
        }
      },
      "source": [
        "from sklearn.model_selection import cross_val_score\n",
        "cross_val_score(svm_clf, train_predictors_final, train_target.values.ravel(), cv=3, scoring='accuracy')\n",
        "\n",
        "# more promissing than SGDClassifier"
      ],
      "execution_count": 48,
      "outputs": [
        {
          "output_type": "stream",
          "text": [
            "/usr/local/lib/python3.6/dist-packages/sklearn/model_selection/_split.py:667: UserWarning: The least populated class in y has only 1 members, which is less than n_splits=3.\n",
            "  % (min_groups, self.n_splits)), UserWarning)\n"
          ],
          "name": "stderr"
        },
        {
          "output_type": "execute_result",
          "data": {
            "text/plain": [
              "array([0.33774834, 0.33774834, 0.33774834])"
            ]
          },
          "metadata": {
            "tags": []
          },
          "execution_count": 48
        }
      ]
    },
    {
      "cell_type": "code",
      "metadata": {
        "id": "ktDoWOCC_Xi3"
      },
      "source": [
        "svm_clf_predicted= svm_clf.predict(test_predictors_final)"
      ],
      "execution_count": 49,
      "outputs": []
    },
    {
      "cell_type": "code",
      "metadata": {
        "id": "lc8u27BN_Xi4"
      },
      "source": [
        "classification_results= pd.DataFrame({'Id': classification_test['Id'], 'top genre': svm_clf_predicted})\n",
        "#classification_results \n",
        "#classification_results.to_csv('dd.csv', index = False)\n",
        "# classification accuracy= 35.71%"
      ],
      "execution_count": 50,
      "outputs": []
    },
    {
      "cell_type": "markdown",
      "metadata": {
        "id": "uK0PICK0_Xi7"
      },
      "source": [
        "> Increasing regularisation parameter C. The default used above is 1. "
      ]
    },
    {
      "cell_type": "code",
      "metadata": {
        "id": "7pUEH2oE_Xi7",
        "outputId": "2032acff-1900-4734-dda5-33ad218746f3",
        "colab": {
          "base_uri": "https://localhost:8080/",
          "height": 84
        }
      },
      "source": [
        "svm_clf= SVC(gamma='auto', random_state=42,C=2)\n",
        "svm_clf.fit(train_predictors_final,train_target.values.ravel())"
      ],
      "execution_count": 51,
      "outputs": [
        {
          "output_type": "execute_result",
          "data": {
            "text/plain": [
              "SVC(C=2, break_ties=False, cache_size=200, class_weight=None, coef0=0.0,\n",
              "    decision_function_shape='ovr', degree=3, gamma='auto', kernel='rbf',\n",
              "    max_iter=-1, probability=False, random_state=42, shrinking=True, tol=0.001,\n",
              "    verbose=False)"
            ]
          },
          "metadata": {
            "tags": []
          },
          "execution_count": 51
        }
      ]
    },
    {
      "cell_type": "code",
      "metadata": {
        "id": "tSxRYx4X_Xi8",
        "outputId": "149bb018-319a-4202-c30b-d960f83d20d9",
        "colab": {
          "base_uri": "https://localhost:8080/",
          "height": 67
        }
      },
      "source": [
        "from sklearn.model_selection import cross_val_score\n",
        "cross_val_score(svm_clf, train_predictors_final, train_target.values.ravel(), cv=3, scoring='accuracy')"
      ],
      "execution_count": 52,
      "outputs": [
        {
          "output_type": "stream",
          "text": [
            "/usr/local/lib/python3.6/dist-packages/sklearn/model_selection/_split.py:667: UserWarning: The least populated class in y has only 1 members, which is less than n_splits=3.\n",
            "  % (min_groups, self.n_splits)), UserWarning)\n"
          ],
          "name": "stderr"
        },
        {
          "output_type": "execute_result",
          "data": {
            "text/plain": [
              "array([0.35099338, 0.33112583, 0.35099338])"
            ]
          },
          "metadata": {
            "tags": []
          },
          "execution_count": 52
        }
      ]
    },
    {
      "cell_type": "markdown",
      "metadata": {
        "id": "Mi2O9mJT_Xi-"
      },
      "source": [
        "> As we can see, indeed, it performs better."
      ]
    },
    {
      "cell_type": "code",
      "metadata": {
        "id": "bdbfnorH_Xi_"
      },
      "source": [
        "svm_clf_predicted= svm_clf.predict(test_predictors_final)"
      ],
      "execution_count": 53,
      "outputs": []
    },
    {
      "cell_type": "code",
      "metadata": {
        "id": "g-6_FVBD_Xi_"
      },
      "source": [
        "classification_results= pd.DataFrame({'Id': classification_test['Id'], 'top genre': svm_clf_predicted})\n",
        "#classification_results \n",
        "#classification_results.to_csv('ee.csv', index = False)\n",
        "# classification accuracy= 37.5 = RandomForestClassifier accuracy"
      ],
      "execution_count": 54,
      "outputs": []
    },
    {
      "cell_type": "markdown",
      "metadata": {
        "id": "L1-4k6CV_XjE"
      },
      "source": [
        "### KNeighborsClassifier using GridSearchCV\n",
        "\n",
        "> Using grid search on the weights and n_neighbours hyperparameters:"
      ]
    },
    {
      "cell_type": "code",
      "metadata": {
        "id": "Sf4VFSL2_XjF"
      },
      "source": [
        "from sklearn.model_selection import GridSearchCV\n",
        "from sklearn.neighbors import KNeighborsClassifier"
      ],
      "execution_count": 55,
      "outputs": []
    },
    {
      "cell_type": "markdown",
      "metadata": {
        "id": "OkuASAiH_XjF"
      },
      "source": [
        "> ******************************************************************************************************************\n",
        "> Please, for the below codes using GridSearchCV, delete the comments so that the cells can be executed. They are left in comments for readibility because the output covers a lot of pages in the pdf file.\n",
        "> ******************************************************************************************************************"
      ]
    },
    {
      "cell_type": "code",
      "metadata": {
        "id": "5q0a-Cr6_XjF",
        "outputId": "6a4e9dc7-61ea-4b57-b0a5-a7b896d9a1e4",
        "colab": {
          "base_uri": "https://localhost:8080/",
          "height": 52
        }
      },
      "source": [
        "from sklearn.model_selection import GridSearchCV\n",
        "from sklearn.neighbors import KNeighborsClassifier\n",
        "\n",
        "'''\n",
        "param_grid = [{'weights': [\"uniform\", \"distance\"],'n_neighbors': list(range(1,100))}]\n",
        "\n",
        "knn_clf = KNeighborsClassifier()\n",
        "grid_search = GridSearchCV(knn_clf, param_grid, cv=5, verbose=3)\n",
        "grid_search.fit(train_predictors_final,train_target.values.ravel())\n",
        "\n",
        "'''\n"
      ],
      "execution_count": 56,
      "outputs": [
        {
          "output_type": "execute_result",
          "data": {
            "application/vnd.google.colaboratory.intrinsic+json": {
              "type": "string"
            },
            "text/plain": [
              "'\\nparam_grid = [{\\'weights\\': [\"uniform\", \"distance\"],\\'n_neighbors\\': list(range(1,100))}]\\n\\nknn_clf = KNeighborsClassifier()\\ngrid_search = GridSearchCV(knn_clf, param_grid, cv=5, verbose=3)\\ngrid_search.fit(train_predictors_final,train_target.values.ravel())\\n\\n'"
            ]
          },
          "metadata": {
            "tags": []
          },
          "execution_count": 56
        }
      ]
    },
    {
      "cell_type": "code",
      "metadata": {
        "id": "DeHK1StI_XjG"
      },
      "source": [
        "# grid_search.best_params_"
      ],
      "execution_count": 57,
      "outputs": []
    },
    {
      "cell_type": "code",
      "metadata": {
        "id": "TRtlbTWB_XjH"
      },
      "source": [
        "# grid_search.best_score_"
      ],
      "execution_count": 58,
      "outputs": []
    },
    {
      "cell_type": "code",
      "metadata": {
        "id": "xlVh7_lc_XjH",
        "outputId": "a1b021c5-1de9-4073-f5de-346e5b17fb30",
        "colab": {
          "base_uri": "https://localhost:8080/",
          "height": 52
        }
      },
      "source": [
        "'''\n",
        "from sklearn.model_selection import cross_val_score\n",
        "cross_val_score(grid_search, train_predictors_final, train_target.values.ravel(), cv=3, scoring='accuracy')\n",
        "\n",
        "# more promissing than SGDClassifier\n",
        "'''"
      ],
      "execution_count": 59,
      "outputs": [
        {
          "output_type": "execute_result",
          "data": {
            "application/vnd.google.colaboratory.intrinsic+json": {
              "type": "string"
            },
            "text/plain": [
              "\"\\nfrom sklearn.model_selection import cross_val_score\\ncross_val_score(grid_search, train_predictors_final, train_target.values.ravel(), cv=3, scoring='accuracy')\\n\\n# more promissing than SGDClassifier\\n\""
            ]
          },
          "metadata": {
            "tags": []
          },
          "execution_count": 59
        }
      ]
    },
    {
      "cell_type": "code",
      "metadata": {
        "id": "rRfNQUDB_XjI"
      },
      "source": [
        "# grid_predicted= grid_search.predict(test_predictors_final)"
      ],
      "execution_count": 60,
      "outputs": []
    },
    {
      "cell_type": "code",
      "metadata": {
        "id": "7D7iNh3v_XjJ"
      },
      "source": [
        "#classification_results= pd.DataFrame({'Id': classification_test['Id'], 'top genre': grid_predicted})\n",
        "#classification_results \n",
        "#classification_results.to_csv('ww.csv', index = False)\n",
        "#classification accuracy=  32.14%"
      ],
      "execution_count": 61,
      "outputs": []
    },
    {
      "cell_type": "markdown",
      "metadata": {
        "id": "OjCvuABb_XjJ"
      },
      "source": [
        "### Logistic Regression"
      ]
    },
    {
      "cell_type": "code",
      "metadata": {
        "id": "V8Q2ruZq_XjJ",
        "outputId": "5771f56e-0f2c-4119-bfdd-322dc1074d6d",
        "colab": {
          "base_uri": "https://localhost:8080/",
          "height": 101
        }
      },
      "source": [
        "from sklearn.linear_model import LogisticRegression\n",
        "log_reg= LogisticRegression(solver='lbfgs', random_state=42)\n",
        "log_reg.fit(train_predictors_final,train_target.values.ravel())"
      ],
      "execution_count": 62,
      "outputs": [
        {
          "output_type": "execute_result",
          "data": {
            "text/plain": [
              "LogisticRegression(C=1.0, class_weight=None, dual=False, fit_intercept=True,\n",
              "                   intercept_scaling=1, l1_ratio=None, max_iter=100,\n",
              "                   multi_class='auto', n_jobs=None, penalty='l2',\n",
              "                   random_state=42, solver='lbfgs', tol=0.0001, verbose=0,\n",
              "                   warm_start=False)"
            ]
          },
          "metadata": {
            "tags": []
          },
          "execution_count": 62
        }
      ]
    },
    {
      "cell_type": "code",
      "metadata": {
        "id": "aMeYt7ef_XjK"
      },
      "source": [
        "predictions_logistic= log_reg.predict(test_predictors_final)"
      ],
      "execution_count": 63,
      "outputs": []
    },
    {
      "cell_type": "code",
      "metadata": {
        "id": "OSm0vCgJ_XjL",
        "outputId": "bd3c45dc-a1c3-43a7-f5df-bdee8ebbb52a",
        "colab": {
          "base_uri": "https://localhost:8080/",
          "height": 67
        }
      },
      "source": [
        "from sklearn.model_selection import cross_val_score\n",
        "cross_val_score(log_reg, train_predictors_final, train_target.values.ravel(), cv=3, scoring='accuracy')"
      ],
      "execution_count": 64,
      "outputs": [
        {
          "output_type": "stream",
          "text": [
            "/usr/local/lib/python3.6/dist-packages/sklearn/model_selection/_split.py:667: UserWarning: The least populated class in y has only 1 members, which is less than n_splits=3.\n",
            "  % (min_groups, self.n_splits)), UserWarning)\n"
          ],
          "name": "stderr"
        },
        {
          "output_type": "execute_result",
          "data": {
            "text/plain": [
              "array([0.32450331, 0.30463576, 0.31788079])"
            ]
          },
          "metadata": {
            "tags": []
          },
          "execution_count": 64
        }
      ]
    },
    {
      "cell_type": "markdown",
      "metadata": {
        "id": "ee-1UOI-_XjL"
      },
      "source": [
        "> Using solver='linear', which based on the documentation, is more suitable for small datasets:"
      ]
    },
    {
      "cell_type": "code",
      "metadata": {
        "id": "w7LY6Zqd_XjM",
        "outputId": "d82a9e41-0e49-423d-89d0-075e308d3749",
        "colab": {
          "base_uri": "https://localhost:8080/",
          "height": 101
        }
      },
      "source": [
        "from sklearn.linear_model import LogisticRegression\n",
        "log_reg= LogisticRegression(solver='liblinear', random_state=42)\n",
        "log_reg.fit(train_predictors_final,train_target.values.ravel())"
      ],
      "execution_count": 65,
      "outputs": [
        {
          "output_type": "execute_result",
          "data": {
            "text/plain": [
              "LogisticRegression(C=1.0, class_weight=None, dual=False, fit_intercept=True,\n",
              "                   intercept_scaling=1, l1_ratio=None, max_iter=100,\n",
              "                   multi_class='auto', n_jobs=None, penalty='l2',\n",
              "                   random_state=42, solver='liblinear', tol=0.0001, verbose=0,\n",
              "                   warm_start=False)"
            ]
          },
          "metadata": {
            "tags": []
          },
          "execution_count": 65
        }
      ]
    },
    {
      "cell_type": "code",
      "metadata": {
        "id": "TY7-l99J_XjM"
      },
      "source": [
        "predictions_logistic= log_reg.predict(test_predictors_final)"
      ],
      "execution_count": 66,
      "outputs": []
    },
    {
      "cell_type": "code",
      "metadata": {
        "id": "9CVLB_D-_XjO",
        "outputId": "33a14473-3fa5-41f2-90dd-df76c79961ad",
        "colab": {
          "base_uri": "https://localhost:8080/",
          "height": 67
        }
      },
      "source": [
        "from sklearn.model_selection import cross_val_score\n",
        "cross_val_score(log_reg, train_predictors_final, train_target.values.ravel(), cv=3, scoring='accuracy')"
      ],
      "execution_count": 67,
      "outputs": [
        {
          "output_type": "stream",
          "text": [
            "/usr/local/lib/python3.6/dist-packages/sklearn/model_selection/_split.py:667: UserWarning: The least populated class in y has only 1 members, which is less than n_splits=3.\n",
            "  % (min_groups, self.n_splits)), UserWarning)\n"
          ],
          "name": "stderr"
        },
        {
          "output_type": "execute_result",
          "data": {
            "text/plain": [
              "array([0.31788079, 0.33112583, 0.31788079])"
            ]
          },
          "metadata": {
            "tags": []
          },
          "execution_count": 67
        }
      ]
    },
    {
      "cell_type": "code",
      "metadata": {
        "id": "qjTrXUyi_XjO"
      },
      "source": [
        "#classification_results= pd.DataFrame({'Id': classification_test['Id'], 'top genre': predictions_logistic})\n",
        "#classification_results \n",
        "#classification_results.to_csv('ll.csv', index = False)\n",
        "#classification accuracy=  37.5"
      ],
      "execution_count": 68,
      "outputs": []
    },
    {
      "cell_type": "markdown",
      "metadata": {
        "id": "eRVL7Em-_XjP"
      },
      "source": [
        "### Softmax Regression\n",
        "\n",
        "> Just like logistic regression classifier, the Softmax Regression Classifier predicts the class with the highest estimated probability (which is the class with the highest score).\n",
        "\n",
        "> Softmax is suitable for multiclass classification, as in our case (however, not for multioutput one):"
      ]
    },
    {
      "cell_type": "code",
      "metadata": {
        "id": "cOMXbsRN_XjP",
        "outputId": "4acd587c-6ef1-40ee-d753-19f6c0675d77",
        "colab": {
          "base_uri": "https://localhost:8080/",
          "height": 101
        }
      },
      "source": [
        "softmax= LogisticRegression(multi_class='multinomial', solver='lbfgs', C=10, random_state=42, max_iter=1000)\n",
        "softmax.fit(train_predictors_final,train_target.values.ravel())"
      ],
      "execution_count": 69,
      "outputs": [
        {
          "output_type": "execute_result",
          "data": {
            "text/plain": [
              "LogisticRegression(C=10, class_weight=None, dual=False, fit_intercept=True,\n",
              "                   intercept_scaling=1, l1_ratio=None, max_iter=1000,\n",
              "                   multi_class='multinomial', n_jobs=None, penalty='l2',\n",
              "                   random_state=42, solver='lbfgs', tol=0.0001, verbose=0,\n",
              "                   warm_start=False)"
            ]
          },
          "metadata": {
            "tags": []
          },
          "execution_count": 69
        }
      ]
    },
    {
      "cell_type": "code",
      "metadata": {
        "id": "UzvPtqo2_XjQ",
        "outputId": "766562b0-775d-4f1b-d8bd-a8a8c0fdf5a7",
        "colab": {
          "base_uri": "https://localhost:8080/",
          "height": 67
        }
      },
      "source": [
        "from sklearn.model_selection import cross_val_score\n",
        "cross_val_score(softmax, train_predictors_final, train_target.values.ravel(), cv=3, scoring='accuracy')"
      ],
      "execution_count": 70,
      "outputs": [
        {
          "output_type": "stream",
          "text": [
            "/usr/local/lib/python3.6/dist-packages/sklearn/model_selection/_split.py:667: UserWarning: The least populated class in y has only 1 members, which is less than n_splits=3.\n",
            "  % (min_groups, self.n_splits)), UserWarning)\n"
          ],
          "name": "stderr"
        },
        {
          "output_type": "execute_result",
          "data": {
            "text/plain": [
              "array([0.29139073, 0.27152318, 0.31788079])"
            ]
          },
          "metadata": {
            "tags": []
          },
          "execution_count": 70
        }
      ]
    },
    {
      "cell_type": "markdown",
      "metadata": {
        "id": "Oqfkqwbu_XjR"
      },
      "source": [
        "> Trying to decrease the hyperparameter C to 0.3, which here is the inverse of regularization strength (default=1):"
      ]
    },
    {
      "cell_type": "code",
      "metadata": {
        "id": "NhV9iHQH_XjR",
        "outputId": "bdebad61-6d46-4cff-844b-dd1a50ccf852",
        "colab": {
          "base_uri": "https://localhost:8080/",
          "height": 101
        }
      },
      "source": [
        "softmax= LogisticRegression(multi_class='multinomial', solver='lbfgs', C=0.3, random_state=42, max_iter=1000)\n",
        "softmax.fit(train_predictors_final,train_target.values.ravel())"
      ],
      "execution_count": 71,
      "outputs": [
        {
          "output_type": "execute_result",
          "data": {
            "text/plain": [
              "LogisticRegression(C=0.3, class_weight=None, dual=False, fit_intercept=True,\n",
              "                   intercept_scaling=1, l1_ratio=None, max_iter=1000,\n",
              "                   multi_class='multinomial', n_jobs=None, penalty='l2',\n",
              "                   random_state=42, solver='lbfgs', tol=0.0001, verbose=0,\n",
              "                   warm_start=False)"
            ]
          },
          "metadata": {
            "tags": []
          },
          "execution_count": 71
        }
      ]
    },
    {
      "cell_type": "code",
      "metadata": {
        "id": "M5_NkAcS_XjS",
        "outputId": "4dbceb7b-f271-4d6c-97d5-00a7b089b8a3",
        "colab": {
          "base_uri": "https://localhost:8080/",
          "height": 67
        }
      },
      "source": [
        "from sklearn.model_selection import cross_val_score\n",
        "cross_val_score(softmax, train_predictors_final, train_target.values.ravel(), cv=3, scoring='accuracy')"
      ],
      "execution_count": 72,
      "outputs": [
        {
          "output_type": "stream",
          "text": [
            "/usr/local/lib/python3.6/dist-packages/sklearn/model_selection/_split.py:667: UserWarning: The least populated class in y has only 1 members, which is less than n_splits=3.\n",
            "  % (min_groups, self.n_splits)), UserWarning)\n"
          ],
          "name": "stderr"
        },
        {
          "output_type": "execute_result",
          "data": {
            "text/plain": [
              "array([0.33112583, 0.33112583, 0.32450331])"
            ]
          },
          "metadata": {
            "tags": []
          },
          "execution_count": 72
        }
      ]
    },
    {
      "cell_type": "markdown",
      "metadata": {
        "id": "lLs29zTl_XjS"
      },
      "source": [
        "> Indeed, it gave greater accuracy."
      ]
    },
    {
      "cell_type": "code",
      "metadata": {
        "id": "PtGukcpg_XjT"
      },
      "source": [
        "predictions_softmax= softmax.predict(test_predictors_final)"
      ],
      "execution_count": 73,
      "outputs": []
    },
    {
      "cell_type": "code",
      "metadata": {
        "id": "R6hWi5TL_XjT"
      },
      "source": [
        "#classification_results= pd.DataFrame({'Id': classification_test['Id'], 'top genre': predictions_softmax})\n",
        "#classification_results \n",
        "#classification_results.to_csv('ss.csv', index = False)\n",
        "#classification accuracy=  37.5% = RandomForestClassifier=SVMClassifier=Logistic regr. Classifier"
      ],
      "execution_count": 74,
      "outputs": []
    },
    {
      "cell_type": "markdown",
      "metadata": {
        "id": "Je_DVdLC_XjU"
      },
      "source": [
        "### DecisionTreeClassifier"
      ]
    },
    {
      "cell_type": "code",
      "metadata": {
        "id": "4evgJMoh_XjU",
        "outputId": "7b29826e-c086-4d4f-b96f-8c875257b21b",
        "colab": {
          "base_uri": "https://localhost:8080/",
          "height": 118
        }
      },
      "source": [
        "from sklearn.tree import DecisionTreeClassifier\n",
        "tree_clf= DecisionTreeClassifier(max_depth=2,random_state=42)\n",
        "tree_clf.fit(train_predictors_final, train_target.values.ravel())"
      ],
      "execution_count": 75,
      "outputs": [
        {
          "output_type": "execute_result",
          "data": {
            "text/plain": [
              "DecisionTreeClassifier(ccp_alpha=0.0, class_weight=None, criterion='gini',\n",
              "                       max_depth=2, max_features=None, max_leaf_nodes=None,\n",
              "                       min_impurity_decrease=0.0, min_impurity_split=None,\n",
              "                       min_samples_leaf=1, min_samples_split=2,\n",
              "                       min_weight_fraction_leaf=0.0, presort='deprecated',\n",
              "                       random_state=42, splitter='best')"
            ]
          },
          "metadata": {
            "tags": []
          },
          "execution_count": 75
        }
      ]
    },
    {
      "cell_type": "code",
      "metadata": {
        "id": "1Kgs8hkA_XjV"
      },
      "source": [
        "tree_predictions= tree_clf.predict(test_predictors_final)"
      ],
      "execution_count": 76,
      "outputs": []
    },
    {
      "cell_type": "code",
      "metadata": {
        "id": "8E38ca_8_XjW",
        "outputId": "75ffb966-f82e-427d-e46d-409e7b2497e5",
        "colab": {
          "base_uri": "https://localhost:8080/",
          "height": 67
        }
      },
      "source": [
        "from sklearn.model_selection import cross_val_score\n",
        "cross_val_score(tree_clf, train_predictors_final, train_target.values.ravel(), cv=3, scoring='accuracy')"
      ],
      "execution_count": 77,
      "outputs": [
        {
          "output_type": "stream",
          "text": [
            "/usr/local/lib/python3.6/dist-packages/sklearn/model_selection/_split.py:667: UserWarning: The least populated class in y has only 1 members, which is less than n_splits=3.\n",
            "  % (min_groups, self.n_splits)), UserWarning)\n"
          ],
          "name": "stderr"
        },
        {
          "output_type": "execute_result",
          "data": {
            "text/plain": [
              "array([0.29801325, 0.25165563, 0.29139073])"
            ]
          },
          "metadata": {
            "tags": []
          },
          "execution_count": 77
        }
      ]
    },
    {
      "cell_type": "markdown",
      "metadata": {
        "id": "cDxCTJAk_XjW"
      },
      "source": [
        "> The DecisionTreeClassifier is overfitting the test data (accuracy=23.21%) since it is performing better in training (25<accuracy<29%)."
      ]
    },
    {
      "cell_type": "code",
      "metadata": {
        "id": "Oz6sNBGk_XjW"
      },
      "source": [
        "#classification_results= pd.DataFrame({'Id': classification_test['Id'], 'top genre': tree_predictions})\n",
        "#classification_results \n",
        "#classification_results.to_csv('tt.csv', index = False)\n",
        "#classification accuracy=  23.21%"
      ],
      "execution_count": 78,
      "outputs": []
    },
    {
      "cell_type": "code",
      "metadata": {
        "id": "84Bhep0g_XjY",
        "outputId": "a35d0fa6-1100-4c02-df84-7aae8d0d4f20",
        "colab": {
          "base_uri": "https://localhost:8080/",
          "height": 454
        }
      },
      "source": [
        "from sklearn.model_selection import GridSearchCV\n",
        "\n",
        "params = {'max_leaf_nodes': list(range(2, 100)), 'min_samples_split': [2, 3, 4]}\n",
        "grid_search_cv = GridSearchCV(DecisionTreeClassifier(random_state=42), params, verbose=1, cv=3)\n",
        "\n",
        "grid_search_cv.fit(train_predictors_final, train_target.values.ravel())"
      ],
      "execution_count": 79,
      "outputs": [
        {
          "output_type": "stream",
          "text": [
            "/usr/local/lib/python3.6/dist-packages/sklearn/model_selection/_split.py:667: UserWarning: The least populated class in y has only 1 members, which is less than n_splits=3.\n",
            "  % (min_groups, self.n_splits)), UserWarning)\n",
            "[Parallel(n_jobs=1)]: Using backend SequentialBackend with 1 concurrent workers.\n"
          ],
          "name": "stderr"
        },
        {
          "output_type": "stream",
          "text": [
            "Fitting 3 folds for each of 294 candidates, totalling 882 fits\n"
          ],
          "name": "stdout"
        },
        {
          "output_type": "stream",
          "text": [
            "[Parallel(n_jobs=1)]: Done 882 out of 882 | elapsed:    3.0s finished\n"
          ],
          "name": "stderr"
        },
        {
          "output_type": "execute_result",
          "data": {
            "text/plain": [
              "GridSearchCV(cv=3, error_score=nan,\n",
              "             estimator=DecisionTreeClassifier(ccp_alpha=0.0, class_weight=None,\n",
              "                                              criterion='gini', max_depth=None,\n",
              "                                              max_features=None,\n",
              "                                              max_leaf_nodes=None,\n",
              "                                              min_impurity_decrease=0.0,\n",
              "                                              min_impurity_split=None,\n",
              "                                              min_samples_leaf=1,\n",
              "                                              min_samples_split=2,\n",
              "                                              min_weight_fraction_leaf=0.0,\n",
              "                                              presort='deprecated',\n",
              "                                              random_state=42,\n",
              "                                              splitter='best'),\n",
              "             iid='deprecated', n_jobs=None,\n",
              "             param_grid={'max_leaf_nodes': [2, 3, 4, 5, 6, 7, 8, 9, 10, 11, 12,\n",
              "                                            13, 14, 15, 16, 17, 18, 19, 20, 21,\n",
              "                                            22, 23, 24, 25, 26, 27, 28, 29, 30,\n",
              "                                            31, ...],\n",
              "                         'min_samples_split': [2, 3, 4]},\n",
              "             pre_dispatch='2*n_jobs', refit=True, return_train_score=False,\n",
              "             scoring=None, verbose=1)"
            ]
          },
          "metadata": {
            "tags": []
          },
          "execution_count": 79
        }
      ]
    },
    {
      "cell_type": "code",
      "metadata": {
        "id": "nswLW1nD_Xja",
        "outputId": "9dccf57f-f78a-47c4-ecd9-46fcd2dacc08",
        "colab": {
          "base_uri": "https://localhost:8080/",
          "height": 118
        }
      },
      "source": [
        "grid_search_cv.best_estimator_"
      ],
      "execution_count": 80,
      "outputs": [
        {
          "output_type": "execute_result",
          "data": {
            "text/plain": [
              "DecisionTreeClassifier(ccp_alpha=0.0, class_weight=None, criterion='gini',\n",
              "                       max_depth=None, max_features=None, max_leaf_nodes=10,\n",
              "                       min_impurity_decrease=0.0, min_impurity_split=None,\n",
              "                       min_samples_leaf=1, min_samples_split=2,\n",
              "                       min_weight_fraction_leaf=0.0, presort='deprecated',\n",
              "                       random_state=42, splitter='best')"
            ]
          },
          "metadata": {
            "tags": []
          },
          "execution_count": 80
        }
      ]
    },
    {
      "cell_type": "code",
      "metadata": {
        "id": "YE6fd9Rf_Xja"
      },
      "source": [
        "tree_predictions= grid_search_cv.predict(test_predictors_final)"
      ],
      "execution_count": 81,
      "outputs": []
    },
    {
      "cell_type": "code",
      "metadata": {
        "id": "9bn4q-iy_Xjb",
        "outputId": "58f69cd5-b558-4d55-d20d-7f096fffd0f0",
        "colab": {
          "base_uri": "https://localhost:8080/",
          "height": 319
        }
      },
      "source": [
        "from sklearn.model_selection import cross_val_score\n",
        "cross_val_score(grid_search_cv, train_predictors_final, train_target.values.ravel(), cv=3, scoring='accuracy')"
      ],
      "execution_count": 82,
      "outputs": [
        {
          "output_type": "stream",
          "text": [
            "/usr/local/lib/python3.6/dist-packages/sklearn/model_selection/_split.py:667: UserWarning: The least populated class in y has only 1 members, which is less than n_splits=3.\n",
            "  % (min_groups, self.n_splits)), UserWarning)\n",
            "/usr/local/lib/python3.6/dist-packages/sklearn/model_selection/_split.py:667: UserWarning: The least populated class in y has only 1 members, which is less than n_splits=3.\n",
            "  % (min_groups, self.n_splits)), UserWarning)\n",
            "[Parallel(n_jobs=1)]: Using backend SequentialBackend with 1 concurrent workers.\n"
          ],
          "name": "stderr"
        },
        {
          "output_type": "stream",
          "text": [
            "Fitting 3 folds for each of 294 candidates, totalling 882 fits\n"
          ],
          "name": "stdout"
        },
        {
          "output_type": "stream",
          "text": [
            "[Parallel(n_jobs=1)]: Done 882 out of 882 | elapsed:    2.4s finished\n",
            "/usr/local/lib/python3.6/dist-packages/sklearn/model_selection/_split.py:667: UserWarning: The least populated class in y has only 1 members, which is less than n_splits=3.\n",
            "  % (min_groups, self.n_splits)), UserWarning)\n",
            "[Parallel(n_jobs=1)]: Using backend SequentialBackend with 1 concurrent workers.\n"
          ],
          "name": "stderr"
        },
        {
          "output_type": "stream",
          "text": [
            "Fitting 3 folds for each of 294 candidates, totalling 882 fits\n"
          ],
          "name": "stdout"
        },
        {
          "output_type": "stream",
          "text": [
            "[Parallel(n_jobs=1)]: Done 882 out of 882 | elapsed:    2.3s finished\n",
            "/usr/local/lib/python3.6/dist-packages/sklearn/model_selection/_split.py:667: UserWarning: The least populated class in y has only 1 members, which is less than n_splits=3.\n",
            "  % (min_groups, self.n_splits)), UserWarning)\n",
            "[Parallel(n_jobs=1)]: Using backend SequentialBackend with 1 concurrent workers.\n"
          ],
          "name": "stderr"
        },
        {
          "output_type": "stream",
          "text": [
            "Fitting 3 folds for each of 294 candidates, totalling 882 fits\n"
          ],
          "name": "stdout"
        },
        {
          "output_type": "stream",
          "text": [
            "[Parallel(n_jobs=1)]: Done 882 out of 882 | elapsed:    2.3s finished\n"
          ],
          "name": "stderr"
        },
        {
          "output_type": "execute_result",
          "data": {
            "text/plain": [
              "array([0.28476821, 0.2781457 , 0.29801325])"
            ]
          },
          "metadata": {
            "tags": []
          },
          "execution_count": 82
        }
      ]
    },
    {
      "cell_type": "markdown",
      "metadata": {
        "id": "XKSEVG0B_Xjb"
      },
      "source": [
        "> Even using the best estimator using grid search, the results for the decision tree classifier do not seem sarisfactory.\n",
        ">> Modification of SVM:"
      ]
    },
    {
      "cell_type": "markdown",
      "metadata": {
        "id": "1P0Tc8PO_Xjb"
      },
      "source": [
        "> We noticed that increasing the C=2 (instead of the default=1), this model performs a little better in this case in the train data. However, in test set the score is the same as with the previous SVClassifier:"
      ]
    },
    {
      "cell_type": "code",
      "metadata": {
        "id": "0i22oWVn_Xjc",
        "outputId": "d7d81c48-e881-4bee-c014-736319f4351d",
        "colab": {
          "base_uri": "https://localhost:8080/",
          "height": 84
        }
      },
      "source": [
        "svm_clf_kernel= SVC(C=2, random_state=42)\n",
        "svm_clf_kernel.fit(train_predictors_final, train_target.values.ravel())"
      ],
      "execution_count": 83,
      "outputs": [
        {
          "output_type": "execute_result",
          "data": {
            "text/plain": [
              "SVC(C=2, break_ties=False, cache_size=200, class_weight=None, coef0=0.0,\n",
              "    decision_function_shape='ovr', degree=3, gamma='scale', kernel='rbf',\n",
              "    max_iter=-1, probability=False, random_state=42, shrinking=True, tol=0.001,\n",
              "    verbose=False)"
            ]
          },
          "metadata": {
            "tags": []
          },
          "execution_count": 83
        }
      ]
    },
    {
      "cell_type": "code",
      "metadata": {
        "id": "AyV8RFZU_Xjc"
      },
      "source": [
        "svm_clf_kernel_predictions= svm_clf_kernel.predict(test_predictors_final)"
      ],
      "execution_count": 84,
      "outputs": []
    },
    {
      "cell_type": "code",
      "metadata": {
        "id": "bUo-XpO0_Xjd",
        "outputId": "8cecf1fd-ff2e-4f69-de6f-bff7132e70f2",
        "colab": {
          "base_uri": "https://localhost:8080/",
          "height": 67
        }
      },
      "source": [
        "from sklearn.model_selection import cross_val_score\n",
        "cross_val_score(svm_clf_kernel, train_predictors_final, train_target.values.ravel(), cv=3, scoring='accuracy')"
      ],
      "execution_count": 85,
      "outputs": [
        {
          "output_type": "stream",
          "text": [
            "/usr/local/lib/python3.6/dist-packages/sklearn/model_selection/_split.py:667: UserWarning: The least populated class in y has only 1 members, which is less than n_splits=3.\n",
            "  % (min_groups, self.n_splits)), UserWarning)\n"
          ],
          "name": "stderr"
        },
        {
          "output_type": "execute_result",
          "data": {
            "text/plain": [
              "array([0.35099338, 0.33112583, 0.35099338])"
            ]
          },
          "metadata": {
            "tags": []
          },
          "execution_count": 85
        }
      ]
    },
    {
      "cell_type": "code",
      "metadata": {
        "id": "-Q7HvPUK_Xjg"
      },
      "source": [
        "#classification_results= pd.DataFrame({'Id': classification_test['Id'], 'top genre': svm_clf_kernel_predictions})\n",
        "#classification_results \n",
        "#classification_results.to_csv('kr.csv', index = False)\n",
        "#classification accuracy=  37.5%, same as the previous best models"
      ],
      "execution_count": 86,
      "outputs": []
    },
    {
      "cell_type": "code",
      "metadata": {
        "id": "nXrckrGa_Xjh",
        "outputId": "87975d6a-bdef-4684-d954-a1a54afc135e",
        "colab": {
          "base_uri": "https://localhost:8080/",
          "height": 470
        }
      },
      "source": [
        "from sklearn.ensemble import VotingClassifier\n",
        "log_clf = LogisticRegression(solver=\"lbfgs\", random_state=42)\n",
        "rnd_clf = RandomForestClassifier(n_estimators=100, random_state=42)\n",
        "svm_clf = SVC(gamma=\"scale\", probability=True, random_state=42)\n",
        "\n",
        "voting_clf = VotingClassifier(\n",
        "    estimators=[('lr', log_clf), ('rf', rnd_clf), ('svc', svm_clf)],\n",
        "    voting='soft')\n",
        "voting_clf.fit(train_predictors_final, train_target.values.ravel())"
      ],
      "execution_count": 87,
      "outputs": [
        {
          "output_type": "execute_result",
          "data": {
            "text/plain": [
              "VotingClassifier(estimators=[('lr',\n",
              "                              LogisticRegression(C=1.0, class_weight=None,\n",
              "                                                 dual=False, fit_intercept=True,\n",
              "                                                 intercept_scaling=1,\n",
              "                                                 l1_ratio=None, max_iter=100,\n",
              "                                                 multi_class='auto',\n",
              "                                                 n_jobs=None, penalty='l2',\n",
              "                                                 random_state=42,\n",
              "                                                 solver='lbfgs', tol=0.0001,\n",
              "                                                 verbose=0, warm_start=False)),\n",
              "                             ('rf',\n",
              "                              RandomForestClassifier(bootstrap=True,\n",
              "                                                     ccp_alpha=0.0,\n",
              "                                                     class_weight=None,\n",
              "                                                     crit...\n",
              "                                                     oob_score=False,\n",
              "                                                     random_state=42, verbose=0,\n",
              "                                                     warm_start=False)),\n",
              "                             ('svc',\n",
              "                              SVC(C=1.0, break_ties=False, cache_size=200,\n",
              "                                  class_weight=None, coef0=0.0,\n",
              "                                  decision_function_shape='ovr', degree=3,\n",
              "                                  gamma='scale', kernel='rbf', max_iter=-1,\n",
              "                                  probability=True, random_state=42,\n",
              "                                  shrinking=True, tol=0.001, verbose=False))],\n",
              "                 flatten_transform=True, n_jobs=None, voting='soft',\n",
              "                 weights=None)"
            ]
          },
          "metadata": {
            "tags": []
          },
          "execution_count": 87
        }
      ]
    },
    {
      "cell_type": "code",
      "metadata": {
        "id": "JZjc_EF4_Xji"
      },
      "source": [
        "voting_predictions= voting_clf.predict(test_predictors_final)"
      ],
      "execution_count": 88,
      "outputs": []
    },
    {
      "cell_type": "code",
      "metadata": {
        "id": "L9UwG6lv_Xjj",
        "outputId": "e4369c95-c81c-4689-e2bd-cdd56350e635",
        "colab": {
          "base_uri": "https://localhost:8080/",
          "height": 67
        }
      },
      "source": [
        "from sklearn.model_selection import cross_val_score\n",
        "cross_val_score(voting_clf, train_predictors_final, train_target.values.ravel(), cv=3, scoring='accuracy')"
      ],
      "execution_count": 89,
      "outputs": [
        {
          "output_type": "stream",
          "text": [
            "/usr/local/lib/python3.6/dist-packages/sklearn/model_selection/_split.py:667: UserWarning: The least populated class in y has only 1 members, which is less than n_splits=3.\n",
            "  % (min_groups, self.n_splits)), UserWarning)\n"
          ],
          "name": "stderr"
        },
        {
          "output_type": "execute_result",
          "data": {
            "text/plain": [
              "array([0.31125828, 0.34437086, 0.31125828])"
            ]
          },
          "metadata": {
            "tags": []
          },
          "execution_count": 89
        }
      ]
    },
    {
      "cell_type": "code",
      "metadata": {
        "id": "XmlxfF_j_Xjj"
      },
      "source": [
        "classification_results= pd.DataFrame({'Id': classification_test['Id'], 'top genre': voting_predictions})\n",
        "#classification_results \n",
        "#classification_results.to_csv('vv.csv', index = False)\n",
        "#classification accuracy=   37.5%, same as the previous best models"
      ],
      "execution_count": 90,
      "outputs": []
    },
    {
      "cell_type": "markdown",
      "metadata": {
        "id": "i1oV3wWK_Xjk"
      },
      "source": [
        "### Reflection on Classification:\n",
        "\n",
        "> We had several models producing approximately the same accuracy here. Specifically, Random Forest Classifier, SVMClassifier, Logistic Regression Softmax Classifier and Voting Classifier gave approximately 37.5% classification accuracy.\n",
        "One important point here is that Voting Classifier, against expectations, did not give better results. Although, theoritically, it should take the most accurate resutls from every classifier algorithm and produce higher accuracy overall, this did not happen. Again as in regression, this is probably due to the limited number of samples of features in the dataset."
      ]
    }
  ]
}