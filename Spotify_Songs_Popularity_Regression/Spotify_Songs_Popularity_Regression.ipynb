{
  "nbformat": 4,
  "nbformat_minor": 0,
  "metadata": {
    "kernelspec": {
      "display_name": "Python 3",
      "language": "python",
      "name": "python3"
    },
    "language_info": {
      "codemirror_mode": {
        "name": "ipython",
        "version": 3
      },
      "file_extension": ".py",
      "mimetype": "text/x-python",
      "name": "python",
      "nbconvert_exporter": "python",
      "pygments_lexer": "ipython3",
      "version": "3.7.4"
    },
    "colab": {
      "name": "Spotify Songs_Popularity_Regression.ipynb",
      "provenance": [],
      "collapsed_sections": [
        "xmY7CfGx_Xgd"
      ],
      "include_colab_link": true
    }
  },
  "cells": [
    {
      "cell_type": "markdown",
      "metadata": {
        "id": "view-in-github",
        "colab_type": "text"
      },
      "source": [
        "<a href=\"https://colab.research.google.com/github/dimi-fn/Spotify-Songs/blob/master/Spotify_Songs_Popularity_Regression.ipynb\" target=\"_parent\"><img src=\"https://colab.research.google.com/assets/colab-badge.svg\" alt=\"Open In Colab\"/></a>"
      ]
    },
    {
      "cell_type": "code",
      "metadata": {
        "id": "X8ob6Ybn_Xdq"
      },
      "source": [
        "# importing libraries for data analysis and manipulation\n",
        "import pandas as pd\n",
        "import numpy as np"
      ],
      "execution_count": 1,
      "outputs": []
    },
    {
      "cell_type": "code",
      "metadata": {
        "id": "AgzmyUx-_Xdt"
      },
      "source": [
        "# To plot pretty figures\n",
        "%matplotlib inline\n",
        "import matplotlib as mpl\n",
        "import matplotlib.pyplot as plt\n",
        "mpl.rc('axes', labelsize=14)\n",
        "mpl.rc('xtick', labelsize=12)\n",
        "mpl.rc('ytick', labelsize=12)\n",
        "\n",
        "# To ignore potential useless warnings from Scipy (SciPy issue #5998)\n",
        "import warnings\n",
        "warnings.filterwarnings(action=\"ignore\", message=\"^internal gelsd\")\n",
        "\n",
        "# to make this notebook's output identical at every run\n",
        "np.random.seed(42)"
      ],
      "execution_count": 2,
      "outputs": []
    },
    {
      "cell_type": "code",
      "metadata": {
        "id": "BcsFBSXC_9np"
      },
      "source": [
        "# Code to read csv file into colaboratory:\n",
        "!pip install -U -q PyDrive\n",
        "from pydrive.auth import GoogleAuth\n",
        "from pydrive.drive import GoogleDrive\n",
        "from google.colab import auth\n",
        "from oauth2client.client import GoogleCredentials"
      ],
      "execution_count": 3,
      "outputs": []
    },
    {
      "cell_type": "code",
      "metadata": {
        "id": "qFZA-tYQAZfK"
      },
      "source": [
        "auth.authenticate_user()\n",
        "gauth = GoogleAuth()\n",
        "gauth.credentials = GoogleCredentials.get_application_default()\n",
        "drive = GoogleDrive(gauth)"
      ],
      "execution_count": 4,
      "outputs": []
    },
    {
      "cell_type": "markdown",
      "metadata": {
        "id": "aiMfmnZw_Xdw"
      },
      "source": [
        "> Inserting the dataset for regression and classification (the split between train and test set is already done)."
      ]
    },
    {
      "cell_type": "code",
      "metadata": {
        "id": "IMfQgMjgAjE6"
      },
      "source": [
        "downloaded = drive.CreateFile({'id':'1faxDrc-DqcciP0PghJbJJts9CRa0bL82'}) \n",
        "downloaded.GetContentFile('CS98XClassificationTest.csv') \n",
        "classification_test = pd.read_csv('CS98XClassificationTest.csv') \n",
        "\n",
        "downloaded = drive.CreateFile({'id':'1TQq8nRRdowS_aULA1SKviqAisw9NWIUd'}) \n",
        "downloaded.GetContentFile('CS98XClassificationTrain.csv') \n",
        "classification_train = pd.read_csv('CS98XClassificationTrain.csv') \n",
        "\n",
        "downloaded = drive.CreateFile({'id':'1tmBD1ct5ig0UF7iIPmcM0MqDwJpYvtpo'}) \n",
        "downloaded.GetContentFile('CS98XRegressionTest.csv') \n",
        "regression_test = pd.read_csv('CS98XRegressionTest.csv') \n",
        "\n",
        "downloaded = drive.CreateFile({'id':'1Zgg12bV-xXozSRI5Kj4631gwbBe2K8By'}) \n",
        "downloaded.GetContentFile('CS98XRegressionTrain.csv') \n",
        "regression_train = pd.read_csv('CS98XRegressionTrain.csv') "
      ],
      "execution_count": 5,
      "outputs": []
    },
    {
      "cell_type": "markdown",
      "metadata": {
        "id": "xSZWksmZ_Xdy"
      },
      "source": [
        "# Regression Task\n",
        "### The regression task is about building a model which predicts the popularity of a song, hence:"
      ]
    },
    {
      "cell_type": "markdown",
      "metadata": {
        "id": "e9Hdfw_z_Xdz"
      },
      "source": [
        "> Model should learn from the data and be able to predict the popularity of a song given other metrics. It is a supervised learning task since we are given labelled training examples. It is also a multiple regression problem, since we are going to use multiple features which will help the model make predictions about the popularity of a song. Furthermore, it s a univariate regression problem (not multivariate) because we are only trying to predict a single feature (i.e. popularity) for each song. Lastly, this is batch learning (not online learning) since we do not have flow of data coming from external source.\n"
      ]
    },
    {
      "cell_type": "markdown",
      "metadata": {
        "id": "Kn3LGT1I_Xdz"
      },
      "source": [
        "## Exploration of the dataset"
      ]
    },
    {
      "cell_type": "markdown",
      "metadata": {
        "id": "Tvl8xAkO_Xd0"
      },
      "source": [
        "> Getting the shape and the 5 first rows:"
      ]
    },
    {
      "cell_type": "code",
      "metadata": {
        "id": "9VWDo18U_Xd0",
        "outputId": "8f46ab43-977c-4037-88b9-c7f1794f15f0",
        "colab": {
          "base_uri": "https://localhost:8080/",
          "height": 34
        }
      },
      "source": [
        "regression_train.shape"
      ],
      "execution_count": 6,
      "outputs": [
        {
          "output_type": "execute_result",
          "data": {
            "text/plain": [
              "(453, 15)"
            ]
          },
          "metadata": {
            "tags": []
          },
          "execution_count": 6
        }
      ]
    },
    {
      "cell_type": "code",
      "metadata": {
        "id": "9Z9Xld5E_Xd5",
        "outputId": "32c63243-b5b8-4012-c5bb-382fa756ee73",
        "colab": {
          "base_uri": "https://localhost:8080/",
          "height": 34
        }
      },
      "source": [
        "regression_test.shape # we can understand that the split of test and test set was 80/20 (453+114=567 rows totally)"
      ],
      "execution_count": 7,
      "outputs": [
        {
          "output_type": "execute_result",
          "data": {
            "text/plain": [
              "(114, 14)"
            ]
          },
          "metadata": {
            "tags": []
          },
          "execution_count": 7
        }
      ]
    },
    {
      "cell_type": "code",
      "metadata": {
        "id": "rTKe5V-N_Xd8",
        "outputId": "9bc342e5-6807-426b-b88d-280e4825d1a6",
        "colab": {
          "base_uri": "https://localhost:8080/",
          "height": 195
        }
      },
      "source": [
        "regression_train.head()"
      ],
      "execution_count": 8,
      "outputs": [
        {
          "output_type": "execute_result",
          "data": {
            "text/html": [
              "<div>\n",
              "<style scoped>\n",
              "    .dataframe tbody tr th:only-of-type {\n",
              "        vertical-align: middle;\n",
              "    }\n",
              "\n",
              "    .dataframe tbody tr th {\n",
              "        vertical-align: top;\n",
              "    }\n",
              "\n",
              "    .dataframe thead th {\n",
              "        text-align: right;\n",
              "    }\n",
              "</style>\n",
              "<table border=\"1\" class=\"dataframe\">\n",
              "  <thead>\n",
              "    <tr style=\"text-align: right;\">\n",
              "      <th></th>\n",
              "      <th>Id</th>\n",
              "      <th>title</th>\n",
              "      <th>artist</th>\n",
              "      <th>top genre</th>\n",
              "      <th>year</th>\n",
              "      <th>bpm</th>\n",
              "      <th>nrgy</th>\n",
              "      <th>dnce</th>\n",
              "      <th>dB</th>\n",
              "      <th>live</th>\n",
              "      <th>val</th>\n",
              "      <th>dur</th>\n",
              "      <th>acous</th>\n",
              "      <th>spch</th>\n",
              "      <th>pop</th>\n",
              "    </tr>\n",
              "  </thead>\n",
              "  <tbody>\n",
              "    <tr>\n",
              "      <th>0</th>\n",
              "      <td>1</td>\n",
              "      <td>My Happiness</td>\n",
              "      <td>Connie Francis</td>\n",
              "      <td>adult standards</td>\n",
              "      <td>1996</td>\n",
              "      <td>107</td>\n",
              "      <td>31</td>\n",
              "      <td>45</td>\n",
              "      <td>-8</td>\n",
              "      <td>13</td>\n",
              "      <td>28</td>\n",
              "      <td>150</td>\n",
              "      <td>75</td>\n",
              "      <td>3</td>\n",
              "      <td>44</td>\n",
              "    </tr>\n",
              "    <tr>\n",
              "      <th>1</th>\n",
              "      <td>2</td>\n",
              "      <td>Unchained Melody</td>\n",
              "      <td>The Teddy Bears</td>\n",
              "      <td>NaN</td>\n",
              "      <td>2011</td>\n",
              "      <td>114</td>\n",
              "      <td>44</td>\n",
              "      <td>53</td>\n",
              "      <td>-8</td>\n",
              "      <td>13</td>\n",
              "      <td>47</td>\n",
              "      <td>139</td>\n",
              "      <td>49</td>\n",
              "      <td>3</td>\n",
              "      <td>37</td>\n",
              "    </tr>\n",
              "    <tr>\n",
              "      <th>2</th>\n",
              "      <td>3</td>\n",
              "      <td>How Deep Is Your Love</td>\n",
              "      <td>Bee Gees</td>\n",
              "      <td>adult standards</td>\n",
              "      <td>1979</td>\n",
              "      <td>105</td>\n",
              "      <td>36</td>\n",
              "      <td>63</td>\n",
              "      <td>-9</td>\n",
              "      <td>13</td>\n",
              "      <td>67</td>\n",
              "      <td>245</td>\n",
              "      <td>11</td>\n",
              "      <td>3</td>\n",
              "      <td>77</td>\n",
              "    </tr>\n",
              "    <tr>\n",
              "      <th>3</th>\n",
              "      <td>4</td>\n",
              "      <td>Woman in Love</td>\n",
              "      <td>Barbra Streisand</td>\n",
              "      <td>adult standards</td>\n",
              "      <td>1980</td>\n",
              "      <td>170</td>\n",
              "      <td>28</td>\n",
              "      <td>47</td>\n",
              "      <td>-16</td>\n",
              "      <td>13</td>\n",
              "      <td>33</td>\n",
              "      <td>232</td>\n",
              "      <td>25</td>\n",
              "      <td>3</td>\n",
              "      <td>67</td>\n",
              "    </tr>\n",
              "    <tr>\n",
              "      <th>4</th>\n",
              "      <td>5</td>\n",
              "      <td>Goodbye Yellow Brick Road - Remastered 2014</td>\n",
              "      <td>Elton John</td>\n",
              "      <td>glam rock</td>\n",
              "      <td>1973</td>\n",
              "      <td>121</td>\n",
              "      <td>47</td>\n",
              "      <td>56</td>\n",
              "      <td>-8</td>\n",
              "      <td>15</td>\n",
              "      <td>40</td>\n",
              "      <td>193</td>\n",
              "      <td>45</td>\n",
              "      <td>3</td>\n",
              "      <td>63</td>\n",
              "    </tr>\n",
              "  </tbody>\n",
              "</table>\n",
              "</div>"
            ],
            "text/plain": [
              "   Id                                        title  ... spch pop\n",
              "0   1                                 My Happiness  ...    3  44\n",
              "1   2                             Unchained Melody  ...    3  37\n",
              "2   3                        How Deep Is Your Love  ...    3  77\n",
              "3   4                                Woman in Love  ...    3  67\n",
              "4   5  Goodbye Yellow Brick Road - Remastered 2014  ...    3  63\n",
              "\n",
              "[5 rows x 15 columns]"
            ]
          },
          "metadata": {
            "tags": []
          },
          "execution_count": 8
        }
      ]
    },
    {
      "cell_type": "code",
      "metadata": {
        "id": "lgL_d8i1_XeA",
        "outputId": "c1b76b24-2349-490f-c1a8-7fa96e02f287",
        "colab": {
          "base_uri": "https://localhost:8080/",
          "height": 195
        }
      },
      "source": [
        "regression_test.head()"
      ],
      "execution_count": 9,
      "outputs": [
        {
          "output_type": "execute_result",
          "data": {
            "text/html": [
              "<div>\n",
              "<style scoped>\n",
              "    .dataframe tbody tr th:only-of-type {\n",
              "        vertical-align: middle;\n",
              "    }\n",
              "\n",
              "    .dataframe tbody tr th {\n",
              "        vertical-align: top;\n",
              "    }\n",
              "\n",
              "    .dataframe thead th {\n",
              "        text-align: right;\n",
              "    }\n",
              "</style>\n",
              "<table border=\"1\" class=\"dataframe\">\n",
              "  <thead>\n",
              "    <tr style=\"text-align: right;\">\n",
              "      <th></th>\n",
              "      <th>Id</th>\n",
              "      <th>title</th>\n",
              "      <th>artist</th>\n",
              "      <th>top genre</th>\n",
              "      <th>year</th>\n",
              "      <th>bpm</th>\n",
              "      <th>nrgy</th>\n",
              "      <th>dnce</th>\n",
              "      <th>dB</th>\n",
              "      <th>live</th>\n",
              "      <th>val</th>\n",
              "      <th>dur</th>\n",
              "      <th>acous</th>\n",
              "      <th>spch</th>\n",
              "    </tr>\n",
              "  </thead>\n",
              "  <tbody>\n",
              "    <tr>\n",
              "      <th>0</th>\n",
              "      <td>454</td>\n",
              "      <td>Pump It</td>\n",
              "      <td>The Black Eyed Peas</td>\n",
              "      <td>dance pop</td>\n",
              "      <td>2005</td>\n",
              "      <td>154</td>\n",
              "      <td>93</td>\n",
              "      <td>65</td>\n",
              "      <td>-3</td>\n",
              "      <td>75</td>\n",
              "      <td>74</td>\n",
              "      <td>213</td>\n",
              "      <td>1</td>\n",
              "      <td>18</td>\n",
              "    </tr>\n",
              "    <tr>\n",
              "      <th>1</th>\n",
              "      <td>455</td>\n",
              "      <td>Circle of Life - From \"The Lion King\"/Soundtra...</td>\n",
              "      <td>Elton John</td>\n",
              "      <td>glam rock</td>\n",
              "      <td>1994</td>\n",
              "      <td>161</td>\n",
              "      <td>39</td>\n",
              "      <td>30</td>\n",
              "      <td>-15</td>\n",
              "      <td>11</td>\n",
              "      <td>14</td>\n",
              "      <td>292</td>\n",
              "      <td>26</td>\n",
              "      <td>3</td>\n",
              "    </tr>\n",
              "    <tr>\n",
              "      <th>2</th>\n",
              "      <td>456</td>\n",
              "      <td>We Are The Champions - Remastered 2011</td>\n",
              "      <td>Queen</td>\n",
              "      <td>glam rock</td>\n",
              "      <td>1977</td>\n",
              "      <td>64</td>\n",
              "      <td>46</td>\n",
              "      <td>27</td>\n",
              "      <td>-7</td>\n",
              "      <td>12</td>\n",
              "      <td>18</td>\n",
              "      <td>179</td>\n",
              "      <td>38</td>\n",
              "      <td>3</td>\n",
              "    </tr>\n",
              "    <tr>\n",
              "      <th>3</th>\n",
              "      <td>457</td>\n",
              "      <td>Insomnia - Radio Edit</td>\n",
              "      <td>Faithless</td>\n",
              "      <td>big beat</td>\n",
              "      <td>2010</td>\n",
              "      <td>127</td>\n",
              "      <td>92</td>\n",
              "      <td>71</td>\n",
              "      <td>-9</td>\n",
              "      <td>37</td>\n",
              "      <td>53</td>\n",
              "      <td>216</td>\n",
              "      <td>6</td>\n",
              "      <td>4</td>\n",
              "    </tr>\n",
              "    <tr>\n",
              "      <th>4</th>\n",
              "      <td>458</td>\n",
              "      <td>This Eve of Parting</td>\n",
              "      <td>John Hartford</td>\n",
              "      <td>appalachian folk</td>\n",
              "      <td>2018</td>\n",
              "      <td>115</td>\n",
              "      <td>46</td>\n",
              "      <td>56</td>\n",
              "      <td>-12</td>\n",
              "      <td>21</td>\n",
              "      <td>34</td>\n",
              "      <td>153</td>\n",
              "      <td>18</td>\n",
              "      <td>3</td>\n",
              "    </tr>\n",
              "  </tbody>\n",
              "</table>\n",
              "</div>"
            ],
            "text/plain": [
              "    Id                                              title  ... acous spch\n",
              "0  454                                            Pump It  ...     1   18\n",
              "1  455  Circle of Life - From \"The Lion King\"/Soundtra...  ...    26    3\n",
              "2  456             We Are The Champions - Remastered 2011  ...    38    3\n",
              "3  457                              Insomnia - Radio Edit  ...     6    4\n",
              "4  458                                This Eve of Parting  ...    18    3\n",
              "\n",
              "[5 rows x 14 columns]"
            ]
          },
          "metadata": {
            "tags": []
          },
          "execution_count": 9
        }
      ]
    },
    {
      "cell_type": "markdown",
      "metadata": {
        "id": "yR1NPS-3_XeC"
      },
      "source": [
        "> Information about the features of the dataset:"
      ]
    },
    {
      "cell_type": "markdown",
      "metadata": {
        "id": "DL3WbEfL_XeD"
      },
      "source": [
        ">> We notice there are 15 columns:\n",
        "- 3 of them (title, artist, top genre) with categorical values\n",
        "- the rest 12 columns contain numemical values\n",
        "- 'pop', i.e. song's popularity, is the target value (label)\n",
        "- the other 14 attributes can be used as predictors"
      ]
    },
    {
      "cell_type": "code",
      "metadata": {
        "id": "KQE87IP-_XeD",
        "outputId": "08367fb5-c5f0-450b-e33e-3f887b1d3d39",
        "colab": {
          "base_uri": "https://localhost:8080/",
          "height": 386
        }
      },
      "source": [
        "regression_train.info()"
      ],
      "execution_count": 10,
      "outputs": [
        {
          "output_type": "stream",
          "text": [
            "<class 'pandas.core.frame.DataFrame'>\n",
            "RangeIndex: 453 entries, 0 to 452\n",
            "Data columns (total 15 columns):\n",
            " #   Column     Non-Null Count  Dtype \n",
            "---  ------     --------------  ----- \n",
            " 0   Id         453 non-null    int64 \n",
            " 1   title      453 non-null    object\n",
            " 2   artist     453 non-null    object\n",
            " 3   top genre  438 non-null    object\n",
            " 4   year       453 non-null    int64 \n",
            " 5   bpm        453 non-null    int64 \n",
            " 6   nrgy       453 non-null    int64 \n",
            " 7   dnce       453 non-null    int64 \n",
            " 8   dB         453 non-null    int64 \n",
            " 9   live       453 non-null    int64 \n",
            " 10  val        453 non-null    int64 \n",
            " 11  dur        453 non-null    int64 \n",
            " 12  acous      453 non-null    int64 \n",
            " 13  spch       453 non-null    int64 \n",
            " 14  pop        453 non-null    int64 \n",
            "dtypes: int64(12), object(3)\n",
            "memory usage: 53.2+ KB\n"
          ],
          "name": "stdout"
        }
      ]
    },
    {
      "cell_type": "code",
      "metadata": {
        "id": "CGYzmmyC_XeG",
        "outputId": "da0bb686-ed36-4b19-a0b0-2df0e9c4c8de",
        "colab": {
          "base_uri": "https://localhost:8080/",
          "height": 284
        }
      },
      "source": [
        "# summary statistics for numerical features\n",
        "\n",
        "regression_train.describe()"
      ],
      "execution_count": 11,
      "outputs": [
        {
          "output_type": "execute_result",
          "data": {
            "text/html": [
              "<div>\n",
              "<style scoped>\n",
              "    .dataframe tbody tr th:only-of-type {\n",
              "        vertical-align: middle;\n",
              "    }\n",
              "\n",
              "    .dataframe tbody tr th {\n",
              "        vertical-align: top;\n",
              "    }\n",
              "\n",
              "    .dataframe thead th {\n",
              "        text-align: right;\n",
              "    }\n",
              "</style>\n",
              "<table border=\"1\" class=\"dataframe\">\n",
              "  <thead>\n",
              "    <tr style=\"text-align: right;\">\n",
              "      <th></th>\n",
              "      <th>Id</th>\n",
              "      <th>year</th>\n",
              "      <th>bpm</th>\n",
              "      <th>nrgy</th>\n",
              "      <th>dnce</th>\n",
              "      <th>dB</th>\n",
              "      <th>live</th>\n",
              "      <th>val</th>\n",
              "      <th>dur</th>\n",
              "      <th>acous</th>\n",
              "      <th>spch</th>\n",
              "      <th>pop</th>\n",
              "    </tr>\n",
              "  </thead>\n",
              "  <tbody>\n",
              "    <tr>\n",
              "      <th>count</th>\n",
              "      <td>453.000000</td>\n",
              "      <td>453.000000</td>\n",
              "      <td>453.000000</td>\n",
              "      <td>453.000000</td>\n",
              "      <td>453.000000</td>\n",
              "      <td>453.000000</td>\n",
              "      <td>453.000000</td>\n",
              "      <td>453.000000</td>\n",
              "      <td>453.000000</td>\n",
              "      <td>453.000000</td>\n",
              "      <td>453.000000</td>\n",
              "      <td>453.000000</td>\n",
              "    </tr>\n",
              "    <tr>\n",
              "      <th>mean</th>\n",
              "      <td>227.000000</td>\n",
              "      <td>1991.443709</td>\n",
              "      <td>118.399558</td>\n",
              "      <td>60.070640</td>\n",
              "      <td>59.565121</td>\n",
              "      <td>-8.836645</td>\n",
              "      <td>17.757174</td>\n",
              "      <td>59.465784</td>\n",
              "      <td>226.278146</td>\n",
              "      <td>32.982340</td>\n",
              "      <td>5.660044</td>\n",
              "      <td>60.743929</td>\n",
              "    </tr>\n",
              "    <tr>\n",
              "      <th>std</th>\n",
              "      <td>130.914094</td>\n",
              "      <td>16.776103</td>\n",
              "      <td>25.238713</td>\n",
              "      <td>22.205284</td>\n",
              "      <td>15.484458</td>\n",
              "      <td>3.577187</td>\n",
              "      <td>13.830300</td>\n",
              "      <td>24.539868</td>\n",
              "      <td>63.770380</td>\n",
              "      <td>29.530015</td>\n",
              "      <td>5.550581</td>\n",
              "      <td>13.470083</td>\n",
              "    </tr>\n",
              "    <tr>\n",
              "      <th>min</th>\n",
              "      <td>1.000000</td>\n",
              "      <td>1948.000000</td>\n",
              "      <td>62.000000</td>\n",
              "      <td>7.000000</td>\n",
              "      <td>18.000000</td>\n",
              "      <td>-24.000000</td>\n",
              "      <td>2.000000</td>\n",
              "      <td>6.000000</td>\n",
              "      <td>98.000000</td>\n",
              "      <td>0.000000</td>\n",
              "      <td>2.000000</td>\n",
              "      <td>26.000000</td>\n",
              "    </tr>\n",
              "    <tr>\n",
              "      <th>25%</th>\n",
              "      <td>114.000000</td>\n",
              "      <td>1976.000000</td>\n",
              "      <td>100.000000</td>\n",
              "      <td>43.000000</td>\n",
              "      <td>49.000000</td>\n",
              "      <td>-11.000000</td>\n",
              "      <td>9.000000</td>\n",
              "      <td>42.000000</td>\n",
              "      <td>181.000000</td>\n",
              "      <td>7.000000</td>\n",
              "      <td>3.000000</td>\n",
              "      <td>53.000000</td>\n",
              "    </tr>\n",
              "    <tr>\n",
              "      <th>50%</th>\n",
              "      <td>227.000000</td>\n",
              "      <td>1994.000000</td>\n",
              "      <td>119.000000</td>\n",
              "      <td>63.000000</td>\n",
              "      <td>61.000000</td>\n",
              "      <td>-8.000000</td>\n",
              "      <td>13.000000</td>\n",
              "      <td>61.000000</td>\n",
              "      <td>223.000000</td>\n",
              "      <td>24.000000</td>\n",
              "      <td>4.000000</td>\n",
              "      <td>63.000000</td>\n",
              "    </tr>\n",
              "    <tr>\n",
              "      <th>75%</th>\n",
              "      <td>340.000000</td>\n",
              "      <td>2007.000000</td>\n",
              "      <td>133.000000</td>\n",
              "      <td>78.000000</td>\n",
              "      <td>70.000000</td>\n",
              "      <td>-6.000000</td>\n",
              "      <td>23.000000</td>\n",
              "      <td>80.000000</td>\n",
              "      <td>262.000000</td>\n",
              "      <td>58.000000</td>\n",
              "      <td>6.000000</td>\n",
              "      <td>71.000000</td>\n",
              "    </tr>\n",
              "    <tr>\n",
              "      <th>max</th>\n",
              "      <td>453.000000</td>\n",
              "      <td>2019.000000</td>\n",
              "      <td>199.000000</td>\n",
              "      <td>100.000000</td>\n",
              "      <td>96.000000</td>\n",
              "      <td>-1.000000</td>\n",
              "      <td>93.000000</td>\n",
              "      <td>99.000000</td>\n",
              "      <td>511.000000</td>\n",
              "      <td>100.000000</td>\n",
              "      <td>47.000000</td>\n",
              "      <td>84.000000</td>\n",
              "    </tr>\n",
              "  </tbody>\n",
              "</table>\n",
              "</div>"
            ],
            "text/plain": [
              "               Id         year         bpm  ...       acous        spch         pop\n",
              "count  453.000000   453.000000  453.000000  ...  453.000000  453.000000  453.000000\n",
              "mean   227.000000  1991.443709  118.399558  ...   32.982340    5.660044   60.743929\n",
              "std    130.914094    16.776103   25.238713  ...   29.530015    5.550581   13.470083\n",
              "min      1.000000  1948.000000   62.000000  ...    0.000000    2.000000   26.000000\n",
              "25%    114.000000  1976.000000  100.000000  ...    7.000000    3.000000   53.000000\n",
              "50%    227.000000  1994.000000  119.000000  ...   24.000000    4.000000   63.000000\n",
              "75%    340.000000  2007.000000  133.000000  ...   58.000000    6.000000   71.000000\n",
              "max    453.000000  2019.000000  199.000000  ...  100.000000   47.000000   84.000000\n",
              "\n",
              "[8 rows x 12 columns]"
            ]
          },
          "metadata": {
            "tags": []
          },
          "execution_count": 11
        }
      ]
    },
    {
      "cell_type": "markdown",
      "metadata": {
        "id": "Dg6I0YEF_XeJ"
      },
      "source": [
        "> Exploration of the categorical attributes (title, artist, top genre):"
      ]
    },
    {
      "cell_type": "code",
      "metadata": {
        "id": "cXi4G61V_XeN",
        "outputId": "d831da1b-c3b8-4851-f89e-7ff83e4f0fe5",
        "colab": {
          "base_uri": "https://localhost:8080/",
          "height": 34
        }
      },
      "source": [
        "regression_train['title'].nunique()\n"
      ],
      "execution_count": 12,
      "outputs": [
        {
          "output_type": "execute_result",
          "data": {
            "text/plain": [
              "451"
            ]
          },
          "metadata": {
            "tags": []
          },
          "execution_count": 12
        }
      ]
    },
    {
      "cell_type": "code",
      "metadata": {
        "id": "Iwf4rG20_XeX",
        "outputId": "ea2ddba3-db92-4bff-8168-e183597db796",
        "colab": {
          "base_uri": "https://localhost:8080/",
          "height": 34
        }
      },
      "source": [
        "regression_train['artist'].nunique() # totally 345 artists"
      ],
      "execution_count": 13,
      "outputs": [
        {
          "output_type": "execute_result",
          "data": {
            "text/plain": [
              "345"
            ]
          },
          "metadata": {
            "tags": []
          },
          "execution_count": 13
        }
      ]
    },
    {
      "cell_type": "code",
      "metadata": {
        "id": "WOMhU6dy_Xea",
        "outputId": "19f0c83d-4539-4ae9-852e-274f967d2b93",
        "colab": {
          "base_uri": "https://localhost:8080/",
          "height": 34
        }
      },
      "source": [
        "regression_train['top genre'].nunique() # totally 86 top genres"
      ],
      "execution_count": 14,
      "outputs": [
        {
          "output_type": "execute_result",
          "data": {
            "text/plain": [
              "86"
            ]
          },
          "metadata": {
            "tags": []
          },
          "execution_count": 14
        }
      ]
    },
    {
      "cell_type": "code",
      "metadata": {
        "id": "qQVzWBp0_Xec"
      },
      "source": [
        "# top 10 most popular songs\n",
        "top_10_popular=regression_train.sort_values(by=[\"pop\"], ascending=False).head(10)"
      ],
      "execution_count": 15,
      "outputs": []
    },
    {
      "cell_type": "code",
      "metadata": {
        "id": "tZwg1l0a_Xeh",
        "outputId": "c27a4cc2-834e-43ed-e90f-04dd91d18f89",
        "colab": {
          "base_uri": "https://localhost:8080/",
          "height": 343
        }
      },
      "source": [
        "top_10_popular"
      ],
      "execution_count": 16,
      "outputs": [
        {
          "output_type": "execute_result",
          "data": {
            "text/html": [
              "<div>\n",
              "<style scoped>\n",
              "    .dataframe tbody tr th:only-of-type {\n",
              "        vertical-align: middle;\n",
              "    }\n",
              "\n",
              "    .dataframe tbody tr th {\n",
              "        vertical-align: top;\n",
              "    }\n",
              "\n",
              "    .dataframe thead th {\n",
              "        text-align: right;\n",
              "    }\n",
              "</style>\n",
              "<table border=\"1\" class=\"dataframe\">\n",
              "  <thead>\n",
              "    <tr style=\"text-align: right;\">\n",
              "      <th></th>\n",
              "      <th>Id</th>\n",
              "      <th>title</th>\n",
              "      <th>artist</th>\n",
              "      <th>top genre</th>\n",
              "      <th>year</th>\n",
              "      <th>bpm</th>\n",
              "      <th>nrgy</th>\n",
              "      <th>dnce</th>\n",
              "      <th>dB</th>\n",
              "      <th>live</th>\n",
              "      <th>val</th>\n",
              "      <th>dur</th>\n",
              "      <th>acous</th>\n",
              "      <th>spch</th>\n",
              "      <th>pop</th>\n",
              "    </tr>\n",
              "  </thead>\n",
              "  <tbody>\n",
              "    <tr>\n",
              "      <th>294</th>\n",
              "      <td>295</td>\n",
              "      <td>Bohemian Rhapsody - 2011 Mix</td>\n",
              "      <td>Queen</td>\n",
              "      <td>glam rock</td>\n",
              "      <td>1975</td>\n",
              "      <td>71</td>\n",
              "      <td>40</td>\n",
              "      <td>41</td>\n",
              "      <td>-10</td>\n",
              "      <td>30</td>\n",
              "      <td>22</td>\n",
              "      <td>354</td>\n",
              "      <td>27</td>\n",
              "      <td>5</td>\n",
              "      <td>84</td>\n",
              "    </tr>\n",
              "    <tr>\n",
              "      <th>234</th>\n",
              "      <td>235</td>\n",
              "      <td>The Scientist</td>\n",
              "      <td>Coldplay</td>\n",
              "      <td>permanent wave</td>\n",
              "      <td>2002</td>\n",
              "      <td>146</td>\n",
              "      <td>44</td>\n",
              "      <td>56</td>\n",
              "      <td>-7</td>\n",
              "      <td>11</td>\n",
              "      <td>21</td>\n",
              "      <td>310</td>\n",
              "      <td>73</td>\n",
              "      <td>2</td>\n",
              "      <td>83</td>\n",
              "    </tr>\n",
              "    <tr>\n",
              "      <th>263</th>\n",
              "      <td>264</td>\n",
              "      <td>Africa</td>\n",
              "      <td>TOTO</td>\n",
              "      <td>album rock</td>\n",
              "      <td>1982</td>\n",
              "      <td>93</td>\n",
              "      <td>37</td>\n",
              "      <td>67</td>\n",
              "      <td>-18</td>\n",
              "      <td>5</td>\n",
              "      <td>73</td>\n",
              "      <td>296</td>\n",
              "      <td>26</td>\n",
              "      <td>3</td>\n",
              "      <td>83</td>\n",
              "    </tr>\n",
              "    <tr>\n",
              "      <th>337</th>\n",
              "      <td>338</td>\n",
              "      <td>Here Comes The Sun - Remastered 2009</td>\n",
              "      <td>The Beatles</td>\n",
              "      <td>british invasion</td>\n",
              "      <td>1969</td>\n",
              "      <td>129</td>\n",
              "      <td>54</td>\n",
              "      <td>56</td>\n",
              "      <td>-10</td>\n",
              "      <td>18</td>\n",
              "      <td>39</td>\n",
              "      <td>186</td>\n",
              "      <td>3</td>\n",
              "      <td>3</td>\n",
              "      <td>82</td>\n",
              "    </tr>\n",
              "    <tr>\n",
              "      <th>162</th>\n",
              "      <td>163</td>\n",
              "      <td>Another One Bites The Dust - Remastered 2011</td>\n",
              "      <td>Queen</td>\n",
              "      <td>glam rock</td>\n",
              "      <td>1980</td>\n",
              "      <td>110</td>\n",
              "      <td>53</td>\n",
              "      <td>93</td>\n",
              "      <td>-6</td>\n",
              "      <td>16</td>\n",
              "      <td>75</td>\n",
              "      <td>215</td>\n",
              "      <td>11</td>\n",
              "      <td>16</td>\n",
              "      <td>82</td>\n",
              "    </tr>\n",
              "    <tr>\n",
              "      <th>427</th>\n",
              "      <td>428</td>\n",
              "      <td>Numb</td>\n",
              "      <td>Linkin Park</td>\n",
              "      <td>alternative metal</td>\n",
              "      <td>2003</td>\n",
              "      <td>110</td>\n",
              "      <td>86</td>\n",
              "      <td>50</td>\n",
              "      <td>-4</td>\n",
              "      <td>64</td>\n",
              "      <td>24</td>\n",
              "      <td>186</td>\n",
              "      <td>0</td>\n",
              "      <td>4</td>\n",
              "      <td>81</td>\n",
              "    </tr>\n",
              "    <tr>\n",
              "      <th>229</th>\n",
              "      <td>230</td>\n",
              "      <td>Fix You</td>\n",
              "      <td>Coldplay</td>\n",
              "      <td>permanent wave</td>\n",
              "      <td>2005</td>\n",
              "      <td>138</td>\n",
              "      <td>42</td>\n",
              "      <td>21</td>\n",
              "      <td>-9</td>\n",
              "      <td>11</td>\n",
              "      <td>12</td>\n",
              "      <td>296</td>\n",
              "      <td>16</td>\n",
              "      <td>3</td>\n",
              "      <td>81</td>\n",
              "    </tr>\n",
              "    <tr>\n",
              "      <th>374</th>\n",
              "      <td>375</td>\n",
              "      <td>Rocket Man (I Think It's Going To Be A Long Lo...</td>\n",
              "      <td>Elton John</td>\n",
              "      <td>glam rock</td>\n",
              "      <td>1972</td>\n",
              "      <td>137</td>\n",
              "      <td>53</td>\n",
              "      <td>60</td>\n",
              "      <td>-9</td>\n",
              "      <td>9</td>\n",
              "      <td>34</td>\n",
              "      <td>282</td>\n",
              "      <td>43</td>\n",
              "      <td>3</td>\n",
              "      <td>81</td>\n",
              "    </tr>\n",
              "    <tr>\n",
              "      <th>441</th>\n",
              "      <td>442</td>\n",
              "      <td>Break My Stride</td>\n",
              "      <td>Matthew Wilder</td>\n",
              "      <td>new wave pop</td>\n",
              "      <td>1983</td>\n",
              "      <td>110</td>\n",
              "      <td>59</td>\n",
              "      <td>92</td>\n",
              "      <td>-11</td>\n",
              "      <td>9</td>\n",
              "      <td>83</td>\n",
              "      <td>184</td>\n",
              "      <td>20</td>\n",
              "      <td>6</td>\n",
              "      <td>81</td>\n",
              "    </tr>\n",
              "    <tr>\n",
              "      <th>346</th>\n",
              "      <td>347</td>\n",
              "      <td>I Wanna Dance with Somebody (Who Loves Me)</td>\n",
              "      <td>Whitney Houston</td>\n",
              "      <td>dance pop</td>\n",
              "      <td>1987</td>\n",
              "      <td>119</td>\n",
              "      <td>82</td>\n",
              "      <td>71</td>\n",
              "      <td>-9</td>\n",
              "      <td>9</td>\n",
              "      <td>87</td>\n",
              "      <td>291</td>\n",
              "      <td>21</td>\n",
              "      <td>5</td>\n",
              "      <td>80</td>\n",
              "    </tr>\n",
              "  </tbody>\n",
              "</table>\n",
              "</div>"
            ],
            "text/plain": [
              "      Id                                              title  ... spch pop\n",
              "294  295                       Bohemian Rhapsody - 2011 Mix  ...    5  84\n",
              "234  235                                      The Scientist  ...    2  83\n",
              "263  264                                             Africa  ...    3  83\n",
              "337  338               Here Comes The Sun - Remastered 2009  ...    3  82\n",
              "162  163       Another One Bites The Dust - Remastered 2011  ...   16  82\n",
              "427  428                                               Numb  ...    4  81\n",
              "229  230                                            Fix You  ...    3  81\n",
              "374  375  Rocket Man (I Think It's Going To Be A Long Lo...  ...    3  81\n",
              "441  442                                    Break My Stride  ...    6  81\n",
              "346  347         I Wanna Dance with Somebody (Who Loves Me)  ...    5  80\n",
              "\n",
              "[10 rows x 15 columns]"
            ]
          },
          "metadata": {
            "tags": []
          },
          "execution_count": 16
        }
      ]
    },
    {
      "cell_type": "markdown",
      "metadata": {
        "id": "y9XmMaWu_Xek"
      },
      "source": [
        "## Visualisation of the dataset"
      ]
    },
    {
      "cell_type": "code",
      "metadata": {
        "id": "PXoCLrdu_Xel",
        "outputId": "3cc65944-9b85-4f3e-ecb9-6ad78e584557",
        "colab": {
          "base_uri": "https://localhost:8080/",
          "height": 70
        }
      },
      "source": [
        "# For visualising distributional values\n",
        "import seaborn as sns\n",
        "import matplotlib.pyplot as plt"
      ],
      "execution_count": 17,
      "outputs": [
        {
          "output_type": "stream",
          "text": [
            "/usr/local/lib/python3.6/dist-packages/statsmodels/tools/_testing.py:19: FutureWarning: pandas.util.testing is deprecated. Use the functions in the public API at pandas.testing instead.\n",
            "  import pandas.util.testing as tm\n"
          ],
          "name": "stderr"
        }
      ]
    },
    {
      "cell_type": "code",
      "metadata": {
        "id": "qJMUNPgL_Xeo",
        "outputId": "ed3938f0-b5b6-4a17-f8bc-3dc1e5124bd5",
        "colab": {
          "base_uri": "https://localhost:8080/",
          "height": 302
        }
      },
      "source": [
        "\n",
        "regression_train[\"top genre\"].value_counts().nlargest(5).sort_values(ascending=True).plot.barh()\n",
        "plt.ylabel(\"Top genre\")\n",
        "plt.xlabel(\"Count\")\n",
        "plt.title(\"Top Genres (top 5)\")\n",
        "plt.show()"
      ],
      "execution_count": 18,
      "outputs": [
        {
          "output_type": "display_data",
          "data": {
            "image/png": "[encoded data removed]",
            "text/plain": [
              "<Figure size 432x288 with 1 Axes>"
            ]
          },
          "metadata": {
            "tags": [],
            "needs_background": "light"
          }
        }
      ]
    },
    {
      "cell_type": "code",
      "metadata": {
        "id": "XTsQnDFv_Xer",
        "outputId": "55bf4b72-87ea-4c96-913f-3941208032bc",
        "colab": {
          "base_uri": "https://localhost:8080/",
          "height": 447
        }
      },
      "source": [
        "# Plot histograms \n",
        "%matplotlib inline\n",
        "import matplotlib.pyplot as plt\n",
        "\n",
        "regression_train.hist(bins=50, figsize=(12,7))\n",
        "plt.show()"
      ],
      "execution_count": 19,
      "outputs": [
        {
          "output_type": "display_data",
          "data": {
            "image/png": "[encoded data removed]",
            "text/plain": [
              "<Figure size 864x504 with 12 Axes>"
            ]
          },
          "metadata": {
            "tags": [],
            "needs_background": "light"
          }
        }
      ]
    },
    {
      "cell_type": "code",
      "metadata": {
        "id": "0IS_Xp7p_Xet",
        "outputId": "81126ffb-362c-4334-f998-ec91570732b7",
        "colab": {
          "base_uri": "https://localhost:8080/",
          "height": 286
        }
      },
      "source": [
        "# Plot boxplot of particular feautures\n",
        "regression_train_boxplot= regression_train[['bpm', 'nrgy', 'dnce', 'dB', 'live', 'val', 'spch', 'pop']]\n",
        "sns.boxplot(data=regression_train_boxplot)\n",
        "plt.xlabel('Features')\n",
        "plt.ylabel('Value')\n",
        "plt.show()"
      ],
      "execution_count": 20,
      "outputs": [
        {
          "output_type": "display_data",
          "data": {
            "image/png": "[encoded data removed]",
            "text/plain": [
              "<Figure size 432x288 with 1 Axes>"
            ]
          },
          "metadata": {
            "tags": [],
            "needs_background": "light"
          }
        }
      ]
    },
    {
      "cell_type": "code",
      "metadata": {
        "id": "KPh6J1C9_Xev",
        "outputId": "c31c0d3e-6144-4ad2-ce4b-85ab23ce9f5c",
        "colab": {
          "base_uri": "https://localhost:8080/",
          "height": 613
        }
      },
      "source": [
        "# violin plot between popularity and loudness regarding the top 10 popular songs\n",
        "plt.figure(figsize=(15,10))\n",
        "sns.violinplot(x= \"pop\", y=\"dB\", data= top_10_popular)\n",
        "plt.show()\n",
        "\n",
        "\n"
      ],
      "execution_count": 21,
      "outputs": [
        {
          "output_type": "display_data",
          "data": {
            "image/png": "[encoded data removed]",
            "text/plain": [
              "<Figure size 1080x720 with 1 Axes>"
            ]
          },
          "metadata": {
            "tags": [],
            "needs_background": "light"
          }
        }
      ]
    },
    {
      "cell_type": "markdown",
      "metadata": {
        "id": "WudLZrTC_Xey"
      },
      "source": [
        ">Heatmap of the dataset:\n"
      ]
    },
    {
      "cell_type": "markdown",
      "metadata": {
        "id": "D0GqzpDH_Xey"
      },
      "source": [
        ">>The darker the colour(closest to 1), the stronger is the correlation. Here we notice that popularity has strong correlation with energy(nrgy), danceability(dnce), loudness(dB) (and duration, but probably not important):"
      ]
    },
    {
      "cell_type": "code",
      "metadata": {
        "id": "CGROjypo_Xey",
        "outputId": "3f264ada-a824-410f-87c1-2854afa02721",
        "colab": {
          "base_uri": "https://localhost:8080/",
          "height": 611
        }
      },
      "source": [
        "# Plot linear correlation matrix\n",
        "fig, ax = plt.subplots(figsize=(15,10))\n",
        "sns.heatmap(regression_train.corr(), annot=True, cmap='YlGnBu', vmin=-1, vmax=1, center=0, ax=ax)\n",
        "plt.title('Linear Correlation Matrix')\n",
        "plt.show()"
      ],
      "execution_count": 22,
      "outputs": [
        {
          "output_type": "display_data",
          "data": {
            "image/png": "[encoded data removed]",
            "text/plain": [
              "<Figure size 1080x720 with 2 Axes>"
            ]
          },
          "metadata": {
            "tags": [],
            "needs_background": "light"
          }
        }
      ]
    },
    {
      "cell_type": "markdown",
      "metadata": {
        "id": "g3N3KCXb_Xe1"
      },
      "source": [
        "> Fitting linear lines between the numerical attributes which seemed to have strong correlation in heatmap"
      ]
    },
    {
      "cell_type": "code",
      "metadata": {
        "id": "OVL6jgWh_Xe1",
        "outputId": "7c492b72-58f7-43e9-c713-02ba0f520e05",
        "colab": {
          "base_uri": "https://localhost:8080/",
          "height": 1000
        }
      },
      "source": [
        "'''\n",
        "Fit line between popoluarity and energy\n",
        "'''\n",
        "fig, ax = plt.subplots() \n",
        "fit = np.polyfit(regression_train['nrgy'], regression_train['pop'], deg=1)\n",
        "print(fit)\n",
        "ax.plot(regression_train['nrgy'], fit[0] * regression_train['nrgy'] + fit[1], color='green')\n",
        "ax.scatter(regression_train['nrgy'],regression_train['pop'])\n",
        "plt.xlabel(\"Energy\")\n",
        "plt.ylabel(\"Popularity\") \n",
        "plt.title('Fitting the line between popularity and energy')\n",
        "plt.show()\n",
        "\n",
        "'''\n",
        "Fit line between popoluarity and loudness\n",
        "'''\n",
        "fig, ax = plt.subplots() \n",
        "fit = np.polyfit(regression_train['dB'], regression_train['pop'], deg=1)\n",
        "print(fit)\n",
        "ax.plot(regression_train['dB'], fit[0] * regression_train['dB'] + fit[1], color='green')\n",
        "ax.scatter(regression_train['dB'],regression_train['pop'])\n",
        "plt.xlabel(\"Loudness\")\n",
        "plt.ylabel(\"Popularity\") \n",
        "plt.title('Fitting the line between popularity and loudness')\n",
        "plt.show()\n",
        "\n",
        "\n",
        "'''\n",
        "Fit line between popoluarity and danceability\n",
        "'''\n",
        "fig, ax = plt.subplots() \n",
        "fit = np.polyfit(regression_train['dnce'], regression_train['pop'], deg=1)\n",
        "print(fit)\n",
        "ax.plot(regression_train['dnce'], fit[0] * regression_train['dnce'] + fit[1], color='green')\n",
        "ax.scatter(regression_train['dnce'],regression_train['pop'])\n",
        "plt.xlabel(\"Danceability\")\n",
        "plt.ylabel(\"Popularity\") \n",
        "plt.title('Fitting the line between popularity and danceability')\n",
        "plt.show()\n",
        "\n",
        "'''\n",
        "Fit line between popoluarity and duration\n",
        "'''\n",
        "fig, ax = plt.subplots() \n",
        "fit = np.polyfit(regression_train['dur'], regression_train['pop'], deg=1)\n",
        "print(fit)\n",
        "ax.plot(regression_train['dur'], fit[0] * regression_train['dur'] + fit[1], color='green')\n",
        "ax.scatter(regression_train['dur'],regression_train['pop'])\n",
        "plt.xlabel(\"Duration\")\n",
        "plt.ylabel(\"Popularity\") \n",
        "plt.title('Fitting the line between popularity and duration')\n",
        "plt.show()\n"
      ],
      "execution_count": 23,
      "outputs": [
        {
          "output_type": "stream",
          "text": [
            "[ 0.18428789 49.67363777]\n"
          ],
          "name": "stdout"
        },
        {
          "output_type": "display_data",
          "data": {
            "image/png": "[encoded data removed]",
            "text/plain": [
              "<Figure size 432x288 with 1 Axes>"
            ]
          },
          "metadata": {
            "tags": [],
            "needs_background": "light"
          }
        },
        {
          "output_type": "stream",
          "text": [
            "[ 1.19312839 71.28718085]\n"
          ],
          "name": "stdout"
        },
        {
          "output_type": "display_data",
          "data": {
            "image/png": "[encoded data removed]",
            "text/plain": [
              "<Figure size 432x288 with 1 Axes>"
            ]
          },
          "metadata": {
            "tags": [],
            "needs_background": "light"
          }
        },
        {
          "output_type": "stream",
          "text": [
            "[ 0.22501942 47.34062005]\n"
          ],
          "name": "stdout"
        },
        {
          "output_type": "display_data",
          "data": {
            "image/png": "[encoded data removed]",
            "text/plain": [
              "<Figure size 432x288 with 1 Axes>"
            ]
          },
          "metadata": {
            "tags": [],
            "needs_background": "light"
          }
        },
        {
          "output_type": "stream",
          "text": [
            "[ 0.07673189 43.38117924]\n"
          ],
          "name": "stdout"
        },
        {
          "output_type": "display_data",
          "data": {
            "image/png": "[encoded data removed]",
            "text/plain": [
              "<Figure size 432x288 with 1 Axes>"
            ]
          },
          "metadata": {
            "tags": [],
            "needs_background": "light"
          }
        }
      ]
    },
    {
      "cell_type": "markdown",
      "metadata": {
        "id": "E_Ix7WbW_Xe3"
      },
      "source": [
        "> Exploring the attribute \"energy\" more in depth:"
      ]
    },
    {
      "cell_type": "code",
      "metadata": {
        "id": "LWadvo28_Xe4",
        "outputId": "fb8cf2f7-6bb0-4797-8ffa-5492f6f028b4",
        "colab": {
          "base_uri": "https://localhost:8080/",
          "height": 291
        }
      },
      "source": [
        "import seaborn as sns\n",
        "color= sns.color_palette()\n",
        "sns.set_style('darkgrid')\n",
        "sns.distplot(regression_train.nrgy)\n",
        "plt.show()"
      ],
      "execution_count": 24,
      "outputs": [
        {
          "output_type": "display_data",
          "data": {
            "image/png": "[encoded data removed]",
            "text/plain": [
              "<Figure size 432x288 with 1 Axes>"
            ]
          },
          "metadata": {
            "tags": []
          }
        }
      ]
    },
    {
      "cell_type": "markdown",
      "metadata": {
        "id": "xHVkdYXR_Xe7"
      },
      "source": [
        "### Further Correlations"
      ]
    },
    {
      "cell_type": "markdown",
      "metadata": {
        "id": "JLYVEF-B_Xe7"
      },
      "source": [
        "> Below we will use the standard correlation coefficient (Pearson's r) between every pair of attributes compared to 'popularity', with the corr() method:"
      ]
    },
    {
      "cell_type": "markdown",
      "metadata": {
        "id": "AKd-_IKr_Xe8"
      },
      "source": [
        "> Standard correlation coefficient calculates strength of linear relationship:\n",
        "    * close to +1 it indicates a strong positive correlation\n",
        "    * close to -1 means a strong negative one"
      ]
    },
    {
      "cell_type": "code",
      "metadata": {
        "id": "kAAlryGZ_Xe8",
        "outputId": "c5cc6840-cbc8-437c-874a-4c16be515224",
        "colab": {
          "base_uri": "https://localhost:8080/",
          "height": 235
        }
      },
      "source": [
        "corr_matrix= regression_train.corr()\n",
        "corr_matrix\n",
        "corr_matrix['pop'].sort_values(ascending=False)"
      ],
      "execution_count": 25,
      "outputs": [
        {
          "output_type": "execute_result",
          "data": {
            "text/plain": [
              "pop      1.000000\n",
              "dur      0.363266\n",
              "dB       0.316854\n",
              "nrgy     0.303797\n",
              "dnce     0.258670\n",
              "spch     0.130955\n",
              "Id       0.086837\n",
              "bpm      0.055024\n",
              "val     -0.018713\n",
              "live    -0.051364\n",
              "year    -0.054293\n",
              "acous   -0.465875\n",
              "Name: pop, dtype: float64"
            ]
          },
          "metadata": {
            "tags": []
          },
          "execution_count": 25
        }
      ]
    },
    {
      "cell_type": "markdown",
      "metadata": {
        "id": "mY37Pdma_XfD"
      },
      "source": [
        "> So from above, we can notice that popularity has strong positive linear relationship with: duration, loudness (dB), energy and danceability (and in lower degree with speechiness)"
      ]
    },
    {
      "cell_type": "code",
      "metadata": {
        "id": "rLZi2jag_XfD",
        "outputId": "8017da53-51bc-40a5-e8cf-8e4f64c9491f",
        "colab": {
          "base_uri": "https://localhost:8080/",
          "height": 285
        }
      },
      "source": [
        "# histogram of loudness\n",
        "\n",
        "regression_train['dB'].hist()"
      ],
      "execution_count": 26,
      "outputs": [
        {
          "output_type": "execute_result",
          "data": {
            "text/plain": [
              "<matplotlib.axes._subplots.AxesSubplot at 0x7f3b8a1fae10>"
            ]
          },
          "metadata": {
            "tags": []
          },
          "execution_count": 26
        },
        {
          "output_type": "display_data",
          "data": {
            "image/png": "[encoded data removed]",
            "text/plain": [
              "<Figure size 432x288 with 1 Axes>"
            ]
          },
          "metadata": {
            "tags": []
          }
        }
      ]
    },
    {
      "cell_type": "code",
      "metadata": {
        "id": "-2H1VW-x_XfG",
        "outputId": "cf36f020-23b3-4b3f-8f4d-34452ae81339",
        "colab": {
          "base_uri": "https://localhost:8080/",
          "height": 285
        }
      },
      "source": [
        "# Histogram of energy\n",
        "\n",
        "regression_train['nrgy'].hist()"
      ],
      "execution_count": 27,
      "outputs": [
        {
          "output_type": "execute_result",
          "data": {
            "text/plain": [
              "<matplotlib.axes._subplots.AxesSubplot at 0x7f3b8e3ae240>"
            ]
          },
          "metadata": {
            "tags": []
          },
          "execution_count": 27
        },
        {
          "output_type": "display_data",
          "data": {
            "image/png": "[encoded data removed]",
            "text/plain": [
              "<Figure size 432x288 with 1 Axes>"
            ]
          },
          "metadata": {
            "tags": []
          }
        }
      ]
    },
    {
      "cell_type": "code",
      "metadata": {
        "id": "w_W7oBIh_XfI",
        "outputId": "097eb7e1-5738-4547-918c-da1288ba384d",
        "colab": {
          "base_uri": "https://localhost:8080/",
          "height": 307
        }
      },
      "source": [
        "#scatter plot between energy and loudness which seem to be important indicators for song's popularity\n",
        "\n",
        "regression_train.plot(kind='scatter', x='nrgy', y='dB', alpha=0.4)\n",
        "plt.show"
      ],
      "execution_count": 28,
      "outputs": [
        {
          "output_type": "execute_result",
          "data": {
            "text/plain": [
              "<function matplotlib.pyplot.show>"
            ]
          },
          "metadata": {
            "tags": []
          },
          "execution_count": 28
        },
        {
          "output_type": "display_data",
          "data": {
            "image/png": "[encoded data removed]",
            "text/plain": [
              "<Figure size 432x288 with 1 Axes>"
            ]
          },
          "metadata": {
            "tags": []
          }
        }
      ]
    },
    {
      "cell_type": "code",
      "metadata": {
        "id": "xDou9Ier_XfK",
        "outputId": "866f2220-c6e5-4549-d475-09a6a3f10499",
        "colab": {
          "base_uri": "https://localhost:8080/",
          "height": 286
        }
      },
      "source": [
        "# alpha for transparency\n",
        "regression_train.plot(kind='scatter', x= 'dB', y='pop', alpha=0.6)\n",
        "plt.show()"
      ],
      "execution_count": 29,
      "outputs": [
        {
          "output_type": "display_data",
          "data": {
            "image/png": "[encoded data removed]",
            "text/plain": [
              "<Figure size 432x288 with 1 Axes>"
            ]
          },
          "metadata": {
            "tags": []
          }
        }
      ]
    },
    {
      "cell_type": "markdown",
      "metadata": {
        "id": "ueo4G79n_XfN"
      },
      "source": [
        "## Preparing the data for machine learning algorithms"
      ]
    },
    {
      "cell_type": "markdown",
      "metadata": {
        "id": "iZuqiPw6_XfO"
      },
      "source": [
        "> Calling the isolated dataframe as: 'spotify'"
      ]
    },
    {
      "cell_type": "code",
      "metadata": {
        "id": "cJ7gzRyo_XfO"
      },
      "source": [
        "spotify= regression_train.drop('pop', axis=1) # isolating the target which is 'pop'\n",
        "spotify_labels= regression_train['pop'].copy()               # target variable/label is 'pop'"
      ],
      "execution_count": 30,
      "outputs": []
    },
    {
      "cell_type": "markdown",
      "metadata": {
        "id": "MW0MKPhX_XfR"
      },
      "source": [
        "### Data Cleaning\n",
        "\n",
        "###  Feature Engineering: feature selection"
      ]
    },
    {
      "cell_type": "code",
      "metadata": {
        "id": "9CcGZUsF_XfR"
      },
      "source": [
        "spotify = spotify[['top genre', 'nrgy', 'dnce', 'dB', 'dur']] # the final train predictos we are keeping\n"
      ],
      "execution_count": 31,
      "outputs": []
    },
    {
      "cell_type": "code",
      "metadata": {
        "id": "LeaFT4J3_XfT",
        "outputId": "896d327a-c791-4532-e7c2-bceaa07f6381",
        "colab": {
          "base_uri": "https://localhost:8080/",
          "height": 34
        }
      },
      "source": [
        "spotify.shape"
      ],
      "execution_count": 32,
      "outputs": [
        {
          "output_type": "execute_result",
          "data": {
            "text/plain": [
              "(453, 5)"
            ]
          },
          "metadata": {
            "tags": []
          },
          "execution_count": 32
        }
      ]
    },
    {
      "cell_type": "markdown",
      "metadata": {
        "id": "P31bSZKP_XfV"
      },
      "source": [
        "> Most ML algorithms cannot work with missing features so this is an important step:"
      ]
    },
    {
      "cell_type": "code",
      "metadata": {
        "id": "XFZUcUbw_XfV",
        "outputId": "c992234e-975f-4c86-d5c1-1242cc80ffa5",
        "colab": {
          "base_uri": "https://localhost:8080/",
          "height": 118
        }
      },
      "source": [
        "spotify.isnull().any()"
      ],
      "execution_count": 33,
      "outputs": [
        {
          "output_type": "execute_result",
          "data": {
            "text/plain": [
              "top genre     True\n",
              "nrgy         False\n",
              "dnce         False\n",
              "dB           False\n",
              "dur          False\n",
              "dtype: bool"
            ]
          },
          "metadata": {
            "tags": []
          },
          "execution_count": 33
        }
      ]
    },
    {
      "cell_type": "code",
      "metadata": {
        "id": "ScNV8PXv_XfX",
        "outputId": "028ded43-a513-4777-e09b-d209c2a174e1",
        "colab": {
          "base_uri": "https://localhost:8080/",
          "height": 118
        }
      },
      "source": [
        "spotify.isnull().sum()"
      ],
      "execution_count": 34,
      "outputs": [
        {
          "output_type": "execute_result",
          "data": {
            "text/plain": [
              "top genre    15\n",
              "nrgy          0\n",
              "dnce          0\n",
              "dB            0\n",
              "dur           0\n",
              "dtype: int64"
            ]
          },
          "metadata": {
            "tags": []
          },
          "execution_count": 34
        }
      ]
    },
    {
      "cell_type": "markdown",
      "metadata": {
        "id": "MZYURdJi_XfZ"
      },
      "source": [
        "> We can view the 15 missing values in the column 'top genre'"
      ]
    },
    {
      "cell_type": "code",
      "metadata": {
        "id": "NhJfT0SB_XfZ",
        "outputId": "91417894-5668-4095-dd14-c0b3e9ef490d",
        "colab": {
          "base_uri": "https://localhost:8080/",
          "height": 491
        }
      },
      "source": [
        "missing_values_regr= spotify[spotify.isnull().any(axis=1)]\n",
        "missing_values_regr"
      ],
      "execution_count": 35,
      "outputs": [
        {
          "output_type": "execute_result",
          "data": {
            "text/html": [
              "<div>\n",
              "<style scoped>\n",
              "    .dataframe tbody tr th:only-of-type {\n",
              "        vertical-align: middle;\n",
              "    }\n",
              "\n",
              "    .dataframe tbody tr th {\n",
              "        vertical-align: top;\n",
              "    }\n",
              "\n",
              "    .dataframe thead th {\n",
              "        text-align: right;\n",
              "    }\n",
              "</style>\n",
              "<table border=\"1\" class=\"dataframe\">\n",
              "  <thead>\n",
              "    <tr style=\"text-align: right;\">\n",
              "      <th></th>\n",
              "      <th>top genre</th>\n",
              "      <th>nrgy</th>\n",
              "      <th>dnce</th>\n",
              "      <th>dB</th>\n",
              "      <th>dur</th>\n",
              "    </tr>\n",
              "  </thead>\n",
              "  <tbody>\n",
              "    <tr>\n",
              "      <th>1</th>\n",
              "      <td>NaN</td>\n",
              "      <td>44</td>\n",
              "      <td>53</td>\n",
              "      <td>-8</td>\n",
              "      <td>139</td>\n",
              "    </tr>\n",
              "    <tr>\n",
              "      <th>8</th>\n",
              "      <td>NaN</td>\n",
              "      <td>14</td>\n",
              "      <td>29</td>\n",
              "      <td>-10</td>\n",
              "      <td>143</td>\n",
              "    </tr>\n",
              "    <tr>\n",
              "      <th>26</th>\n",
              "      <td>NaN</td>\n",
              "      <td>16</td>\n",
              "      <td>57</td>\n",
              "      <td>-16</td>\n",
              "      <td>181</td>\n",
              "    </tr>\n",
              "    <tr>\n",
              "      <th>72</th>\n",
              "      <td>NaN</td>\n",
              "      <td>53</td>\n",
              "      <td>48</td>\n",
              "      <td>-9</td>\n",
              "      <td>135</td>\n",
              "    </tr>\n",
              "    <tr>\n",
              "      <th>90</th>\n",
              "      <td>NaN</td>\n",
              "      <td>29</td>\n",
              "      <td>70</td>\n",
              "      <td>-15</td>\n",
              "      <td>172</td>\n",
              "    </tr>\n",
              "    <tr>\n",
              "      <th>98</th>\n",
              "      <td>NaN</td>\n",
              "      <td>60</td>\n",
              "      <td>41</td>\n",
              "      <td>-8</td>\n",
              "      <td>170</td>\n",
              "    </tr>\n",
              "    <tr>\n",
              "      <th>220</th>\n",
              "      <td>NaN</td>\n",
              "      <td>29</td>\n",
              "      <td>49</td>\n",
              "      <td>-10</td>\n",
              "      <td>118</td>\n",
              "    </tr>\n",
              "    <tr>\n",
              "      <th>252</th>\n",
              "      <td>NaN</td>\n",
              "      <td>38</td>\n",
              "      <td>65</td>\n",
              "      <td>-8</td>\n",
              "      <td>146</td>\n",
              "    </tr>\n",
              "    <tr>\n",
              "      <th>265</th>\n",
              "      <td>NaN</td>\n",
              "      <td>62</td>\n",
              "      <td>62</td>\n",
              "      <td>-7</td>\n",
              "      <td>120</td>\n",
              "    </tr>\n",
              "    <tr>\n",
              "      <th>266</th>\n",
              "      <td>NaN</td>\n",
              "      <td>90</td>\n",
              "      <td>41</td>\n",
              "      <td>-8</td>\n",
              "      <td>273</td>\n",
              "    </tr>\n",
              "    <tr>\n",
              "      <th>314</th>\n",
              "      <td>NaN</td>\n",
              "      <td>31</td>\n",
              "      <td>37</td>\n",
              "      <td>-10</td>\n",
              "      <td>171</td>\n",
              "    </tr>\n",
              "    <tr>\n",
              "      <th>330</th>\n",
              "      <td>NaN</td>\n",
              "      <td>36</td>\n",
              "      <td>27</td>\n",
              "      <td>-15</td>\n",
              "      <td>165</td>\n",
              "    </tr>\n",
              "    <tr>\n",
              "      <th>362</th>\n",
              "      <td>NaN</td>\n",
              "      <td>64</td>\n",
              "      <td>88</td>\n",
              "      <td>-9</td>\n",
              "      <td>134</td>\n",
              "    </tr>\n",
              "    <tr>\n",
              "      <th>380</th>\n",
              "      <td>NaN</td>\n",
              "      <td>65</td>\n",
              "      <td>74</td>\n",
              "      <td>-9</td>\n",
              "      <td>215</td>\n",
              "    </tr>\n",
              "    <tr>\n",
              "      <th>443</th>\n",
              "      <td>NaN</td>\n",
              "      <td>80</td>\n",
              "      <td>58</td>\n",
              "      <td>-12</td>\n",
              "      <td>241</td>\n",
              "    </tr>\n",
              "  </tbody>\n",
              "</table>\n",
              "</div>"
            ],
            "text/plain": [
              "    top genre  nrgy  dnce  dB  dur\n",
              "1         NaN    44    53  -8  139\n",
              "8         NaN    14    29 -10  143\n",
              "26        NaN    16    57 -16  181\n",
              "72        NaN    53    48  -9  135\n",
              "90        NaN    29    70 -15  172\n",
              "98        NaN    60    41  -8  170\n",
              "220       NaN    29    49 -10  118\n",
              "252       NaN    38    65  -8  146\n",
              "265       NaN    62    62  -7  120\n",
              "266       NaN    90    41  -8  273\n",
              "314       NaN    31    37 -10  171\n",
              "330       NaN    36    27 -15  165\n",
              "362       NaN    64    88  -9  134\n",
              "380       NaN    65    74  -9  215\n",
              "443       NaN    80    58 -12  241"
            ]
          },
          "metadata": {
            "tags": []
          },
          "execution_count": 35
        }
      ]
    },
    {
      "cell_type": "markdown",
      "metadata": {
        "id": "HhrdEnRM_Xfb"
      },
      "source": [
        "> Replacing those with 'adult standards', as in exploration of the dataset it was the most famous top genre and, thus, it seems to be one good choice:"
      ]
    },
    {
      "cell_type": "code",
      "metadata": {
        "id": "JllA8rg2_Xfb"
      },
      "source": [
        "spotify['top genre'].fillna(value='adult standards',inplace=True)"
      ],
      "execution_count": 36,
      "outputs": []
    },
    {
      "cell_type": "code",
      "metadata": {
        "id": "Kd2RmTuN_Xfd",
        "outputId": "e8f863a1-74f7-435f-c21e-df6821a5f350",
        "colab": {
          "base_uri": "https://localhost:8080/",
          "height": 118
        }
      },
      "source": [
        "spotify.isnull().sum()"
      ],
      "execution_count": 37,
      "outputs": [
        {
          "output_type": "execute_result",
          "data": {
            "text/plain": [
              "top genre    0\n",
              "nrgy         0\n",
              "dnce         0\n",
              "dB           0\n",
              "dur          0\n",
              "dtype: int64"
            ]
          },
          "metadata": {
            "tags": []
          },
          "execution_count": 37
        }
      ]
    },
    {
      "cell_type": "markdown",
      "metadata": {
        "id": "v2QlSr-__Xfe"
      },
      "source": [
        "> Below we are going to use 'SimpleImputer' which can handle the missing values. Based on the way we going to fill its parameters, we are going to specify how we want to handle the missing values in the unseed data (test data):"
      ]
    },
    {
      "cell_type": "markdown",
      "metadata": {
        "id": "XCpAAi0R_Xff"
      },
      "source": [
        "Although in this dataset we can know that we have missing values only in top genre in test data (as we will see below), we are continuing this way for the generalisation of the model. If the test data had missing numerical values, then they would be filled by the median value:"
      ]
    },
    {
      "cell_type": "code",
      "metadata": {
        "id": "mYRoSxb1_Xfg"
      },
      "source": [
        "from sklearn.impute import SimpleImputer\n",
        "imputer = SimpleImputer(strategy=\"median\")"
      ],
      "execution_count": 38,
      "outputs": []
    },
    {
      "cell_type": "code",
      "metadata": {
        "id": "h-wGBYoE_Xfi",
        "outputId": "746e909e-59af-41b7-f01d-816f92a214ad",
        "colab": {
          "base_uri": "https://localhost:8080/",
          "height": 218
        }
      },
      "source": [
        "spotify.info()"
      ],
      "execution_count": 39,
      "outputs": [
        {
          "output_type": "stream",
          "text": [
            "<class 'pandas.core.frame.DataFrame'>\n",
            "RangeIndex: 453 entries, 0 to 452\n",
            "Data columns (total 5 columns):\n",
            " #   Column     Non-Null Count  Dtype \n",
            "---  ------     --------------  ----- \n",
            " 0   top genre  453 non-null    object\n",
            " 1   nrgy       453 non-null    int64 \n",
            " 2   dnce       453 non-null    int64 \n",
            " 3   dB         453 non-null    int64 \n",
            " 4   dur        453 non-null    int64 \n",
            "dtypes: int64(4), object(1)\n",
            "memory usage: 17.8+ KB\n"
          ],
          "name": "stdout"
        }
      ]
    },
    {
      "cell_type": "code",
      "metadata": {
        "id": "q2M8cE1L_Xfk"
      },
      "source": [
        "spotify_num= spotify.drop(['top genre'], axis=1) #the numerical attributes"
      ],
      "execution_count": 40,
      "outputs": []
    },
    {
      "cell_type": "code",
      "metadata": {
        "id": "4rkBrsos_Xfo",
        "outputId": "086217fc-2f31-41f4-ddcf-f34e230b7e3b",
        "colab": {
          "base_uri": "https://localhost:8080/",
          "height": 402
        }
      },
      "source": [
        "spotify_num"
      ],
      "execution_count": 41,
      "outputs": [
        {
          "output_type": "execute_result",
          "data": {
            "text/html": [
              "<div>\n",
              "<style scoped>\n",
              "    .dataframe tbody tr th:only-of-type {\n",
              "        vertical-align: middle;\n",
              "    }\n",
              "\n",
              "    .dataframe tbody tr th {\n",
              "        vertical-align: top;\n",
              "    }\n",
              "\n",
              "    .dataframe thead th {\n",
              "        text-align: right;\n",
              "    }\n",
              "</style>\n",
              "<table border=\"1\" class=\"dataframe\">\n",
              "  <thead>\n",
              "    <tr style=\"text-align: right;\">\n",
              "      <th></th>\n",
              "      <th>nrgy</th>\n",
              "      <th>dnce</th>\n",
              "      <th>dB</th>\n",
              "      <th>dur</th>\n",
              "    </tr>\n",
              "  </thead>\n",
              "  <tbody>\n",
              "    <tr>\n",
              "      <th>0</th>\n",
              "      <td>31</td>\n",
              "      <td>45</td>\n",
              "      <td>-8</td>\n",
              "      <td>150</td>\n",
              "    </tr>\n",
              "    <tr>\n",
              "      <th>1</th>\n",
              "      <td>44</td>\n",
              "      <td>53</td>\n",
              "      <td>-8</td>\n",
              "      <td>139</td>\n",
              "    </tr>\n",
              "    <tr>\n",
              "      <th>2</th>\n",
              "      <td>36</td>\n",
              "      <td>63</td>\n",
              "      <td>-9</td>\n",
              "      <td>245</td>\n",
              "    </tr>\n",
              "    <tr>\n",
              "      <th>3</th>\n",
              "      <td>28</td>\n",
              "      <td>47</td>\n",
              "      <td>-16</td>\n",
              "      <td>232</td>\n",
              "    </tr>\n",
              "    <tr>\n",
              "      <th>4</th>\n",
              "      <td>47</td>\n",
              "      <td>56</td>\n",
              "      <td>-8</td>\n",
              "      <td>193</td>\n",
              "    </tr>\n",
              "    <tr>\n",
              "      <th>...</th>\n",
              "      <td>...</td>\n",
              "      <td>...</td>\n",
              "      <td>...</td>\n",
              "      <td>...</td>\n",
              "    </tr>\n",
              "    <tr>\n",
              "      <th>448</th>\n",
              "      <td>22</td>\n",
              "      <td>18</td>\n",
              "      <td>-17</td>\n",
              "      <td>214</td>\n",
              "    </tr>\n",
              "    <tr>\n",
              "      <th>449</th>\n",
              "      <td>81</td>\n",
              "      <td>53</td>\n",
              "      <td>-13</td>\n",
              "      <td>147</td>\n",
              "    </tr>\n",
              "    <tr>\n",
              "      <th>450</th>\n",
              "      <td>55</td>\n",
              "      <td>73</td>\n",
              "      <td>-8</td>\n",
              "      <td>289</td>\n",
              "    </tr>\n",
              "    <tr>\n",
              "      <th>451</th>\n",
              "      <td>87</td>\n",
              "      <td>64</td>\n",
              "      <td>-5</td>\n",
              "      <td>191</td>\n",
              "    </tr>\n",
              "    <tr>\n",
              "      <th>452</th>\n",
              "      <td>73</td>\n",
              "      <td>68</td>\n",
              "      <td>-8</td>\n",
              "      <td>281</td>\n",
              "    </tr>\n",
              "  </tbody>\n",
              "</table>\n",
              "<p>453 rows × 4 columns</p>\n",
              "</div>"
            ],
            "text/plain": [
              "     nrgy  dnce  dB  dur\n",
              "0      31    45  -8  150\n",
              "1      44    53  -8  139\n",
              "2      36    63  -9  245\n",
              "3      28    47 -16  232\n",
              "4      47    56  -8  193\n",
              "..    ...   ...  ..  ...\n",
              "448    22    18 -17  214\n",
              "449    81    53 -13  147\n",
              "450    55    73  -8  289\n",
              "451    87    64  -5  191\n",
              "452    73    68  -8  281\n",
              "\n",
              "[453 rows x 4 columns]"
            ]
          },
          "metadata": {
            "tags": []
          },
          "execution_count": 41
        }
      ]
    },
    {
      "cell_type": "code",
      "metadata": {
        "id": "Tka4IJOV_Xfr",
        "outputId": "a47cf000-1cea-4645-94f9-eab01211579c",
        "colab": {
          "base_uri": "https://localhost:8080/",
          "height": 218
        }
      },
      "source": [
        "spotify.info()"
      ],
      "execution_count": 42,
      "outputs": [
        {
          "output_type": "stream",
          "text": [
            "<class 'pandas.core.frame.DataFrame'>\n",
            "RangeIndex: 453 entries, 0 to 452\n",
            "Data columns (total 5 columns):\n",
            " #   Column     Non-Null Count  Dtype \n",
            "---  ------     --------------  ----- \n",
            " 0   top genre  453 non-null    object\n",
            " 1   nrgy       453 non-null    int64 \n",
            " 2   dnce       453 non-null    int64 \n",
            " 3   dB         453 non-null    int64 \n",
            " 4   dur        453 non-null    int64 \n",
            "dtypes: int64(4), object(1)\n",
            "memory usage: 17.8+ KB\n"
          ],
          "name": "stdout"
        }
      ]
    },
    {
      "cell_type": "code",
      "metadata": {
        "id": "WsL-a2w4_Xfu",
        "outputId": "4421aae8-5a8c-40a3-cb01-c0ac70bc1242",
        "colab": {
          "base_uri": "https://localhost:8080/",
          "height": 50
        }
      },
      "source": [
        "imputer.fit(spotify_num)"
      ],
      "execution_count": 43,
      "outputs": [
        {
          "output_type": "execute_result",
          "data": {
            "text/plain": [
              "SimpleImputer(add_indicator=False, copy=True, fill_value=None,\n",
              "              missing_values=nan, strategy='median', verbose=0)"
            ]
          },
          "metadata": {
            "tags": []
          },
          "execution_count": 43
        }
      ]
    },
    {
      "cell_type": "code",
      "metadata": {
        "id": "hzYcgqyz_Xfw",
        "outputId": "0e30c667-c7e2-4357-960d-9c8cc2c61dd7",
        "colab": {
          "base_uri": "https://localhost:8080/",
          "height": 34
        }
      },
      "source": [
        "imputer.statistics_"
      ],
      "execution_count": 44,
      "outputs": [
        {
          "output_type": "execute_result",
          "data": {
            "text/plain": [
              "array([ 63.,  61.,  -8., 223.])"
            ]
          },
          "metadata": {
            "tags": []
          },
          "execution_count": 44
        }
      ]
    },
    {
      "cell_type": "code",
      "metadata": {
        "id": "vGEugcFV_Xfy",
        "outputId": "cac0fa48-0508-40ce-be62-658af18c38c9",
        "colab": {
          "base_uri": "https://localhost:8080/",
          "height": 34
        }
      },
      "source": [
        "spotify_num.median().values"
      ],
      "execution_count": 45,
      "outputs": [
        {
          "output_type": "execute_result",
          "data": {
            "text/plain": [
              "array([ 63.,  61.,  -8., 223.])"
            ]
          },
          "metadata": {
            "tags": []
          },
          "execution_count": 45
        }
      ]
    },
    {
      "cell_type": "code",
      "metadata": {
        "id": "oJpYUsj2_Xf1"
      },
      "source": [
        "X = imputer.transform(spotify_num)"
      ],
      "execution_count": 46,
      "outputs": []
    },
    {
      "cell_type": "code",
      "metadata": {
        "id": "vX1d4_WW_Xf2"
      },
      "source": [
        "spotify_tr = pd.DataFrame(X, columns=spotify_num.columns,\n",
        "                          index=spotify.index)"
      ],
      "execution_count": 47,
      "outputs": []
    },
    {
      "cell_type": "code",
      "metadata": {
        "id": "nTRa3Kcd_Xf6",
        "outputId": "a43ceb99-91c8-4e01-dc43-79aa0a1f6b7d",
        "colab": {
          "base_uri": "https://localhost:8080/",
          "height": 35
        }
      },
      "source": [
        "imputer.strategy"
      ],
      "execution_count": 48,
      "outputs": [
        {
          "output_type": "execute_result",
          "data": {
            "application/vnd.google.colaboratory.intrinsic+json": {
              "type": "string"
            },
            "text/plain": [
              "'median'"
            ]
          },
          "metadata": {
            "tags": []
          },
          "execution_count": 48
        }
      ]
    },
    {
      "cell_type": "code",
      "metadata": {
        "id": "-hSulKf7_Xf8",
        "outputId": "9149157d-a7ad-4fee-876b-0393a3a3303e",
        "colab": {
          "base_uri": "https://localhost:8080/",
          "height": 106
        }
      },
      "source": [
        "spotify_tr = pd.DataFrame(X, columns=spotify_num.columns,\n",
        "                          index=spotify_num.index)\n",
        "spotify_tr.head(2)\n",
        "# a sample of how inputer works"
      ],
      "execution_count": 49,
      "outputs": [
        {
          "output_type": "execute_result",
          "data": {
            "text/html": [
              "<div>\n",
              "<style scoped>\n",
              "    .dataframe tbody tr th:only-of-type {\n",
              "        vertical-align: middle;\n",
              "    }\n",
              "\n",
              "    .dataframe tbody tr th {\n",
              "        vertical-align: top;\n",
              "    }\n",
              "\n",
              "    .dataframe thead th {\n",
              "        text-align: right;\n",
              "    }\n",
              "</style>\n",
              "<table border=\"1\" class=\"dataframe\">\n",
              "  <thead>\n",
              "    <tr style=\"text-align: right;\">\n",
              "      <th></th>\n",
              "      <th>nrgy</th>\n",
              "      <th>dnce</th>\n",
              "      <th>dB</th>\n",
              "      <th>dur</th>\n",
              "    </tr>\n",
              "  </thead>\n",
              "  <tbody>\n",
              "    <tr>\n",
              "      <th>0</th>\n",
              "      <td>31.0</td>\n",
              "      <td>45.0</td>\n",
              "      <td>-8.0</td>\n",
              "      <td>150.0</td>\n",
              "    </tr>\n",
              "    <tr>\n",
              "      <th>1</th>\n",
              "      <td>44.0</td>\n",
              "      <td>53.0</td>\n",
              "      <td>-8.0</td>\n",
              "      <td>139.0</td>\n",
              "    </tr>\n",
              "  </tbody>\n",
              "</table>\n",
              "</div>"
            ],
            "text/plain": [
              "   nrgy  dnce   dB    dur\n",
              "0  31.0  45.0 -8.0  150.0\n",
              "1  44.0  53.0 -8.0  139.0"
            ]
          },
          "metadata": {
            "tags": []
          },
          "execution_count": 49
        }
      ]
    },
    {
      "cell_type": "code",
      "metadata": {
        "id": "7cajfXzw_Xf_",
        "outputId": "0a9be92f-3218-491e-978c-a3e543d8029d",
        "colab": {
          "base_uri": "https://localhost:8080/",
          "height": 218
        }
      },
      "source": [
        "spotify.info()"
      ],
      "execution_count": 50,
      "outputs": [
        {
          "output_type": "stream",
          "text": [
            "<class 'pandas.core.frame.DataFrame'>\n",
            "RangeIndex: 453 entries, 0 to 452\n",
            "Data columns (total 5 columns):\n",
            " #   Column     Non-Null Count  Dtype \n",
            "---  ------     --------------  ----- \n",
            " 0   top genre  453 non-null    object\n",
            " 1   nrgy       453 non-null    int64 \n",
            " 2   dnce       453 non-null    int64 \n",
            " 3   dB         453 non-null    int64 \n",
            " 4   dur        453 non-null    int64 \n",
            "dtypes: int64(4), object(1)\n",
            "memory usage: 17.8+ KB\n"
          ],
          "name": "stdout"
        }
      ]
    },
    {
      "cell_type": "code",
      "metadata": {
        "id": "GOTuGZDn_XgB"
      },
      "source": [
        "# categorical attributes which we will hold for the construction of the model\n",
        "categorical_attribute= spotify[['top genre']]"
      ],
      "execution_count": 51,
      "outputs": []
    },
    {
      "cell_type": "markdown",
      "metadata": {
        "id": "rWrwpjbF_XgF"
      },
      "source": [
        "> Process for using OneHoTencoder for converting categorical into numerical values:"
      ]
    },
    {
      "cell_type": "code",
      "metadata": {
        "id": "OuSKAR7o_XgF",
        "outputId": "15638311-077c-45d2-ce70-d52e61233959",
        "colab": {
          "base_uri": "https://localhost:8080/",
          "height": 101
        }
      },
      "source": [
        "from sklearn.preprocessing import OrdinalEncoder\n",
        "\n",
        "ordinal_encoder = OrdinalEncoder()\n",
        "spotify_cat_encoded = ordinal_encoder.fit_transform(categorical_attribute)\n",
        "spotify_cat_encoded[:5]"
      ],
      "execution_count": 52,
      "outputs": [
        {
          "output_type": "execute_result",
          "data": {
            "text/plain": [
              "array([[ 1.],\n",
              "       [ 1.],\n",
              "       [ 1.],\n",
              "       [ 1.],\n",
              "       [68.]])"
            ]
          },
          "metadata": {
            "tags": []
          },
          "execution_count": 52
        }
      ]
    },
    {
      "cell_type": "code",
      "metadata": {
        "id": "-MMXAw_w_XgI",
        "outputId": "a06c516b-b1c1-494b-ccdb-bcd77d7ccc09",
        "colab": {
          "base_uri": "https://localhost:8080/",
          "height": 134
        }
      },
      "source": [
        "from sklearn.preprocessing import OneHotEncoder\n",
        "\n",
        "cat_encoder = OneHotEncoder(sparse=False, handle_unknown='ignore')\n",
        "spotify_cat_hot1 = cat_encoder.fit_transform(categorical_attribute)\n",
        "spotify_cat_hot1"
      ],
      "execution_count": 53,
      "outputs": [
        {
          "output_type": "execute_result",
          "data": {
            "text/plain": [
              "array([[0., 1., 0., ..., 0., 0., 0.],\n",
              "       [0., 1., 0., ..., 0., 0., 0.],\n",
              "       [0., 1., 0., ..., 0., 0., 0.],\n",
              "       ...,\n",
              "       [0., 0., 0., ..., 0., 0., 0.],\n",
              "       [0., 0., 0., ..., 0., 0., 0.],\n",
              "       [0., 0., 0., ..., 0., 0., 0.]])"
            ]
          },
          "metadata": {
            "tags": []
          },
          "execution_count": 53
        }
      ]
    },
    {
      "cell_type": "code",
      "metadata": {
        "id": "CBtk3nCb_XgM"
      },
      "source": [
        "\n",
        "from sklearn.compose import ColumnTransformer\n",
        "from sklearn.pipeline import Pipeline\n",
        "from sklearn.impute import SimpleImputer\n",
        "from sklearn.preprocessing import StandardScaler, OneHotEncoder"
      ],
      "execution_count": 54,
      "outputs": []
    },
    {
      "cell_type": "markdown",
      "metadata": {
        "id": "ilSLSr-n_XgN"
      },
      "source": [
        "> Machine Learning Algorithms do not perform well when the input numerical attributes have different scales. Below we are going to scale the numerical attributes, and construct a pipeline which can link the tranformations both of numerical and categorical values in the test set:"
      ]
    },
    {
      "cell_type": "code",
      "metadata": {
        "id": "F5IJFsgI_XgO"
      },
      "source": [
        "# We create the preprocessing pipelines for both numerical and categorical data\n",
        "# credits to: https://scikit-learn.org/stable/auto_examples/compose/plot_column_transformer_mixed_types.html\n",
        "# we are using the 'most frequent' strategy with the rational that out categorical attributes are\n",
        "# very possible to be repeated as the song becomes more popular (one popular singer might own many popular songs in the test set)\n",
        "numeric_features = list(spotify_num)\n",
        "numeric_transformer = Pipeline(steps=[\n",
        "    ('imputer', SimpleImputer(strategy='median')),\n",
        "    ('scaler', StandardScaler())])\n",
        "\n",
        "categorical_features = list(categorical_attribute)\n",
        "categorical_transformer = Pipeline(steps=[\n",
        "    ('imputer', SimpleImputer(strategy='most_frequent', fill_value='missing')),\n",
        "    ('onehot', OneHotEncoder(handle_unknown='ignore'))])\n",
        "\n",
        "full_pipeline = ColumnTransformer(\n",
        "    transformers=[\n",
        "        ('num', numeric_transformer, numeric_features),\n",
        "        ('cat', categorical_transformer, categorical_features)])\n",
        "\n",
        "spotify_final= full_pipeline.fit_transform(spotify) #spofify_final : final and transformed train predictors-features"
      ],
      "execution_count": 55,
      "outputs": []
    },
    {
      "cell_type": "markdown",
      "metadata": {
        "id": "w0GdtUCr_XgP"
      },
      "source": [
        "> OneHotEncoder returns a sparse matrix while num_pipeline a dense matrix. In this case of mixing the numerical with categorical transformations, ColumnTransformer returns either a sparse or a dense matrix. Here it returned a sparse matrix:"
      ]
    },
    {
      "cell_type": "code",
      "metadata": {
        "id": "z7sMwkbq_XgP",
        "outputId": "3610c9d2-bf5e-4e6b-fb15-bb9738c7ba90",
        "colab": {
          "base_uri": "https://localhost:8080/",
          "height": 50
        }
      },
      "source": [
        "spotify_final"
      ],
      "execution_count": 56,
      "outputs": [
        {
          "output_type": "execute_result",
          "data": {
            "text/plain": [
              "<453x90 sparse matrix of type '<class 'numpy.float64'>'\n",
              "\twith 2265 stored elements in Compressed Sparse Row format>"
            ]
          },
          "metadata": {
            "tags": []
          },
          "execution_count": 56
        }
      ]
    },
    {
      "cell_type": "code",
      "metadata": {
        "id": "Lf69CipM_XgS"
      },
      "source": [
        "# we can convert to an array if needed: spotify_final= spotify_final.toarray()"
      ],
      "execution_count": 57,
      "outputs": []
    },
    {
      "cell_type": "markdown",
      "metadata": {
        "id": "Aa4Qd9rF_XgU"
      },
      "source": [
        "# Linear Regression"
      ]
    },
    {
      "cell_type": "code",
      "metadata": {
        "id": "FyfD07pe_XgU"
      },
      "source": [
        "from sklearn.linear_model import LinearRegression"
      ],
      "execution_count": 58,
      "outputs": []
    },
    {
      "cell_type": "code",
      "metadata": {
        "id": "f85FGUqq_XgW",
        "outputId": "abc21b75-7854-4e36-b1ce-78284caa285a",
        "colab": {
          "base_uri": "https://localhost:8080/",
          "height": 34
        }
      },
      "source": [
        "lin_reg= LinearRegression()\n",
        "lin_reg.fit(spotify_final, spotify_labels)"
      ],
      "execution_count": 59,
      "outputs": [
        {
          "output_type": "execute_result",
          "data": {
            "text/plain": [
              "LinearRegression(copy_X=True, fit_intercept=True, n_jobs=None, normalize=False)"
            ]
          },
          "metadata": {
            "tags": []
          },
          "execution_count": 59
        }
      ]
    },
    {
      "cell_type": "markdown",
      "metadata": {
        "id": "8RZVGIU8_XgX"
      },
      "source": [
        "### Root Mean Square Error (RMSE)\n",
        "\n",
        "> Measures the standard deviation of the errors the systems makes in its predictions:"
      ]
    },
    {
      "cell_type": "code",
      "metadata": {
        "id": "gObbMZ8U_XgX"
      },
      "source": [
        "from sklearn.metrics import mean_squared_error\n",
        "spotify_predictions= lin_reg.predict(spotify_final)"
      ],
      "execution_count": 60,
      "outputs": []
    },
    {
      "cell_type": "markdown",
      "metadata": {
        "id": "s1njC23d_XgZ"
      },
      "source": [
        ">> The interval of popularity scores (from the data exploration) was between 26 and 84. Here RMSE is 9.27. We could say it not a bad result, but neither a good one:"
      ]
    },
    {
      "cell_type": "code",
      "metadata": {
        "id": "WV5RXbuE_XgZ",
        "outputId": "1fd1eb2a-278a-4ba2-d2bb-10d5b32406ef",
        "colab": {
          "base_uri": "https://localhost:8080/",
          "height": 34
        }
      },
      "source": [
        "lin_mse = mean_squared_error(spotify_labels, spotify_predictions)\n",
        "lin_rmse = np.sqrt(lin_mse)\n",
        "lin_rmse"
      ],
      "execution_count": 61,
      "outputs": [
        {
          "output_type": "execute_result",
          "data": {
            "text/plain": [
              "9.271409734513767"
            ]
          },
          "metadata": {
            "tags": []
          },
          "execution_count": 61
        }
      ]
    },
    {
      "cell_type": "markdown",
      "metadata": {
        "id": "y9LO7gVv_Xgb"
      },
      "source": [
        "> Using r2_score to conclude if the dataset is linear. If close to 1, the dataset is linear by nature. Here it is not negative, but it has not a high value neither:"
      ]
    },
    {
      "cell_type": "code",
      "metadata": {
        "id": "fmhg81R8_Xgb",
        "outputId": "0d6834dc-e907-44c5-80e0-712596d1ef9f",
        "colab": {
          "base_uri": "https://localhost:8080/",
          "height": 34
        }
      },
      "source": [
        "from sklearn.metrics import r2_score\n",
        "r2_score(spotify_predictions, spotify_labels)"
      ],
      "execution_count": 62,
      "outputs": [
        {
          "output_type": "execute_result",
          "data": {
            "text/plain": [
              "0.09596316070850863"
            ]
          },
          "metadata": {
            "tags": []
          },
          "execution_count": 62
        }
      ]
    },
    {
      "cell_type": "markdown",
      "metadata": {
        "id": "WQIecPqE_Xgc"
      },
      "source": [
        "### MAE"
      ]
    },
    {
      "cell_type": "markdown",
      "metadata": {
        "id": "BDDK1HEL_Xgc"
      },
      "source": [
        "> Calculating the Mean Absolute Error (MAE), which is smaler than that of the RMSE, since RMSE raises the errors to its square values"
      ]
    },
    {
      "cell_type": "code",
      "metadata": {
        "id": "fn5oV-rJ_Xgc",
        "outputId": "66813ebc-de49-4bc7-e32d-0706c4d3da48",
        "colab": {
          "base_uri": "https://localhost:8080/",
          "height": 34
        }
      },
      "source": [
        "from sklearn.metrics import mean_absolute_error\n",
        "\n",
        "lin_mae = mean_absolute_error(spotify_labels, spotify_predictions)\n",
        "lin_mae"
      ],
      "execution_count": 63,
      "outputs": [
        {
          "output_type": "execute_result",
          "data": {
            "text/plain": [
              "6.998398864900028"
            ]
          },
          "metadata": {
            "tags": []
          },
          "execution_count": 63
        }
      ]
    },
    {
      "cell_type": "markdown",
      "metadata": {
        "id": "xmY7CfGx_Xgd"
      },
      "source": [
        "## Training a Decision Tree Regressor"
      ]
    },
    {
      "cell_type": "code",
      "metadata": {
        "id": "QdghWD6c_Xgd",
        "outputId": "f19500f1-b60c-4122-95ff-c49c3d8737cc",
        "colab": {
          "base_uri": "https://localhost:8080/",
          "height": 0
        }
      },
      "source": [
        "from sklearn.tree import DecisionTreeRegressor\n",
        "\n",
        "tree_reg= DecisionTreeRegressor(random_state=42)\n",
        "tree_reg.fit(spotify_final, spotify_labels)"
      ],
      "execution_count": 64,
      "outputs": [
        {
          "output_type": "execute_result",
          "data": {
            "text/plain": [
              "DecisionTreeRegressor(ccp_alpha=0.0, criterion='mse', max_depth=None,\n",
              "                      max_features=None, max_leaf_nodes=None,\n",
              "                      min_impurity_decrease=0.0, min_impurity_split=None,\n",
              "                      min_samples_leaf=1, min_samples_split=2,\n",
              "                      min_weight_fraction_leaf=0.0, presort='deprecated',\n",
              "                      random_state=42, splitter='best')"
            ]
          },
          "metadata": {
            "tags": []
          },
          "execution_count": 64
        }
      ]
    },
    {
      "cell_type": "code",
      "metadata": {
        "id": "NJBKjTyI_Xgf",
        "outputId": "fc8a60d4-4846-4a73-d826-21132424ed4d",
        "colab": {
          "base_uri": "https://localhost:8080/",
          "height": 0
        }
      },
      "source": [
        "spotify_predictions = tree_reg.predict(spotify_final)\n",
        "tree_mse = mean_squared_error(spotify_labels, spotify_predictions)\n",
        "tree_rmse = np.sqrt(tree_mse)\n",
        "tree_rmse"
      ],
      "execution_count": 65,
      "outputs": [
        {
          "output_type": "execute_result",
          "data": {
            "text/plain": [
              "0.0"
            ]
          },
          "metadata": {
            "tags": []
          },
          "execution_count": 65
        }
      ]
    },
    {
      "cell_type": "markdown",
      "metadata": {
        "id": "d0D0NYNH_Xgg"
      },
      "source": [
        "> Obviously this cannot be a valid result and this model is extremely overfitting the data"
      ]
    },
    {
      "cell_type": "markdown",
      "metadata": {
        "id": "4Uehrw41_Xgg"
      },
      "source": [
        ">> Evaluation of Decision tree using Cross-Validation with K-folds = 10:"
      ]
    },
    {
      "cell_type": "code",
      "metadata": {
        "id": "8BlkjpBg_Xgi",
        "outputId": "f208be37-4a9f-4462-b615-119435ae7e88",
        "colab": {
          "base_uri": "https://localhost:8080/",
          "height": 0
        }
      },
      "source": [
        "from sklearn.model_selection import cross_val_score\n",
        "\n",
        "scores = cross_val_score(tree_reg, spotify_final, spotify_labels,\n",
        "                         scoring=\"neg_mean_squared_error\", cv=10)\n",
        "\n",
        "tree_rmse_scores = np.sqrt(-scores)\n",
        "# the scoring function is the opposite of the MSE so that's why we use '-scores'\n",
        "tree_rmse_scores"
      ],
      "execution_count": 66,
      "outputs": [
        {
          "output_type": "execute_result",
          "data": {
            "text/plain": [
              "array([15.94760443, 13.24189662, 16.09347694, 16.98365227, 15.43084933,\n",
              "       15.99791653, 13.40480842, 14.57089946, 16.77696834, 11.39395551])"
            ]
          },
          "metadata": {
            "tags": []
          },
          "execution_count": 66
        }
      ]
    },
    {
      "cell_type": "code",
      "metadata": {
        "id": "5eombRx-_Xgj",
        "outputId": "f5fdfa96-fee0-468b-8474-71514ae5e5ff",
        "colab": {
          "base_uri": "https://localhost:8080/",
          "height": 0
        }
      },
      "source": [
        "def display_tree_scores(tree_scores):\n",
        "    print(\"Scores:\", tree_scores)\n",
        "    print(\"Mean:\", tree_scores.mean())\n",
        "    print(\"Standard deviation:\", tree_scores.std())\n",
        "\n",
        "display_tree_scores(tree_rmse_scores)"
      ],
      "execution_count": 67,
      "outputs": [
        {
          "output_type": "stream",
          "text": [
            "Scores: [15.94760443 13.24189662 16.09347694 16.98365227 15.43084933 15.99791653\n",
            " 13.40480842 14.57089946 16.77696834 11.39395551]\n",
            "Mean: 14.984202785724648\n",
            "Standard deviation: 1.7084601132034862\n"
          ],
          "name": "stdout"
        }
      ]
    },
    {
      "cell_type": "markdown",
      "metadata": {
        "id": "UW58K_5Y_Xgk"
      },
      "source": [
        "> Here we can see than DecisionTreeRegressor is performing much worse than linear regression "
      ]
    },
    {
      "cell_type": "markdown",
      "metadata": {
        "id": "kWAJGJna_Xgk"
      },
      "source": [
        "> Below it is an effort to change decision tree's parameters. Decision Trees are prone to overfitting when dealing with regression tasks, for this reason we set min_samples_leaf=10, and max_depth=1 which gave better results than the default.\n",
        "\n",
        ">> It performs better than the previous DecisionTreeRegressor, however the final result is still not satisfactory."
      ]
    },
    {
      "cell_type": "code",
      "metadata": {
        "id": "3O6Gxnyb_Xgk",
        "outputId": "6e502ae9-b872-4e97-b74d-fe81cfc70e86",
        "colab": {
          "base_uri": "https://localhost:8080/",
          "height": 0
        }
      },
      "source": [
        "from sklearn.tree import DecisionTreeRegressor\n",
        "tree_reg= DecisionTreeRegressor( random_state=42, min_samples_leaf=10, max_depth=1)\n",
        "tree_reg.fit(spotify_final, spotify_labels)\n",
        "\n"
      ],
      "execution_count": 68,
      "outputs": [
        {
          "output_type": "execute_result",
          "data": {
            "text/plain": [
              "DecisionTreeRegressor(ccp_alpha=0.0, criterion='mse', max_depth=1,\n",
              "                      max_features=None, max_leaf_nodes=None,\n",
              "                      min_impurity_decrease=0.0, min_impurity_split=None,\n",
              "                      min_samples_leaf=10, min_samples_split=2,\n",
              "                      min_weight_fraction_leaf=0.0, presort='deprecated',\n",
              "                      random_state=42, splitter='best')"
            ]
          },
          "metadata": {
            "tags": []
          },
          "execution_count": 68
        }
      ]
    },
    {
      "cell_type": "code",
      "metadata": {
        "id": "OC6glgIX_Xgm",
        "outputId": "21d911ef-59fd-4e8c-f5ca-93cbe9f4799a",
        "colab": {
          "base_uri": "https://localhost:8080/",
          "height": 0
        }
      },
      "source": [
        "from sklearn.model_selection import cross_val_score\n",
        "\n",
        "scores = cross_val_score(tree_reg, spotify_final, spotify_labels,\n",
        "                         scoring=\"neg_mean_squared_error\", cv=10)\n",
        "\n",
        "tree_rmse_scores = np.sqrt(-scores)\n",
        "# the scoring function is the opposite of the MSE so that's why we use '-scores'\n",
        "tree_rmse_scores"
      ],
      "execution_count": 69,
      "outputs": [
        {
          "output_type": "execute_result",
          "data": {
            "text/plain": [
              "array([13.03497615, 10.79426206, 10.19277763, 11.5861052 , 10.40096828,\n",
              "       11.92517844, 12.06441073, 11.89422954, 13.55243587, 10.74488677])"
            ]
          },
          "metadata": {
            "tags": []
          },
          "execution_count": 69
        }
      ]
    },
    {
      "cell_type": "code",
      "metadata": {
        "id": "IjzSKu8u_Xgn",
        "outputId": "a3a27adf-4278-440f-b673-33915b1ec310",
        "colab": {
          "base_uri": "https://localhost:8080/",
          "height": 0
        }
      },
      "source": [
        "def display_tree_scores(tree_scores):\n",
        "    print(\"Scores:\", tree_scores)\n",
        "    print(\"Mean:\", tree_scores.mean())\n",
        "    print(\"Standard deviation:\", tree_scores.std())\n",
        "\n",
        "display_tree_scores(tree_rmse_scores)"
      ],
      "execution_count": 70,
      "outputs": [
        {
          "output_type": "stream",
          "text": [
            "Scores: [13.03497615 10.79426206 10.19277763 11.5861052  10.40096828 11.92517844\n",
            " 12.06441073 11.89422954 13.55243587 10.74488677]\n",
            "Mean: 11.619023067905678\n",
            "Standard deviation: 1.0523359813729696\n"
          ],
          "name": "stdout"
        }
      ]
    },
    {
      "cell_type": "markdown",
      "metadata": {
        "id": "AV0SmCoM_Xgo"
      },
      "source": [
        "## Evaluation in the Test Set"
      ]
    },
    {
      "cell_type": "code",
      "metadata": {
        "id": "bBEmhjK9_Xgo",
        "outputId": "f40ecd22-b680-416f-c1e9-b6141b394107",
        "colab": {
          "base_uri": "https://localhost:8080/",
          "height": 370
        }
      },
      "source": [
        "regression_test.info()"
      ],
      "execution_count": 71,
      "outputs": [
        {
          "output_type": "stream",
          "text": [
            "<class 'pandas.core.frame.DataFrame'>\n",
            "RangeIndex: 114 entries, 0 to 113\n",
            "Data columns (total 14 columns):\n",
            " #   Column     Non-Null Count  Dtype \n",
            "---  ------     --------------  ----- \n",
            " 0   Id         114 non-null    int64 \n",
            " 1   title      114 non-null    object\n",
            " 2   artist     114 non-null    object\n",
            " 3   top genre  113 non-null    object\n",
            " 4   year       114 non-null    int64 \n",
            " 5   bpm        114 non-null    int64 \n",
            " 6   nrgy       114 non-null    int64 \n",
            " 7   dnce       114 non-null    int64 \n",
            " 8   dB         114 non-null    int64 \n",
            " 9   live       114 non-null    int64 \n",
            " 10  val        114 non-null    int64 \n",
            " 11  dur        114 non-null    int64 \n",
            " 12  acous      114 non-null    int64 \n",
            " 13  spch       114 non-null    int64 \n",
            "dtypes: int64(11), object(3)\n",
            "memory usage: 12.6+ KB\n"
          ],
          "name": "stdout"
        }
      ]
    },
    {
      "cell_type": "markdown",
      "metadata": {
        "id": "2_BJS8o3_Xgt"
      },
      "source": [
        "> Sychronizing the test's shape with that of the train set:"
      ]
    },
    {
      "cell_type": "code",
      "metadata": {
        "id": "BpAo2Cv3_Xgu"
      },
      "source": [
        "x= regression_test[['top genre','nrgy', 'dnce', 'dB', 'dur']] # test predictors"
      ],
      "execution_count": 72,
      "outputs": []
    },
    {
      "cell_type": "code",
      "metadata": {
        "id": "v-YeY6lH_Xgv",
        "outputId": "2e7edf86-f2ca-4d85-c41a-ade97f1213e5",
        "colab": {
          "base_uri": "https://localhost:8080/",
          "height": 218
        }
      },
      "source": [
        "x.info()"
      ],
      "execution_count": 73,
      "outputs": [
        {
          "output_type": "stream",
          "text": [
            "<class 'pandas.core.frame.DataFrame'>\n",
            "RangeIndex: 114 entries, 0 to 113\n",
            "Data columns (total 5 columns):\n",
            " #   Column     Non-Null Count  Dtype \n",
            "---  ------     --------------  ----- \n",
            " 0   top genre  113 non-null    object\n",
            " 1   nrgy       114 non-null    int64 \n",
            " 2   dnce       114 non-null    int64 \n",
            " 3   dB         114 non-null    int64 \n",
            " 4   dur        114 non-null    int64 \n",
            "dtypes: int64(4), object(1)\n",
            "memory usage: 4.6+ KB\n"
          ],
          "name": "stdout"
        }
      ]
    },
    {
      "cell_type": "code",
      "metadata": {
        "id": "lsz-XxrT_Xgx",
        "outputId": "e02cb331-30bd-4b48-eeb0-34540ef15f95",
        "colab": {
          "base_uri": "https://localhost:8080/",
          "height": 118
        }
      },
      "source": [
        "x.isnull().any()"
      ],
      "execution_count": 74,
      "outputs": [
        {
          "output_type": "execute_result",
          "data": {
            "text/plain": [
              "top genre     True\n",
              "nrgy         False\n",
              "dnce         False\n",
              "dB           False\n",
              "dur          False\n",
              "dtype: bool"
            ]
          },
          "metadata": {
            "tags": []
          },
          "execution_count": 74
        }
      ]
    },
    {
      "cell_type": "markdown",
      "metadata": {
        "id": "qu-i8ZSL_Xgy"
      },
      "source": [
        "> For example this command: \"x['top genre'].fillna(value='adult standards',inplace=True)\" is not needed to be executed because of the aforementioned pipeline transformations. If executed then the warning is: \"A value is trying to be set on a copy of a slice from a DataFrame\"."
      ]
    },
    {
      "cell_type": "markdown",
      "metadata": {
        "id": "DGgHCgmU_Xgy"
      },
      "source": [
        "> Running the full pipeline to tranform the test data.\n",
        ">> Before we used 'fit_transform', now we are calling only 'transform' for the successfull transition:"
      ]
    },
    {
      "cell_type": "code",
      "metadata": {
        "id": "HzUhXFa1_Xgy"
      },
      "source": [
        "x_final=full_pipeline.transform(x)"
      ],
      "execution_count": 75,
      "outputs": []
    },
    {
      "cell_type": "markdown",
      "metadata": {
        "id": "1tGxHbvs_Xg1"
      },
      "source": [
        ">The number of rows is normal to be different and it depends on the initial split which was 80%-20% between train and test set. The number of columns are transformed because of the previous steps, but the important here is that both train and test predictors to have the same number of columns (the given inputs compared to the unseen data of test set):"
      ]
    },
    {
      "cell_type": "code",
      "metadata": {
        "id": "467EXHPl_Xg1",
        "outputId": "e932567a-2be8-4705-928d-b4d92f460a75",
        "colab": {
          "base_uri": "https://localhost:8080/",
          "height": 34
        }
      },
      "source": [
        "x_final.shape"
      ],
      "execution_count": 76,
      "outputs": [
        {
          "output_type": "execute_result",
          "data": {
            "text/plain": [
              "(114, 90)"
            ]
          },
          "metadata": {
            "tags": []
          },
          "execution_count": 76
        }
      ]
    },
    {
      "cell_type": "code",
      "metadata": {
        "id": "x8rNOCmE_Xg2",
        "outputId": "26339cd2-2164-4360-d09a-63785e5f0d83",
        "colab": {
          "base_uri": "https://localhost:8080/",
          "height": 34
        }
      },
      "source": [
        "spotify_final.shape"
      ],
      "execution_count": 77,
      "outputs": [
        {
          "output_type": "execute_result",
          "data": {
            "text/plain": [
              "(453, 90)"
            ]
          },
          "metadata": {
            "tags": []
          },
          "execution_count": 77
        }
      ]
    },
    {
      "cell_type": "code",
      "metadata": {
        "id": "M6GI8URU_Xg3"
      },
      "source": [
        "pop_predictions= lin_reg.predict(x_final)"
      ],
      "execution_count": 78,
      "outputs": []
    },
    {
      "cell_type": "code",
      "metadata": {
        "id": "6utXNfxJ_Xg5",
        "outputId": "1e36ef54-6afd-4e12-a871-8e24193570b3",
        "colab": {
          "base_uri": "https://localhost:8080/",
          "height": 403
        }
      },
      "source": [
        "pop_predictions "
      ],
      "execution_count": 79,
      "outputs": [
        {
          "output_type": "execute_result",
          "data": {
            "text/plain": [
              "array([65.47115059, 67.82500407, 64.59485067, 59.82929431, 56.24957838,\n",
              "       66.74415382, 50.56053378, 50.35223986, 66.53265246, 64.25067588,\n",
              "       45.26723827, 66.19277286, 50.85687835, 52.27489538, 66.41541264,\n",
              "       65.74946224, 67.09551863, 62.70505586, 68.94817651, 65.98060976,\n",
              "       59.13883178, 51.03545442, 51.80581303, 51.93647478, 57.96989272,\n",
              "       67.08753045, 63.50064894, 52.22031301, 46.17497965, 71.93750145,\n",
              "       64.81888251, 54.32110903, 72.31544441, 68.53485624, 67.71063956,\n",
              "       68.61070154, 69.12051653, 49.78025539, 59.84684013, 62.21213027,\n",
              "       66.74145484, 69.76256305, 63.61872941, 45.80555405, 56.19653654,\n",
              "       44.8149961 , 68.83505956, 63.85638796, 53.78650565, 64.88889052,\n",
              "       51.6179051 , 71.99310683, 70.16929697, 51.31857252, 65.77876081,\n",
              "       56.59912879, 68.51277649, 51.98576602, 68.44588187, 55.86267857,\n",
              "       56.08194473, 55.46858362, 68.40855169, 60.91817892, 58.86986711,\n",
              "       67.00655501, 59.2434269 , 50.05338266, 69.15518279, 69.40331336,\n",
              "       66.44568434, 51.00543215, 51.20796208, 65.53058682, 51.92879658,\n",
              "       55.04087297, 64.95955709, 66.85827088, 63.83030133, 56.85858481,\n",
              "       75.77114601, 67.14951651, 54.36168227, 69.63334012, 51.4121937 ,\n",
              "       65.30471116, 62.5183285 , 66.40424742, 51.86544   , 54.43153958,\n",
              "       51.37578293, 56.53577677, 70.33288175, 63.82152921, 68.33256276,\n",
              "       72.12169699, 59.90636063, 54.23385182, 55.28682751, 51.1917897 ,\n",
              "       64.89697105, 64.05873778, 65.03556762, 50.16708123, 37.5341372 ,\n",
              "       68.71590164, 68.05599055, 61.08292703, 55.98757802, 57.9039312 ,\n",
              "       63.54723134, 61.35684635, 62.48443759, 75.92286966])"
            ]
          },
          "metadata": {
            "tags": []
          },
          "execution_count": 79
        }
      ]
    },
    {
      "cell_type": "markdown",
      "metadata": {
        "id": "xslFhBKV_Xg6"
      },
      "source": [
        ">Exporting the results of 'pop' and 'Id' into a csv file:"
      ]
    },
    {
      "cell_type": "code",
      "metadata": {
        "id": "o8PNTiCt_Xg7",
        "outputId": "80bb177b-86d0-4114-9b5a-31d14c2bce9c",
        "colab": {
          "base_uri": "https://localhost:8080/",
          "height": 34
        }
      },
      "source": [
        "len(list(regression_test['Id']))"
      ],
      "execution_count": 80,
      "outputs": [
        {
          "output_type": "execute_result",
          "data": {
            "text/plain": [
              "114"
            ]
          },
          "metadata": {
            "tags": []
          },
          "execution_count": 80
        }
      ]
    },
    {
      "cell_type": "code",
      "metadata": {
        "id": "ol7VhhoN_Xg9",
        "outputId": "93049ab6-a926-478a-8953-6efdd8b4a314",
        "colab": {
          "base_uri": "https://localhost:8080/",
          "height": 34
        }
      },
      "source": [
        "len(list(pop_predictions))"
      ],
      "execution_count": 81,
      "outputs": [
        {
          "output_type": "execute_result",
          "data": {
            "text/plain": [
              "114"
            ]
          },
          "metadata": {
            "tags": []
          },
          "execution_count": 81
        }
      ]
    },
    {
      "cell_type": "code",
      "metadata": {
        "id": "NlB_DpGI_Xg-"
      },
      "source": [
        "regr_results= pd.DataFrame({'Id': regression_test['Id'], 'pop': pop_predictions})\n",
        "#regr_results"
      ],
      "execution_count": 82,
      "outputs": []
    },
    {
      "cell_type": "code",
      "metadata": {
        "id": "FOAtnnfk_Xg_"
      },
      "source": [
        "#regr_results.to_csv('GroupN.csv', index = False)"
      ],
      "execution_count": 83,
      "outputs": []
    },
    {
      "cell_type": "code",
      "metadata": {
        "id": "hZdCss3y_XhA",
        "outputId": "cbdaa764-895e-4f91-e1f5-17a8709cd364",
        "colab": {
          "base_uri": "https://localhost:8080/",
          "height": 34
        }
      },
      "source": [
        "len(regr_results)"
      ],
      "execution_count": 84,
      "outputs": [
        {
          "output_type": "execute_result",
          "data": {
            "text/plain": [
              "114"
            ]
          },
          "metadata": {
            "tags": []
          },
          "execution_count": 84
        }
      ]
    },
    {
      "cell_type": "markdown",
      "metadata": {
        "id": "6I2uDowt_XhC"
      },
      "source": [
        "### Random Forest Regressor"
      ]
    },
    {
      "cell_type": "code",
      "metadata": {
        "id": "aidm58MC_XhC",
        "outputId": "faaba0d5-14cd-4cb4-c0eb-d2d682f97a7a",
        "colab": {
          "base_uri": "https://localhost:8080/",
          "height": 134
        }
      },
      "source": [
        "from sklearn.ensemble import RandomForestRegressor\n",
        "forest_reg= RandomForestRegressor()\n",
        "forest_reg.fit(spotify_final, spotify_labels)"
      ],
      "execution_count": 85,
      "outputs": [
        {
          "output_type": "execute_result",
          "data": {
            "text/plain": [
              "RandomForestRegressor(bootstrap=True, ccp_alpha=0.0, criterion='mse',\n",
              "                      max_depth=None, max_features='auto', max_leaf_nodes=None,\n",
              "                      max_samples=None, min_impurity_decrease=0.0,\n",
              "                      min_impurity_split=None, min_samples_leaf=1,\n",
              "                      min_samples_split=2, min_weight_fraction_leaf=0.0,\n",
              "                      n_estimators=100, n_jobs=None, oob_score=False,\n",
              "                      random_state=None, verbose=0, warm_start=False)"
            ]
          },
          "metadata": {
            "tags": []
          },
          "execution_count": 85
        }
      ]
    },
    {
      "cell_type": "code",
      "metadata": {
        "id": "fsUQnd3__XhD",
        "outputId": "0e641e67-f073-41a1-d7d9-93d10a960114",
        "colab": {
          "base_uri": "https://localhost:8080/",
          "height": 34
        }
      },
      "source": [
        "pop_predictions = forest_reg.predict(spotify_final)\n",
        "forest_mse = mean_squared_error(spotify_labels, pop_predictions)\n",
        "forest_rmse = np.sqrt(forest_mse)\n",
        "forest_rmse"
      ],
      "execution_count": 86,
      "outputs": [
        {
          "output_type": "execute_result",
          "data": {
            "text/plain": [
              "4.269814865371503"
            ]
          },
          "metadata": {
            "tags": []
          },
          "execution_count": 86
        }
      ]
    },
    {
      "cell_type": "markdown",
      "metadata": {
        "id": "wsTaimD2_XhF"
      },
      "source": [
        "> The ForestRegressor is overfitting the test data, since the RMSE in test set was approximately double reaching 8.45 (the model is performing better in training that in test data)"
      ]
    },
    {
      "cell_type": "code",
      "metadata": {
        "id": "Qu9xg1sG_XhF",
        "outputId": "462799de-099b-4ea4-ba93-92acc2f21ec4",
        "colab": {
          "base_uri": "https://localhost:8080/",
          "height": 84
        }
      },
      "source": [
        "from sklearn.model_selection import cross_val_score\n",
        "\n",
        "scores = cross_val_score(forest_reg, spotify_final, spotify_labels,\n",
        "                         scoring=\"neg_mean_squared_error\", cv=10)\n",
        "\n",
        "forest_reg_scores = np.sqrt(-scores)\n",
        "# the scoring function is the opposite of the MSE so that's why we use '-scores'\n",
        "forest_reg_scores\n",
        "def display_forest_reg_scores(forest_reg_scores):\n",
        "    print(\"Scores:\", forest_reg_scores)\n",
        "    print(\"Mean:\", forest_reg_scores.mean())\n",
        "    print(\"Standard deviation:\", forest_reg_scores.std())\n",
        "\n",
        "display_forest_reg_scores(forest_reg_scores)\n",
        "\n"
      ],
      "execution_count": 87,
      "outputs": [
        {
          "output_type": "stream",
          "text": [
            "Scores: [12.22328907 10.13028627 11.19988839 11.19999732 12.68759009 12.33413241\n",
            " 10.69241548 11.23524613 12.10848472 10.7357164 ]\n",
            "Mean: 11.454704628505288\n",
            "Standard deviation: 0.7963436548969758\n"
          ],
          "name": "stdout"
        }
      ]
    },
    {
      "cell_type": "code",
      "metadata": {
        "id": "SGIz0YBF_XhH",
        "outputId": "c547b505-14c6-456a-81ed-c099e2840062",
        "colab": {
          "base_uri": "https://localhost:8080/",
          "height": 134
        }
      },
      "source": [
        "model_rfr= RandomForestRegressor(n_estimators=500, max_leaf_nodes=16, n_jobs=-1)\n",
        "model_rfr.fit(spotify_final,spotify_labels)"
      ],
      "execution_count": 88,
      "outputs": [
        {
          "output_type": "execute_result",
          "data": {
            "text/plain": [
              "RandomForestRegressor(bootstrap=True, ccp_alpha=0.0, criterion='mse',\n",
              "                      max_depth=None, max_features='auto', max_leaf_nodes=16,\n",
              "                      max_samples=None, min_impurity_decrease=0.0,\n",
              "                      min_impurity_split=None, min_samples_leaf=1,\n",
              "                      min_samples_split=2, min_weight_fraction_leaf=0.0,\n",
              "                      n_estimators=500, n_jobs=-1, oob_score=False,\n",
              "                      random_state=None, verbose=0, warm_start=False)"
            ]
          },
          "metadata": {
            "tags": []
          },
          "execution_count": 88
        }
      ]
    },
    {
      "cell_type": "code",
      "metadata": {
        "id": "eGTOazTg_XhI"
      },
      "source": [
        "pop_predictions_rfr= model_rfr.predict(x_final)\n",
        "#pop_predictions_rfr"
      ],
      "execution_count": 89,
      "outputs": []
    },
    {
      "cell_type": "code",
      "metadata": {
        "id": "q1IjA697_XhL"
      },
      "source": [
        "regr_results_rfr= pd.DataFrame({'Id': regression_test['Id'], 'pop': pop_predictions_rfr})\n",
        "#regr_results_rfr \n"
      ],
      "execution_count": 90,
      "outputs": []
    },
    {
      "cell_type": "code",
      "metadata": {
        "id": "0WDeAyDa_XhM"
      },
      "source": [
        "#regr_results_rf= pd.DataFrame({'Id': regression_test['Id'], 'pop': pop_predictions_rfr})\n",
        "#regr_results_rf \n",
        "#regr_results_rf.to_csv('rf.csv', index = False) #### RMSE 8.45 in test set"
      ],
      "execution_count": 91,
      "outputs": []
    },
    {
      "cell_type": "markdown",
      "metadata": {
        "id": "DxjlhhLh_XhN"
      },
      "source": [
        "> Combining Random Forest Regressor with grid search for detecting the best estimator:"
      ]
    },
    {
      "cell_type": "code",
      "metadata": {
        "id": "UCecr0aX_XhO",
        "outputId": "9684b046-c4cb-4655-af0e-084a5e1546cc",
        "colab": {
          "base_uri": "https://localhost:8080/",
          "height": 370
        }
      },
      "source": [
        "from sklearn.model_selection import GridSearchCV\n",
        "\n",
        "param_grid = [\n",
        "    # try 12 (3×4) combinations of hyperparameters\n",
        "    {'n_estimators': [3, 10, 30], 'max_features': [2, 4, 6, 8]},\n",
        "    # then try 6 (2×3) combinations with bootstrap set as False\n",
        "    {'bootstrap': [False], 'n_estimators': [3, 10], 'max_features': [2, 3, 4]},\n",
        "  ]\n",
        "\n",
        "forest_reg = RandomForestRegressor(random_state=42)\n",
        "# train across 5 folds, that's a total of (12+6)*5=90 rounds of training \n",
        "grid_search = GridSearchCV(forest_reg, param_grid, cv=5,\n",
        "                           scoring='neg_mean_squared_error',\n",
        "                           return_train_score=True)\n",
        "grid_search.fit(spotify_final, spotify_labels)"
      ],
      "execution_count": 92,
      "outputs": [
        {
          "output_type": "execute_result",
          "data": {
            "text/plain": [
              "GridSearchCV(cv=5, error_score=nan,\n",
              "             estimator=RandomForestRegressor(bootstrap=True, ccp_alpha=0.0,\n",
              "                                             criterion='mse', max_depth=None,\n",
              "                                             max_features='auto',\n",
              "                                             max_leaf_nodes=None,\n",
              "                                             max_samples=None,\n",
              "                                             min_impurity_decrease=0.0,\n",
              "                                             min_impurity_split=None,\n",
              "                                             min_samples_leaf=1,\n",
              "                                             min_samples_split=2,\n",
              "                                             min_weight_fraction_leaf=0.0,\n",
              "                                             n_estimators=100, n_jobs=None,\n",
              "                                             oob_score=False, random_state=42,\n",
              "                                             verbose=0, warm_start=False),\n",
              "             iid='deprecated', n_jobs=None,\n",
              "             param_grid=[{'max_features': [2, 4, 6, 8],\n",
              "                          'n_estimators': [3, 10, 30]},\n",
              "                         {'bootstrap': [False], 'max_features': [2, 3, 4],\n",
              "                          'n_estimators': [3, 10]}],\n",
              "             pre_dispatch='2*n_jobs', refit=True, return_train_score=True,\n",
              "             scoring='neg_mean_squared_error', verbose=0)"
            ]
          },
          "metadata": {
            "tags": []
          },
          "execution_count": 92
        }
      ]
    },
    {
      "cell_type": "code",
      "metadata": {
        "id": "JDqxrY43_XhP",
        "outputId": "30d5a1ac-d497-49f7-d81a-e6dc317edd97",
        "colab": {
          "base_uri": "https://localhost:8080/",
          "height": 34
        }
      },
      "source": [
        "#best hyperparameter\n",
        "grid_search.best_params_"
      ],
      "execution_count": 93,
      "outputs": [
        {
          "output_type": "execute_result",
          "data": {
            "text/plain": [
              "{'max_features': 4, 'n_estimators': 30}"
            ]
          },
          "metadata": {
            "tags": []
          },
          "execution_count": 93
        }
      ]
    },
    {
      "cell_type": "code",
      "metadata": {
        "id": "0O0Ssasi_XhQ",
        "outputId": "317b69b6-71ce-4ef4-afce-c159fc50714f",
        "colab": {
          "base_uri": "https://localhost:8080/",
          "height": 134
        }
      },
      "source": [
        "\n",
        "grid_search.best_estimator_"
      ],
      "execution_count": 94,
      "outputs": [
        {
          "output_type": "execute_result",
          "data": {
            "text/plain": [
              "RandomForestRegressor(bootstrap=True, ccp_alpha=0.0, criterion='mse',\n",
              "                      max_depth=None, max_features=4, max_leaf_nodes=None,\n",
              "                      max_samples=None, min_impurity_decrease=0.0,\n",
              "                      min_impurity_split=None, min_samples_leaf=1,\n",
              "                      min_samples_split=2, min_weight_fraction_leaf=0.0,\n",
              "                      n_estimators=30, n_jobs=None, oob_score=False,\n",
              "                      random_state=42, verbose=0, warm_start=False)"
            ]
          },
          "metadata": {
            "tags": []
          },
          "execution_count": 94
        }
      ]
    },
    {
      "cell_type": "code",
      "metadata": {
        "id": "b7IKQ1yL_XhS"
      },
      "source": [
        "# score of each hyperparameter combination tested during the grid search"
      ],
      "execution_count": 95,
      "outputs": []
    },
    {
      "cell_type": "code",
      "metadata": {
        "id": "ld6sg7q9_XhT",
        "outputId": "560ff0ad-00d4-4c75-92f3-010f414ed4fa",
        "colab": {
          "base_uri": "https://localhost:8080/",
          "height": 319
        }
      },
      "source": [
        "cvres = grid_search.cv_results_\n",
        "for mean_score, params in zip(cvres[\"mean_test_score\"], cvres[\"params\"]):\n",
        "    print(np.sqrt(-mean_score), params)"
      ],
      "execution_count": 96,
      "outputs": [
        {
          "output_type": "stream",
          "text": [
            "12.383219353522529 {'max_features': 2, 'n_estimators': 3}\n",
            "11.217887381935927 {'max_features': 2, 'n_estimators': 10}\n",
            "11.005143365313957 {'max_features': 2, 'n_estimators': 30}\n",
            "12.947205027731584 {'max_features': 4, 'n_estimators': 3}\n",
            "11.223663080412425 {'max_features': 4, 'n_estimators': 10}\n",
            "10.913136155835995 {'max_features': 4, 'n_estimators': 30}\n",
            "12.3015220763169 {'max_features': 6, 'n_estimators': 3}\n",
            "11.150914229617594 {'max_features': 6, 'n_estimators': 10}\n",
            "10.955388378656467 {'max_features': 6, 'n_estimators': 30}\n",
            "12.716829105732653 {'max_features': 8, 'n_estimators': 3}\n",
            "11.412339550552026 {'max_features': 8, 'n_estimators': 10}\n",
            "10.94525161796656 {'max_features': 8, 'n_estimators': 30}\n",
            "12.733066036739569 {'bootstrap': False, 'max_features': 2, 'n_estimators': 3}\n",
            "11.516903765523196 {'bootstrap': False, 'max_features': 2, 'n_estimators': 10}\n",
            "12.361887218230702 {'bootstrap': False, 'max_features': 3, 'n_estimators': 3}\n",
            "11.502305932213844 {'bootstrap': False, 'max_features': 3, 'n_estimators': 10}\n",
            "12.172617062869957 {'bootstrap': False, 'max_features': 4, 'n_estimators': 3}\n",
            "11.691606853553997 {'bootstrap': False, 'max_features': 4, 'n_estimators': 10}\n"
          ],
          "name": "stdout"
        }
      ]
    },
    {
      "cell_type": "code",
      "metadata": {
        "id": "QWfcwR1D_XhU",
        "outputId": "a44efd01-b3ba-47a2-b9f8-2e86bd5af5a9",
        "colab": {
          "base_uri": "https://localhost:8080/",
          "height": 386
        }
      },
      "source": [
        "from sklearn.model_selection import RandomizedSearchCV\n",
        "from scipy.stats import randint\n",
        "\n",
        "param_distribs = {\n",
        "        'n_estimators': randint(low=1, high=200),\n",
        "        'max_features': randint(low=1, high=8),\n",
        "    }\n",
        "\n",
        "forest_reg = RandomForestRegressor(random_state=42)\n",
        "rnd_search = RandomizedSearchCV(forest_reg, param_distributions=param_distribs,\n",
        "                                n_iter=10, cv=5, scoring='neg_mean_squared_error', random_state=42)\n",
        "rnd_search.fit(spotify_final, spotify_labels)"
      ],
      "execution_count": 97,
      "outputs": [
        {
          "output_type": "execute_result",
          "data": {
            "text/plain": [
              "RandomizedSearchCV(cv=5, error_score=nan,\n",
              "                   estimator=RandomForestRegressor(bootstrap=True,\n",
              "                                                   ccp_alpha=0.0,\n",
              "                                                   criterion='mse',\n",
              "                                                   max_depth=None,\n",
              "                                                   max_features='auto',\n",
              "                                                   max_leaf_nodes=None,\n",
              "                                                   max_samples=None,\n",
              "                                                   min_impurity_decrease=0.0,\n",
              "                                                   min_impurity_split=None,\n",
              "                                                   min_samples_leaf=1,\n",
              "                                                   min_samples_split=2,\n",
              "                                                   min_weight_fraction_leaf=0.0,\n",
              "                                                   n_estimators=100,\n",
              "                                                   n_jobs=None, oob_score=Fals...\n",
              "                                                   warm_start=False),\n",
              "                   iid='deprecated', n_iter=10, n_jobs=None,\n",
              "                   param_distributions={'max_features': <scipy.stats._distn_infrastructure.rv_frozen object at 0x7f3b8f9d42b0>,\n",
              "                                        'n_estimators': <scipy.stats._distn_infrastructure.rv_frozen object at 0x7f3b8f9d4a58>},\n",
              "                   pre_dispatch='2*n_jobs', random_state=42, refit=True,\n",
              "                   return_train_score=False, scoring='neg_mean_squared_error',\n",
              "                   verbose=0)"
            ]
          },
          "metadata": {
            "tags": []
          },
          "execution_count": 97
        }
      ]
    },
    {
      "cell_type": "code",
      "metadata": {
        "id": "pDUpPo47_XhV",
        "outputId": "655ddb1e-e367-4641-809a-cb6006c90860",
        "colab": {
          "base_uri": "https://localhost:8080/",
          "height": 185
        }
      },
      "source": [
        "cvres = rnd_search.cv_results_\n",
        "for mean_score, params in zip(cvres[\"mean_test_score\"], cvres[\"params\"]):\n",
        "    print(np.sqrt(-mean_score), params)"
      ],
      "execution_count": 98,
      "outputs": [
        {
          "output_type": "stream",
          "text": [
            "10.932137346512953 {'max_features': 7, 'n_estimators': 180}\n",
            "11.247992606446317 {'max_features': 5, 'n_estimators': 15}\n",
            "10.928962335334413 {'max_features': 3, 'n_estimators': 72}\n",
            "11.14283989129418 {'max_features': 5, 'n_estimators': 21}\n",
            "10.979555482164821 {'max_features': 7, 'n_estimators': 122}\n",
            "10.917924974725016 {'max_features': 3, 'n_estimators': 75}\n",
            "10.899092779911264 {'max_features': 3, 'n_estimators': 88}\n",
            "11.057461974193934 {'max_features': 5, 'n_estimators': 100}\n",
            "10.86414888934659 {'max_features': 3, 'n_estimators': 150}\n",
            "13.48305317176799 {'max_features': 5, 'n_estimators': 2}\n"
          ],
          "name": "stdout"
        }
      ]
    },
    {
      "cell_type": "code",
      "metadata": {
        "id": "Qnv6xtzy_XhW",
        "outputId": "bf1a6d88-6222-4add-8e66-1a7493c30b47",
        "colab": {
          "base_uri": "https://localhost:8080/",
          "height": 403
        }
      },
      "source": [
        "feature_importances = grid_search.best_estimator_.feature_importances_\n",
        "feature_importances"
      ],
      "execution_count": 99,
      "outputs": [
        {
          "output_type": "execute_result",
          "data": {
            "text/plain": [
              "array([1.61648540e-01, 1.44375315e-01, 1.22679350e-01, 2.58018520e-01,\n",
              "       9.44003140e-04, 3.64759827e-02, 3.68142749e-03, 3.65187539e-03,\n",
              "       1.49905537e-02, 3.74416418e-03, 9.38764523e-05, 9.47993495e-04,\n",
              "       1.05670991e-03, 8.36366995e-03, 6.51774747e-03, 2.92896925e-04,\n",
              "       7.50615245e-03, 1.55081173e-03, 5.20038272e-03, 7.42769640e-04,\n",
              "       4.75156121e-03, 1.25623837e-04, 6.05366613e-04, 1.01618924e-03,\n",
              "       1.48041365e-03, 3.51050320e-03, 3.00897240e-03, 2.17709908e-04,\n",
              "       2.35593547e-03, 2.41891240e-02, 1.69273023e-04, 4.88611110e-03,\n",
              "       1.11909107e-03, 3.92162431e-03, 1.94086349e-03, 1.70971946e-02,\n",
              "       2.10892931e-03, 7.94692824e-04, 1.07677325e-03, 5.96499707e-04,\n",
              "       1.38486837e-03, 1.18973680e-03, 7.05575346e-04, 1.12750588e-03,\n",
              "       2.45686561e-03, 1.07856207e-03, 2.07002450e-03, 1.54262493e-03,\n",
              "       1.08461217e-04, 5.34840438e-04, 1.23894697e-03, 2.81676267e-03,\n",
              "       3.04296598e-03, 3.55826766e-04, 1.92413749e-03, 1.52433911e-02,\n",
              "       6.57138278e-03, 2.03305484e-02, 2.30638085e-04, 3.01865529e-03,\n",
              "       1.70894089e-03, 1.78875603e-03, 4.28667124e-03, 2.92808614e-03,\n",
              "       3.77000320e-03, 1.88961947e-03, 5.23821938e-03, 1.40023792e-03,\n",
              "       7.91730651e-05, 5.20755103e-04, 1.22372616e-03, 1.40986749e-03,\n",
              "       1.02999265e-02, 6.53993432e-04, 1.05981616e-03, 2.05551008e-03,\n",
              "       5.71635709e-04, 1.26677142e-03, 2.66514636e-03, 3.38734806e-04,\n",
              "       8.05898087e-03, 4.34183511e-04, 1.26111208e-03, 6.77243193e-03,\n",
              "       5.13995100e-03, 2.15239583e-03, 7.77686690e-04, 1.96781922e-03,\n",
              "       5.43737893e-04, 3.30859527e-03])"
            ]
          },
          "metadata": {
            "tags": []
          },
          "execution_count": 99
        }
      ]
    },
    {
      "cell_type": "code",
      "metadata": {
        "id": "VGuwpu8z_XhX"
      },
      "source": [
        "grid_model = grid_search.best_estimator_\n",
        "\n",
        "grid_model = grid_search.best_estimator_\n",
        "x_final=full_pipeline.transform(x)\n",
        "pop_predictions_grid= grid_model.predict(x_final)\n"
      ],
      "execution_count": 100,
      "outputs": []
    },
    {
      "cell_type": "code",
      "metadata": {
        "id": "FgQmgcVd_XhY"
      },
      "source": [
        "#pop_predictions_grid"
      ],
      "execution_count": 101,
      "outputs": []
    },
    {
      "cell_type": "code",
      "metadata": {
        "id": "yYnpJdzW_XhZ"
      },
      "source": [
        "regr_results_grid= pd.DataFrame({'Id': regression_test['Id'], 'pop': pop_predictions_grid})\n",
        "#regr_results_grid \n",
        "#****************************************************************************************************\n",
        "#****************************************************************************************************\n",
        "## 8.11\n",
        "#regr_results_grid.to_csv('gr.csv', index = False)"
      ],
      "execution_count": 102,
      "outputs": []
    },
    {
      "cell_type": "markdown",
      "metadata": {
        "id": "gjyffVbZ_Xha"
      },
      "source": [
        "### Stochastic Gradient Descent (SGD) Regressor\n",
        "\n",
        "> Gradient Descent is a different way of training a linear regression model, which is better suited for cases where there is a large number of features or too many training instances to fit in memory. Here, none of these hold true, however, we are going to try it:\n",
        "\n",
        "> The main idea here is to tweak SGD's parameters iteratively in order to minimise the cost function.\n",
        "\n",
        ">> Performing SGD linear regression using SGDRegressor(): maximum epochs= 1000, or until the loss drops less than 0.001 (eta=1e-3), default learning scedule, does not use regularisation (penalty=none) and learning rate \"η\"(eta)=0.1"
      ]
    },
    {
      "cell_type": "code",
      "metadata": {
        "id": "FXePiMPw_Xha",
        "outputId": "bf11333f-e99f-46d6-efed-256f170f4b2a",
        "colab": {
          "base_uri": "https://localhost:8080/",
          "height": 118
        }
      },
      "source": [
        "from sklearn.linear_model import SGDRegressor\n",
        "sgd_regressor= SGDRegressor(max_iter=1000, tol=1e-3, penalty=None, eta0=0.1, random_state=42)\n",
        "sgd_regressor.fit(spotify_final, spotify_labels)\n"
      ],
      "execution_count": 103,
      "outputs": [
        {
          "output_type": "execute_result",
          "data": {
            "text/plain": [
              "SGDRegressor(alpha=0.0001, average=False, early_stopping=False, epsilon=0.1,\n",
              "             eta0=0.1, fit_intercept=True, l1_ratio=0.15,\n",
              "             learning_rate='invscaling', loss='squared_loss', max_iter=1000,\n",
              "             n_iter_no_change=5, penalty=None, power_t=0.25, random_state=42,\n",
              "             shuffle=True, tol=0.001, validation_fraction=0.1, verbose=0,\n",
              "             warm_start=False)"
            ]
          },
          "metadata": {
            "tags": []
          },
          "execution_count": 103
        }
      ]
    },
    {
      "cell_type": "code",
      "metadata": {
        "id": "_NJHuKXX_Xhd"
      },
      "source": [
        "sgd_pop_predictions= sgd_regressor.predict(x_final)"
      ],
      "execution_count": 104,
      "outputs": []
    },
    {
      "cell_type": "markdown",
      "metadata": {
        "id": "GyUgrBUa_Xhd"
      },
      "source": [
        "> As we can notice (rmse in test data=16.88) SGD is not appropriate here"
      ]
    },
    {
      "cell_type": "code",
      "metadata": {
        "id": "caZcYvmp_Xhe"
      },
      "source": [
        "\n",
        "#regr_results= pd.DataFrame({'Id': regression_test['Id'], 'pop': sgd_pop_predictions})\n",
        "#regr_results \n",
        "#regr_results.to_csv('-&-.csv', index = False)\n",
        "#rmse = 16.88"
      ],
      "execution_count": 105,
      "outputs": []
    },
    {
      "cell_type": "markdown",
      "metadata": {
        "id": "owQpX3ms_Xhg"
      },
      "source": [
        "### Polynomial Features"
      ]
    },
    {
      "cell_type": "code",
      "metadata": {
        "id": "Q9po6-CU_Xhg"
      },
      "source": [
        "from sklearn.preprocessing import PolynomialFeatures\n",
        "poly_features= PolynomialFeatures(degree=2, include_bias=False)\n",
        "X_poly= poly_features.fit_transform(spotify_final)"
      ],
      "execution_count": 106,
      "outputs": []
    },
    {
      "cell_type": "code",
      "metadata": {
        "id": "HCYF-K7C_Xhh",
        "outputId": "247608ee-db2b-4649-8607-4b996147fb32",
        "colab": {
          "base_uri": "https://localhost:8080/",
          "height": 34
        }
      },
      "source": [
        "lin_reg=LinearRegression()\n",
        "lin_reg.fit(X_poly, spotify_labels)"
      ],
      "execution_count": 107,
      "outputs": [
        {
          "output_type": "execute_result",
          "data": {
            "text/plain": [
              "LinearRegression(copy_X=True, fit_intercept=True, n_jobs=None, normalize=False)"
            ]
          },
          "metadata": {
            "tags": []
          },
          "execution_count": 107
        }
      ]
    },
    {
      "cell_type": "code",
      "metadata": {
        "id": "rInlpHdn_Xhj"
      },
      "source": [
        "Y_poly= poly_features.fit_transform(x_final)"
      ],
      "execution_count": 108,
      "outputs": []
    },
    {
      "cell_type": "code",
      "metadata": {
        "id": "RBSVo3kz_Xhj"
      },
      "source": [
        "poly_pop_predictions= lin_reg.predict(Y_poly)"
      ],
      "execution_count": 109,
      "outputs": []
    },
    {
      "cell_type": "markdown",
      "metadata": {
        "id": "33DyJwhD_Xhk"
      },
      "source": [
        "> As exprected, using high-degree polynomial would not prevent the training data from overfitting the test data"
      ]
    },
    {
      "cell_type": "code",
      "metadata": {
        "id": "xukKBsCl_Xhk"
      },
      "source": [
        "#regr_results= pd.DataFrame({'Id': regression_test['Id'], 'pop': poly_pop_predictions})\n",
        "#regr_results \n",
        "#regr_results.to_csv('dwe.csv', index = False)\n",
        "# rmse = 16.23"
      ],
      "execution_count": 110,
      "outputs": []
    },
    {
      "cell_type": "markdown",
      "metadata": {
        "id": "UJeLODMz_Xhl"
      },
      "source": [
        "### SVM Linear Regression\n",
        "\n",
        "> SVM in general can perform linear and non-linear regression, classification and outlier detection. \n",
        "\n",
        ">> C: hyperparameter of the model\n",
        "\n",
        "Using Support Vector Regressor with kerner='linear':\n"
      ]
    },
    {
      "cell_type": "code",
      "metadata": {
        "id": "g2fV0x-C_Xhl",
        "outputId": "0003b3ef-e89c-44d4-878e-282408de3617",
        "colab": {
          "base_uri": "https://localhost:8080/",
          "height": 34
        }
      },
      "source": [
        "from sklearn.svm import SVR\n",
        "svm_reg = SVR(kernel=\"linear\")\n",
        "svm_reg.fit(spotify_final, spotify_labels)\n",
        "pop_predictions = svm_reg.predict(spotify_final)\n",
        "svm_mse = mean_squared_error(spotify_labels, pop_predictions)\n",
        "svm_rmse = np.sqrt(svm_mse)\n",
        "svm_rmse"
      ],
      "execution_count": 111,
      "outputs": [
        {
          "output_type": "execute_result",
          "data": {
            "text/plain": [
              "11.068332226463323"
            ]
          },
          "metadata": {
            "tags": []
          },
          "execution_count": 111
        }
      ]
    },
    {
      "cell_type": "markdown",
      "metadata": {
        "id": "Y7v2sa5f_Xhm"
      },
      "source": [
        "Setting epsilon=1.5.Epsilon specifies the epsilon-tube within which no penalty is associated in the training loss function with points predicted within a distance epsilon from the actual value"
      ]
    },
    {
      "cell_type": "code",
      "metadata": {
        "id": "gRN5RYyZ_Xhm",
        "outputId": "5e27dc28-45b8-4c0e-c73f-727c1a170b4d",
        "colab": {
          "base_uri": "https://localhost:8080/",
          "height": 67
        }
      },
      "source": [
        "from sklearn.svm import LinearSVR\n",
        "\n",
        "svm_reg= LinearSVR(epsilon=1.5, random_state=42)\n",
        "\n",
        "svm_reg.fit(spotify_final, spotify_labels)"
      ],
      "execution_count": 112,
      "outputs": [
        {
          "output_type": "execute_result",
          "data": {
            "text/plain": [
              "LinearSVR(C=1.0, dual=True, epsilon=1.5, fit_intercept=True,\n",
              "          intercept_scaling=1.0, loss='epsilon_insensitive', max_iter=1000,\n",
              "          random_state=42, tol=0.0001, verbose=0)"
            ]
          },
          "metadata": {
            "tags": []
          },
          "execution_count": 112
        }
      ]
    },
    {
      "cell_type": "code",
      "metadata": {
        "id": "uvn-LdWX_Xho"
      },
      "source": [
        "svm_pop_predictions= svm_reg.predict(x_final)"
      ],
      "execution_count": 113,
      "outputs": []
    },
    {
      "cell_type": "code",
      "metadata": {
        "id": "G2nfiIft_Xho"
      },
      "source": [
        "regr_results= pd.DataFrame({'Id': regression_test['Id'], 'pop': svm_pop_predictions})\n",
        "#regr_results \n",
        "#regr_results.to_csv('-&-.csv', index = False)\n",
        "#rmse = 8.84!! but still is < 8.11 of grid search"
      ],
      "execution_count": 114,
      "outputs": []
    },
    {
      "cell_type": "code",
      "metadata": {
        "id": "pCBVkBRp_Xhp",
        "outputId": "f2fbdc4c-0817-47b5-9b52-cb427a5fe262",
        "colab": {
          "base_uri": "https://localhost:8080/",
          "height": 84
        }
      },
      "source": [
        "from sklearn.model_selection import cross_val_score\n",
        "\n",
        "scores = cross_val_score(svm_reg, spotify_final, spotify_labels,\n",
        "                         scoring=\"neg_mean_squared_error\", cv=10)\n",
        "\n",
        "svm_reg_scores = np.sqrt(-scores)\n",
        "# the scoring function is the opposite of the MSE so that's why we use '-scores'\n",
        "svm_reg_scores\n",
        "def display_svm_reg_scores(svm_reg_scores):\n",
        "    print(\"Scores:\", svm_reg_scores)\n",
        "    print(\"Mean:\", svm_reg_scores.mean())\n",
        "    print(\"Standard deviation:\", svm_reg_scores.std())\n",
        "\n",
        "display_svm_reg_scores(svm_reg_scores)"
      ],
      "execution_count": 115,
      "outputs": [
        {
          "output_type": "stream",
          "text": [
            "Scores: [12.36296705 10.25967568 10.28127194  9.37452668 11.86417118 13.69392283\n",
            " 12.51262187 11.35382883 13.77837387 11.52250564]\n",
            "Mean: 11.70038655662791\n",
            "Standard deviation: 1.3808940879572456\n"
          ],
          "name": "stdout"
        }
      ]
    },
    {
      "cell_type": "code",
      "metadata": {
        "id": "m9oXEwLH_Xhr"
      },
      "source": [
        "svm_reg= LinearSVR(epsilon=1.5, random_state=42, C=12)\n",
        "\n",
        "svm_reg.fit(spotify_final, spotify_labels)\n",
        "svm_pop_predictions= svm_reg.predict(x_final)"
      ],
      "execution_count": 116,
      "outputs": []
    },
    {
      "cell_type": "markdown",
      "metadata": {
        "id": "DaUUlLsM_Xht"
      },
      "source": [
        "> Cross Evaluation using cross_val_svore"
      ]
    },
    {
      "cell_type": "code",
      "metadata": {
        "id": "RfEUAe5__Xhu",
        "outputId": "4964f7a2-0d85-439d-df28-61ac1853af9f",
        "colab": {
          "base_uri": "https://localhost:8080/",
          "height": 84
        }
      },
      "source": [
        "from sklearn.model_selection import cross_val_score\n",
        "\n",
        "scores = cross_val_score(svm_reg, spotify_final, spotify_labels,\n",
        "                         scoring=\"neg_mean_squared_error\", cv=10)\n",
        "\n",
        "svm_reg_scores = np.sqrt(-scores)\n",
        "# the scoring function is the opposite of the MSE so that's why we use '-scores'\n",
        "svm_reg_scores\n",
        "def display_svm_reg_scores(svm_reg_scores):\n",
        "    print(\"Scores:\", svm_reg_scores)\n",
        "    print(\"Mean:\", svm_reg_scores.mean())\n",
        "    print(\"Standard deviation:\", svm_reg_scores.std())\n",
        "\n",
        "display_svm_reg_scores(svm_reg_scores)\n",
        "\n"
      ],
      "execution_count": 117,
      "outputs": [
        {
          "output_type": "stream",
          "text": [
            "Scores: [11.88359404 10.24226385 11.92752877  8.08302455 12.39766512 14.15652718\n",
            " 11.33030857 10.32086725 12.3463123  11.33984073]\n",
            "Mean: 11.402793233150796\n",
            "Standard deviation: 1.5335266282555353\n"
          ],
          "name": "stdout"
        }
      ]
    },
    {
      "cell_type": "code",
      "metadata": {
        "id": "0QLTVC05_Xhw"
      },
      "source": [
        "regr_results= pd.DataFrame({'Id': regression_test['Id'], 'pop': svm_pop_predictions})\n",
        "#regr_results \n",
        "#regr_results.to_csv('-&-.csv', index = False)\n",
        "\n",
        "#***************************************************************************************************************\n",
        "#rmse = 7.86967 So far the 2nd best model \n",
        "#***************************************************************************************************************"
      ],
      "execution_count": 118,
      "outputs": []
    },
    {
      "cell_type": "markdown",
      "metadata": {
        "id": "i4QVD_Vr_Xhx"
      },
      "source": [
        "### LinearSVR with an RBF kernel\n",
        "> Using randomised search with cross validation to find the appropriate hyperparameter values for C and gamma:"
      ]
    },
    {
      "cell_type": "code",
      "metadata": {
        "id": "C3gahI91_Xhx",
        "outputId": "d09288b8-c015-49fc-c78e-6312ac9f8ab8",
        "colab": {
          "base_uri": "https://localhost:8080/",
          "height": 67
        }
      },
      "source": [
        "from sklearn.svm import LinearSVR\n",
        "\n",
        "lin_svr = LinearSVR(random_state=42)\n",
        "lin_svr.fit(spotify_final, spotify_labels)"
      ],
      "execution_count": 119,
      "outputs": [
        {
          "output_type": "execute_result",
          "data": {
            "text/plain": [
              "LinearSVR(C=1.0, dual=True, epsilon=0.0, fit_intercept=True,\n",
              "          intercept_scaling=1.0, loss='epsilon_insensitive', max_iter=1000,\n",
              "          random_state=42, tol=0.0001, verbose=0)"
            ]
          },
          "metadata": {
            "tags": []
          },
          "execution_count": 119
        }
      ]
    },
    {
      "cell_type": "code",
      "metadata": {
        "id": "0qAiGSfY_Xhy"
      },
      "source": [
        "pop_pred=lin_svr.predict(x_final)\n",
        "#len(pop_pred)"
      ],
      "execution_count": 120,
      "outputs": []
    },
    {
      "cell_type": "code",
      "metadata": {
        "id": "cLMJ3mWF_Xhz",
        "outputId": "9aa611fb-b192-4c30-8f2b-7d85f7c46b3e",
        "colab": {
          "base_uri": "https://localhost:8080/",
          "height": 1000
        }
      },
      "source": [
        "from sklearn.svm import SVR\n",
        "from sklearn.model_selection import RandomizedSearchCV\n",
        "from scipy.stats import reciprocal, uniform\n",
        "\n",
        "param_distributions = {\"gamma\": reciprocal(0.001, 0.1), \"C\": uniform(1, 15)}\n",
        "rnd_search_cv = RandomizedSearchCV(SVR(), param_distributions, n_iter=10, verbose=2, cv=3, random_state=42)\n",
        "rnd_search_cv.fit(spotify_final, spotify_labels)"
      ],
      "execution_count": 121,
      "outputs": [
        {
          "output_type": "stream",
          "text": [
            "Fitting 3 folds for each of 10 candidates, totalling 30 fits\n",
            "[CV] C=6.618101782710437, gamma=0.07969454818643928 ..................\n",
            "[CV] ... C=6.618101782710437, gamma=0.07969454818643928, total=   0.0s\n",
            "[CV] C=6.618101782710437, gamma=0.07969454818643928 ..................\n",
            "[CV] ... C=6.618101782710437, gamma=0.07969454818643928, total=   0.0s\n",
            "[CV] C=6.618101782710437, gamma=0.07969454818643928 ..................\n",
            "[CV] ... C=6.618101782710437, gamma=0.07969454818643928, total=   0.0s\n",
            "[CV] C=11.979909127171076, gamma=0.015751320499779724 ................\n",
            "[CV] . C=11.979909127171076, gamma=0.015751320499779724, total=   0.0s\n",
            "[CV] C=11.979909127171076, gamma=0.015751320499779724 ................\n",
            "[CV] . C=11.979909127171076, gamma=0.015751320499779724, total=   0.0s\n",
            "[CV] C=11.979909127171076, gamma=0.015751320499779724 ................\n",
            "[CV] . C=11.979909127171076, gamma=0.015751320499779724, total=   0.0s\n",
            "[CV] C=3.340279606636548, gamma=0.002051110418843397 .................\n",
            "[CV] .. C=3.340279606636548, gamma=0.002051110418843397, total=   0.0s\n",
            "[CV] C=3.340279606636548, gamma=0.002051110418843397 .................\n",
            "[CV] .. C=3.340279606636548, gamma=0.002051110418843397, total=   0.0s\n",
            "[CV] C=3.340279606636548, gamma=0.002051110418843397 .................\n",
            "[CV] .. C=3.340279606636548, gamma=0.002051110418843397, total=   0.0s\n",
            "[CV] C=1.8712541825229918, gamma=0.05399484409787431 .................\n",
            "[CV] .. C=1.8712541825229918, gamma=0.05399484409787431, total=   0.0s\n",
            "[CV] C=1.8712541825229918, gamma=0.05399484409787431 .................\n",
            "[CV] .. C=1.8712541825229918, gamma=0.05399484409787431, total=   0.0s\n",
            "[CV] C=1.8712541825229918, gamma=0.05399484409787431 .................\n",
            "[CV] .. C=1.8712541825229918, gamma=0.05399484409787431, total=   0.0s\n",
            "[CV] C=10.016725176148132, gamma=0.026070247583707663 ................\n"
          ],
          "name": "stdout"
        },
        {
          "output_type": "stream",
          "text": [
            "[Parallel(n_jobs=1)]: Using backend SequentialBackend with 1 concurrent workers.\n",
            "[Parallel(n_jobs=1)]: Done   1 out of   1 | elapsed:    0.0s remaining:    0.0s\n"
          ],
          "name": "stderr"
        },
        {
          "output_type": "stream",
          "text": [
            "[CV] . C=10.016725176148132, gamma=0.026070247583707663, total=   0.0s\n",
            "[CV] C=10.016725176148132, gamma=0.026070247583707663 ................\n",
            "[CV] . C=10.016725176148132, gamma=0.026070247583707663, total=   0.0s\n",
            "[CV] C=10.016725176148132, gamma=0.026070247583707663 ................\n",
            "[CV] . C=10.016725176148132, gamma=0.026070247583707663, total=   0.0s\n",
            "[CV] C=1.3087674144370367, gamma=0.0870602087830485 ..................\n",
            "[CV] ... C=1.3087674144370367, gamma=0.0870602087830485, total=   0.0s\n",
            "[CV] C=1.3087674144370367, gamma=0.0870602087830485 ..................\n",
            "[CV] ... C=1.3087674144370367, gamma=0.0870602087830485, total=   0.0s\n",
            "[CV] C=1.3087674144370367, gamma=0.0870602087830485 ..................\n",
            "[CV] ... C=1.3087674144370367, gamma=0.0870602087830485, total=   0.0s\n",
            "[CV] C=13.486639612006327, gamma=0.0026587543983272693 ...............\n",
            "[CV]  C=13.486639612006327, gamma=0.0026587543983272693, total=   0.0s\n",
            "[CV] C=13.486639612006327, gamma=0.0026587543983272693 ...............\n",
            "[CV]  C=13.486639612006327, gamma=0.0026587543983272693, total=   0.0s\n",
            "[CV] C=13.486639612006327, gamma=0.0026587543983272693 ...............\n",
            "[CV]  C=13.486639612006327, gamma=0.0026587543983272693, total=   0.0s\n",
            "[CV] C=3.727374508106509, gamma=0.0023270677083837795 ................\n",
            "[CV] . C=3.727374508106509, gamma=0.0023270677083837795, total=   0.0s\n",
            "[CV] C=3.727374508106509, gamma=0.0023270677083837795 ................\n",
            "[CV] . C=3.727374508106509, gamma=0.0023270677083837795, total=   0.0s\n",
            "[CV] C=3.727374508106509, gamma=0.0023270677083837795 ................\n",
            "[CV] . C=3.727374508106509, gamma=0.0023270677083837795, total=   0.0s\n",
            "[CV] C=5.563633644393066, gamma=0.011207606211860567 .................\n",
            "[CV] .. C=5.563633644393066, gamma=0.011207606211860567, total=   0.0s\n",
            "[CV] C=5.563633644393066, gamma=0.011207606211860567 .................\n",
            "[CV] .. C=5.563633644393066, gamma=0.011207606211860567, total=   0.0s\n",
            "[CV] C=5.563633644393066, gamma=0.011207606211860567 .................\n",
            "[CV] .. C=5.563633644393066, gamma=0.011207606211860567, total=   0.0s\n",
            "[CV] C=7.479175279631736, gamma=0.003823475224675185 .................\n",
            "[CV] .. C=7.479175279631736, gamma=0.003823475224675185, total=   0.0s\n",
            "[CV] C=7.479175279631736, gamma=0.003823475224675185 .................\n",
            "[CV] .. C=7.479175279631736, gamma=0.003823475224675185, total=   0.0s\n",
            "[CV] C=7.479175279631736, gamma=0.003823475224675185 .................\n",
            "[CV] .. C=7.479175279631736, gamma=0.003823475224675185, total=   0.0s\n"
          ],
          "name": "stdout"
        },
        {
          "output_type": "stream",
          "text": [
            "[Parallel(n_jobs=1)]: Done  30 out of  30 | elapsed:    0.4s finished\n"
          ],
          "name": "stderr"
        },
        {
          "output_type": "execute_result",
          "data": {
            "text/plain": [
              "RandomizedSearchCV(cv=3, error_score=nan,\n",
              "                   estimator=SVR(C=1.0, cache_size=200, coef0=0.0, degree=3,\n",
              "                                 epsilon=0.1, gamma='scale', kernel='rbf',\n",
              "                                 max_iter=-1, shrinking=True, tol=0.001,\n",
              "                                 verbose=False),\n",
              "                   iid='deprecated', n_iter=10, n_jobs=None,\n",
              "                   param_distributions={'C': <scipy.stats._distn_infrastructure.rv_frozen object at 0x7f3b8fa9c320>,\n",
              "                                        'gamma': <scipy.stats._distn_infrastructure.rv_frozen object at 0x7f3b8fa9c0f0>},\n",
              "                   pre_dispatch='2*n_jobs', random_state=42, refit=True,\n",
              "                   return_train_score=False, scoring=None, verbose=2)"
            ]
          },
          "metadata": {
            "tags": []
          },
          "execution_count": 121
        }
      ]
    },
    {
      "cell_type": "code",
      "metadata": {
        "id": "qn2hREOh_Xh0",
        "outputId": "72381bc2-7ea6-41b7-ce83-92c331004e84",
        "colab": {
          "base_uri": "https://localhost:8080/",
          "height": 67
        }
      },
      "source": [
        "rnd_search_cv.best_estimator_"
      ],
      "execution_count": 122,
      "outputs": [
        {
          "output_type": "execute_result",
          "data": {
            "text/plain": [
              "SVR(C=6.618101782710437, cache_size=200, coef0=0.0, degree=3, epsilon=0.1,\n",
              "    gamma=0.07969454818643928, kernel='rbf', max_iter=-1, shrinking=True,\n",
              "    tol=0.001, verbose=False)"
            ]
          },
          "metadata": {
            "tags": []
          },
          "execution_count": 122
        }
      ]
    },
    {
      "cell_type": "code",
      "metadata": {
        "id": "uVykcJXi_Xh1"
      },
      "source": [
        "pop_pred = rnd_search_cv.best_estimator_.predict(x_final)"
      ],
      "execution_count": 123,
      "outputs": []
    },
    {
      "cell_type": "code",
      "metadata": {
        "id": "GmkfSG5d_Xh2"
      },
      "source": [
        "regr_results= pd.DataFrame({'Id': regression_test['Id'], 'pop': pop_pred})\n",
        "#regr_results \n",
        "#regr_results.to_csv('cc.csv', index = False)\n",
        "#***************************************************************************************************************\n",
        "\n",
        "# RMSE in test: 7.83639. So far the best model \n",
        "#***************************************************************************************************************"
      ],
      "execution_count": 124,
      "outputs": []
    },
    {
      "cell_type": "code",
      "metadata": {
        "id": "D6lBOv7K_Xh5"
      },
      "source": [
        "spotify_final_dense= spotify_final.toarray()\n",
        "x_final_dense= x_final.toarray()"
      ],
      "execution_count": 125,
      "outputs": []
    },
    {
      "cell_type": "markdown",
      "metadata": {
        "id": "bB62sUme_Xh5"
      },
      "source": [
        "### Gradient Boosting Regressor\n",
        "\n",
        "> Boosting hypothesis refers to any Ensemble method that can combine several weak learners into a strong learner: It works by sequentially adding predictors to an ensemble, each one correcting its predecessor (popular methods: Adaptive Boost, Gradient Boosting). They are both suitable for regression and classification.\n",
        "\n",
        "> Gradient Boosting Regressor works by adding predictos to an ensemble, each one correcting its predecessor, by fitting the new predictor to the residual errors made by the previous predictor (and not by increasing the relative weight of misclassified training instances as in Adaboost).\n",
        ">> n_estimators= numbers of trees\n"
      ]
    },
    {
      "cell_type": "markdown",
      "metadata": {
        "id": "RIzajjX0_Xh6"
      },
      "source": [
        ">> max_depth, min_samples_leaf: hyperparameters controlling the growth of Desicion Trees"
      ]
    },
    {
      "cell_type": "code",
      "metadata": {
        "id": "R0YfUHD__Xh6"
      },
      "source": [
        "from sklearn.ensemble import GradientBoostingRegressor\n",
        "\n",
        "gbr= GradientBoostingRegressor(max_depth=2, n_estimators=100, learning_rate=0.1, random_state=42)\n",
        "gbr.fit(spotify_final_dense, spotify_labels)\n",
        "pop_predictions_gbr= gbr.predict(x_final_dense)"
      ],
      "execution_count": 126,
      "outputs": []
    },
    {
      "cell_type": "code",
      "metadata": {
        "id": "-BjfAwMR_Xh-"
      },
      "source": [
        "regr_results= pd.DataFrame({'Id': regression_test['Id'], 'pop': pop_predictions_gbr})\n",
        "#regr_results \n",
        "#regr_results.to_csv('gb.csv', index = False)\n",
        "#rmse= 8.9"
      ],
      "execution_count": 127,
      "outputs": []
    },
    {
      "cell_type": "markdown",
      "metadata": {
        "id": "4xU1EBm2_Xh_"
      },
      "source": [
        "### XGBoost\n",
        "> Extreme Gradient Boosting (Optimised Implementation of Gradient Boosting)"
      ]
    },
    {
      "cell_type": "code",
      "metadata": {
        "id": "hGBsM0D1_Xh_"
      },
      "source": [
        "import xgboost"
      ],
      "execution_count": 128,
      "outputs": []
    },
    {
      "cell_type": "markdown",
      "metadata": {
        "id": "vfKfEfgh_XiA"
      },
      "source": [
        "> It requires dense arrays:"
      ]
    },
    {
      "cell_type": "code",
      "metadata": {
        "id": "_E6e_hOc_XiB",
        "outputId": "19797fa1-611e-44b7-b6ee-e025ec3ef4c8",
        "colab": {
          "base_uri": "https://localhost:8080/",
          "height": 34
        }
      },
      "source": [
        "xgb_reg = xgboost.XGBRegressor(random_state=42)\n",
        "xgb_reg.fit(spotify_final_dense, spotify_labels)\n",
        "pop_predictions_gb= xgb_reg.predict(x_final_dense)"
      ],
      "execution_count": 129,
      "outputs": [
        {
          "output_type": "stream",
          "text": [
            "[16:36:48] WARNING: /workspace/src/objective/regression_obj.cu:152: reg:linear is now deprecated in favor of reg:squarederror.\n"
          ],
          "name": "stdout"
        }
      ]
    },
    {
      "cell_type": "code",
      "metadata": {
        "id": "nBmsKyuc_XiC"
      },
      "source": [
        "regr_results= pd.DataFrame({'Id': regression_test['Id'], 'pop': pop_predictions_gb})\n",
        "#regr_results \n",
        "#regr_results.to_csv('cc.csv', index = False)\n",
        "# RMSE= 8.1 "
      ],
      "execution_count": 130,
      "outputs": []
    },
    {
      "cell_type": "markdown",
      "metadata": {
        "id": "PaxXRt7Q_XiD"
      },
      "source": [
        "As we can see above, indeed it performed quite better than Gradient Boosting, but still is not the best model overall."
      ]
    },
    {
      "cell_type": "markdown",
      "metadata": {
        "id": "QKT43fV-_XiD"
      },
      "source": [
        "### Reflection on Regression:\n",
        "\n",
        "Overall, the best models seemed to be: Linear SVM using best estimator (RMSE=7.836 in kaggle's test set) which gave us the best parametres (such as gamma and C) for this model. Xboost Regressor follows reaching 8.1 while Random Forest Regressor along with grid search gave RMSE 8.11.\n",
        "\n",
        "In many cases the models were overfitting the test data. This can be solved with several ways such as:\n",
        "- gathering more training data (indeed, this dataset can be considered quite small)\n",
        "- implementing better feature engineering such as proceeding to better feature selection and/or introducing new columns in the dataset which would reflect potentially important feature relationships.\n",
        "- Undersampling and removal of outliers and noise\n",
        "                                                                        \n",
        "                                                                        "
      ]
    }
  ]
}